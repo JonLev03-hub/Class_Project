{
 "cells": [
  {
   "cell_type": "code",
   "execution_count": 17,
   "id": "da105bc7",
   "metadata": {},
   "outputs": [],
   "source": [
    "# Initial imports.\n",
    "import pandas as pd\n",
    "import numpy as np\n",
    "from path import Path\n",
    "from sklearn.ensemble import RandomForestRegressor\n",
    "from sklearn.datasets import make_regression\n",
    "from sklearn.preprocessing import StandardScaler\n",
    "from sklearn.model_selection import train_test_split\n",
    "from sklearn.metrics import confusion_matrix, accuracy_score, classification_report\n",
    "from sklearn.tree import export_graphviz\n",
    "import sqlite3"
   ]
  },
  {
   "cell_type": "code",
   "execution_count": 18,
   "id": "80f26ca1",
   "metadata": {},
   "outputs": [
    {
     "data": {
      "text/html": [
       "<div>\n",
       "<style scoped>\n",
       "    .dataframe tbody tr th:only-of-type {\n",
       "        vertical-align: middle;\n",
       "    }\n",
       "\n",
       "    .dataframe tbody tr th {\n",
       "        vertical-align: top;\n",
       "    }\n",
       "\n",
       "    .dataframe thead th {\n",
       "        text-align: right;\n",
       "    }\n",
       "</style>\n",
       "<table border=\"1\" class=\"dataframe\">\n",
       "  <thead>\n",
       "    <tr style=\"text-align: right;\">\n",
       "      <th></th>\n",
       "      <th>Unnamed: 0</th>\n",
       "      <th>Coc</th>\n",
       "      <th>CoC Category</th>\n",
       "      <th>TotalBeds</th>\n",
       "      <th>Emergency</th>\n",
       "      <th>Transitional</th>\n",
       "      <th>SafeHaven</th>\n",
       "      <th>RapidRehousing</th>\n",
       "      <th>PermanentSupportive</th>\n",
       "      <th>PermanentOther</th>\n",
       "      <th>Year</th>\n",
       "      <th>CocYear</th>\n",
       "      <th>TotalHomeless</th>\n",
       "      <th>Unsheltered</th>\n",
       "      <th>Sheltered</th>\n",
       "      <th>Population</th>\n",
       "      <th>Unemployment</th>\n",
       "    </tr>\n",
       "  </thead>\n",
       "  <tbody>\n",
       "    <tr>\n",
       "      <th>0</th>\n",
       "      <td>0</td>\n",
       "      <td>AK-500</td>\n",
       "      <td>Other Largely Urban CoC</td>\n",
       "      <td>1033</td>\n",
       "      <td>799</td>\n",
       "      <td>234</td>\n",
       "      <td>0</td>\n",
       "      <td>171</td>\n",
       "      <td>601</td>\n",
       "      <td>71</td>\n",
       "      <td>2019</td>\n",
       "      <td>AK-500 2019</td>\n",
       "      <td>1111</td>\n",
       "      <td>97</td>\n",
       "      <td>1014</td>\n",
       "      <td>288000</td>\n",
       "      <td>4.4</td>\n",
       "    </tr>\n",
       "    <tr>\n",
       "      <th>1</th>\n",
       "      <td>1</td>\n",
       "      <td>AK-500</td>\n",
       "      <td>Other Largely Urban CoC</td>\n",
       "      <td>1028</td>\n",
       "      <td>749</td>\n",
       "      <td>279</td>\n",
       "      <td>0</td>\n",
       "      <td>125</td>\n",
       "      <td>604</td>\n",
       "      <td>71</td>\n",
       "      <td>2018</td>\n",
       "      <td>AK-500 2018</td>\n",
       "      <td>1094</td>\n",
       "      <td>94</td>\n",
       "      <td>1000</td>\n",
       "      <td>290521</td>\n",
       "      <td>5.0</td>\n",
       "    </tr>\n",
       "    <tr>\n",
       "      <th>2</th>\n",
       "      <td>2</td>\n",
       "      <td>AK-500</td>\n",
       "      <td>Other Largely Urban CoC</td>\n",
       "      <td>1023</td>\n",
       "      <td>597</td>\n",
       "      <td>426</td>\n",
       "      <td>0</td>\n",
       "      <td>43</td>\n",
       "      <td>571</td>\n",
       "      <td>71</td>\n",
       "      <td>2017</td>\n",
       "      <td>AK-500 2017</td>\n",
       "      <td>1128</td>\n",
       "      <td>155</td>\n",
       "      <td>973</td>\n",
       "      <td>294338</td>\n",
       "      <td>5.4</td>\n",
       "    </tr>\n",
       "    <tr>\n",
       "      <th>3</th>\n",
       "      <td>3</td>\n",
       "      <td>AK-500</td>\n",
       "      <td>Other Largely Urban CoC</td>\n",
       "      <td>1007</td>\n",
       "      <td>553</td>\n",
       "      <td>454</td>\n",
       "      <td>0</td>\n",
       "      <td>55</td>\n",
       "      <td>434</td>\n",
       "      <td>97</td>\n",
       "      <td>2016</td>\n",
       "      <td>AK-500 2016</td>\n",
       "      <td>1105</td>\n",
       "      <td>240</td>\n",
       "      <td>865</td>\n",
       "      <td>297249</td>\n",
       "      <td>5.3</td>\n",
       "    </tr>\n",
       "    <tr>\n",
       "      <th>4</th>\n",
       "      <td>4</td>\n",
       "      <td>AK-500</td>\n",
       "      <td>Other Largely Urban CoC</td>\n",
       "      <td>1019</td>\n",
       "      <td>603</td>\n",
       "      <td>416</td>\n",
       "      <td>0</td>\n",
       "      <td>28</td>\n",
       "      <td>492</td>\n",
       "      <td>71</td>\n",
       "      <td>2015</td>\n",
       "      <td>AK-500 2015</td>\n",
       "      <td>1208</td>\n",
       "      <td>179</td>\n",
       "      <td>1029</td>\n",
       "      <td>297547</td>\n",
       "      <td>4.9</td>\n",
       "    </tr>\n",
       "  </tbody>\n",
       "</table>\n",
       "</div>"
      ],
      "text/plain": [
       "   Unnamed: 0     Coc             CoC Category  TotalBeds  Emergency  \\\n",
       "0           0  AK-500  Other Largely Urban CoC       1033        799   \n",
       "1           1  AK-500  Other Largely Urban CoC       1028        749   \n",
       "2           2  AK-500  Other Largely Urban CoC       1023        597   \n",
       "3           3  AK-500  Other Largely Urban CoC       1007        553   \n",
       "4           4  AK-500  Other Largely Urban CoC       1019        603   \n",
       "\n",
       "   Transitional  SafeHaven  RapidRehousing  PermanentSupportive  \\\n",
       "0           234          0             171                  601   \n",
       "1           279          0             125                  604   \n",
       "2           426          0              43                  571   \n",
       "3           454          0              55                  434   \n",
       "4           416          0              28                  492   \n",
       "\n",
       "   PermanentOther  Year      CocYear  TotalHomeless  Unsheltered  Sheltered  \\\n",
       "0              71  2019  AK-500 2019           1111           97       1014   \n",
       "1              71  2018  AK-500 2018           1094           94       1000   \n",
       "2              71  2017  AK-500 2017           1128          155        973   \n",
       "3              97  2016  AK-500 2016           1105          240        865   \n",
       "4              71  2015  AK-500 2015           1208          179       1029   \n",
       "\n",
       "   Population  Unemployment  \n",
       "0      288000           4.4  \n",
       "1      290521           5.0  \n",
       "2      294338           5.4  \n",
       "3      297249           5.3  \n",
       "4      297547           4.9  "
      ]
     },
     "execution_count": 18,
     "metadata": {},
     "output_type": "execute_result"
    }
   ],
   "source": [
    "df = pd.read_excel('Feb_27_all_categories.xlsx')\n",
    "df.head()"
   ]
  },
  {
   "cell_type": "code",
   "execution_count": 19,
   "id": "b89afa35",
   "metadata": {},
   "outputs": [
    {
     "name": "stdout",
     "output_type": "stream",
     "text": [
      "<class 'pandas.core.frame.DataFrame'>\n",
      "RangeIndex: 2199 entries, 0 to 2198\n",
      "Data columns (total 17 columns):\n",
      " #   Column               Non-Null Count  Dtype  \n",
      "---  ------               --------------  -----  \n",
      " 0   Unnamed: 0           2199 non-null   int64  \n",
      " 1   Coc                  2199 non-null   object \n",
      " 2   CoC Category         2199 non-null   object \n",
      " 3   TotalBeds            2199 non-null   int64  \n",
      " 4   Emergency            2199 non-null   int64  \n",
      " 5   Transitional         2199 non-null   int64  \n",
      " 6   SafeHaven            2199 non-null   int64  \n",
      " 7   RapidRehousing       2199 non-null   int64  \n",
      " 8   PermanentSupportive  2199 non-null   int64  \n",
      " 9   PermanentOther       2199 non-null   int64  \n",
      " 10  Year                 2199 non-null   int64  \n",
      " 11  CocYear              2199 non-null   object \n",
      " 12  TotalHomeless        2199 non-null   int64  \n",
      " 13  Unsheltered          2199 non-null   int64  \n",
      " 14  Sheltered            2199 non-null   int64  \n",
      " 15  Population           2199 non-null   int64  \n",
      " 16  Unemployment         2199 non-null   float64\n",
      "dtypes: float64(1), int64(13), object(3)\n",
      "memory usage: 292.2+ KB\n"
     ]
    }
   ],
   "source": [
    "df.info()"
   ]
  },
  {
   "cell_type": "code",
   "execution_count": 20,
   "id": "3fd401b6",
   "metadata": {},
   "outputs": [],
   "source": [
    "df2 = df.drop(['CoC Category', 'CocYear'], axis=1)"
   ]
  },
  {
   "cell_type": "code",
   "execution_count": 21,
   "id": "02309a7d",
   "metadata": {},
   "outputs": [],
   "source": [
    "df2['Unsheltered_perc_tot'] = (df2['Unsheltered'] / df2['TotalHomeless']) *100"
   ]
  },
  {
   "cell_type": "code",
   "execution_count": 22,
   "id": "aa8840e7",
   "metadata": {},
   "outputs": [],
   "source": [
    "df2['TotalBeds_perc_tot'] = (df2['TotalBeds'] / df2['TotalHomeless']) *100"
   ]
  },
  {
   "cell_type": "code",
   "execution_count": 23,
   "id": "bd3cdbaa",
   "metadata": {},
   "outputs": [],
   "source": [
    "df2['Emergency_perc_tot'] = (df2['Emergency'] / df2['TotalHomeless']) *100"
   ]
  },
  {
   "cell_type": "code",
   "execution_count": 24,
   "id": "65c3fb23",
   "metadata": {},
   "outputs": [],
   "source": [
    "df2['Transitional_perc_tot'] = (df2['Transitional'] / df2['TotalHomeless']) *100"
   ]
  },
  {
   "cell_type": "code",
   "execution_count": 25,
   "id": "d6d5471f",
   "metadata": {},
   "outputs": [],
   "source": [
    "df2['SafeHaven_perc_tot'] = (df2['SafeHaven'] / df2['TotalHomeless']) *100"
   ]
  },
  {
   "cell_type": "code",
   "execution_count": 26,
   "id": "d3a0a201",
   "metadata": {},
   "outputs": [],
   "source": [
    "df2['PermanentSupportive_perc_tot'] = (df2['PermanentSupportive'] / df2['TotalHomeless']) *100"
   ]
  },
  {
   "cell_type": "code",
   "execution_count": 27,
   "id": "645fb9df",
   "metadata": {},
   "outputs": [],
   "source": [
    "df2['PermanentOther_perc_tot'] = (df2['PermanentOther'] / df2['TotalHomeless']) *100"
   ]
  },
  {
   "cell_type": "code",
   "execution_count": 28,
   "id": "5845001e",
   "metadata": {},
   "outputs": [],
   "source": [
    "df2['RapidRehousing_perc_tot'] = (df2['RapidRehousing'] / df2['TotalHomeless']) *100"
   ]
  },
  {
   "cell_type": "code",
   "execution_count": 29,
   "id": "58abf0e8",
   "metadata": {
    "scrolled": true
   },
   "outputs": [
    {
     "data": {
      "text/html": [
       "<div>\n",
       "<style scoped>\n",
       "    .dataframe tbody tr th:only-of-type {\n",
       "        vertical-align: middle;\n",
       "    }\n",
       "\n",
       "    .dataframe tbody tr th {\n",
       "        vertical-align: top;\n",
       "    }\n",
       "\n",
       "    .dataframe thead th {\n",
       "        text-align: right;\n",
       "    }\n",
       "</style>\n",
       "<table border=\"1\" class=\"dataframe\">\n",
       "  <thead>\n",
       "    <tr style=\"text-align: right;\">\n",
       "      <th></th>\n",
       "      <th>Unnamed: 0</th>\n",
       "      <th>Coc</th>\n",
       "      <th>TotalBeds</th>\n",
       "      <th>Emergency</th>\n",
       "      <th>Transitional</th>\n",
       "      <th>SafeHaven</th>\n",
       "      <th>RapidRehousing</th>\n",
       "      <th>PermanentSupportive</th>\n",
       "      <th>PermanentOther</th>\n",
       "      <th>Year</th>\n",
       "      <th>...</th>\n",
       "      <th>Population</th>\n",
       "      <th>Unemployment</th>\n",
       "      <th>Unsheltered_perc_tot</th>\n",
       "      <th>TotalBeds_perc_tot</th>\n",
       "      <th>Emergency_perc_tot</th>\n",
       "      <th>Transitional_perc_tot</th>\n",
       "      <th>SafeHaven_perc_tot</th>\n",
       "      <th>PermanentSupportive_perc_tot</th>\n",
       "      <th>PermanentOther_perc_tot</th>\n",
       "      <th>RapidRehousing_perc_tot</th>\n",
       "    </tr>\n",
       "  </thead>\n",
       "  <tbody>\n",
       "    <tr>\n",
       "      <th>0</th>\n",
       "      <td>0</td>\n",
       "      <td>AK-500</td>\n",
       "      <td>1033</td>\n",
       "      <td>799</td>\n",
       "      <td>234</td>\n",
       "      <td>0</td>\n",
       "      <td>171</td>\n",
       "      <td>601</td>\n",
       "      <td>71</td>\n",
       "      <td>2019</td>\n",
       "      <td>...</td>\n",
       "      <td>288000</td>\n",
       "      <td>4.4</td>\n",
       "      <td>8.730873</td>\n",
       "      <td>92.979298</td>\n",
       "      <td>71.917192</td>\n",
       "      <td>21.062106</td>\n",
       "      <td>0.0</td>\n",
       "      <td>54.095410</td>\n",
       "      <td>6.390639</td>\n",
       "      <td>15.391539</td>\n",
       "    </tr>\n",
       "    <tr>\n",
       "      <th>1</th>\n",
       "      <td>1</td>\n",
       "      <td>AK-500</td>\n",
       "      <td>1028</td>\n",
       "      <td>749</td>\n",
       "      <td>279</td>\n",
       "      <td>0</td>\n",
       "      <td>125</td>\n",
       "      <td>604</td>\n",
       "      <td>71</td>\n",
       "      <td>2018</td>\n",
       "      <td>...</td>\n",
       "      <td>290521</td>\n",
       "      <td>5.0</td>\n",
       "      <td>8.592322</td>\n",
       "      <td>93.967093</td>\n",
       "      <td>68.464351</td>\n",
       "      <td>25.502742</td>\n",
       "      <td>0.0</td>\n",
       "      <td>55.210238</td>\n",
       "      <td>6.489945</td>\n",
       "      <td>11.425960</td>\n",
       "    </tr>\n",
       "    <tr>\n",
       "      <th>2</th>\n",
       "      <td>2</td>\n",
       "      <td>AK-500</td>\n",
       "      <td>1023</td>\n",
       "      <td>597</td>\n",
       "      <td>426</td>\n",
       "      <td>0</td>\n",
       "      <td>43</td>\n",
       "      <td>571</td>\n",
       "      <td>71</td>\n",
       "      <td>2017</td>\n",
       "      <td>...</td>\n",
       "      <td>294338</td>\n",
       "      <td>5.4</td>\n",
       "      <td>13.741135</td>\n",
       "      <td>90.691489</td>\n",
       "      <td>52.925532</td>\n",
       "      <td>37.765957</td>\n",
       "      <td>0.0</td>\n",
       "      <td>50.620567</td>\n",
       "      <td>6.294326</td>\n",
       "      <td>3.812057</td>\n",
       "    </tr>\n",
       "    <tr>\n",
       "      <th>3</th>\n",
       "      <td>3</td>\n",
       "      <td>AK-500</td>\n",
       "      <td>1007</td>\n",
       "      <td>553</td>\n",
       "      <td>454</td>\n",
       "      <td>0</td>\n",
       "      <td>55</td>\n",
       "      <td>434</td>\n",
       "      <td>97</td>\n",
       "      <td>2016</td>\n",
       "      <td>...</td>\n",
       "      <td>297249</td>\n",
       "      <td>5.3</td>\n",
       "      <td>21.719457</td>\n",
       "      <td>91.131222</td>\n",
       "      <td>50.045249</td>\n",
       "      <td>41.085973</td>\n",
       "      <td>0.0</td>\n",
       "      <td>39.276018</td>\n",
       "      <td>8.778281</td>\n",
       "      <td>4.977376</td>\n",
       "    </tr>\n",
       "    <tr>\n",
       "      <th>4</th>\n",
       "      <td>4</td>\n",
       "      <td>AK-500</td>\n",
       "      <td>1019</td>\n",
       "      <td>603</td>\n",
       "      <td>416</td>\n",
       "      <td>0</td>\n",
       "      <td>28</td>\n",
       "      <td>492</td>\n",
       "      <td>71</td>\n",
       "      <td>2015</td>\n",
       "      <td>...</td>\n",
       "      <td>297547</td>\n",
       "      <td>4.9</td>\n",
       "      <td>14.817881</td>\n",
       "      <td>84.354305</td>\n",
       "      <td>49.917219</td>\n",
       "      <td>34.437086</td>\n",
       "      <td>0.0</td>\n",
       "      <td>40.728477</td>\n",
       "      <td>5.877483</td>\n",
       "      <td>2.317881</td>\n",
       "    </tr>\n",
       "  </tbody>\n",
       "</table>\n",
       "<p>5 rows × 23 columns</p>\n",
       "</div>"
      ],
      "text/plain": [
       "   Unnamed: 0     Coc  TotalBeds  Emergency  Transitional  SafeHaven  \\\n",
       "0           0  AK-500       1033        799           234          0   \n",
       "1           1  AK-500       1028        749           279          0   \n",
       "2           2  AK-500       1023        597           426          0   \n",
       "3           3  AK-500       1007        553           454          0   \n",
       "4           4  AK-500       1019        603           416          0   \n",
       "\n",
       "   RapidRehousing  PermanentSupportive  PermanentOther  Year  ...  Population  \\\n",
       "0             171                  601              71  2019  ...      288000   \n",
       "1             125                  604              71  2018  ...      290521   \n",
       "2              43                  571              71  2017  ...      294338   \n",
       "3              55                  434              97  2016  ...      297249   \n",
       "4              28                  492              71  2015  ...      297547   \n",
       "\n",
       "   Unemployment  Unsheltered_perc_tot  TotalBeds_perc_tot  Emergency_perc_tot  \\\n",
       "0           4.4              8.730873           92.979298           71.917192   \n",
       "1           5.0              8.592322           93.967093           68.464351   \n",
       "2           5.4             13.741135           90.691489           52.925532   \n",
       "3           5.3             21.719457           91.131222           50.045249   \n",
       "4           4.9             14.817881           84.354305           49.917219   \n",
       "\n",
       "   Transitional_perc_tot  SafeHaven_perc_tot  PermanentSupportive_perc_tot  \\\n",
       "0              21.062106                 0.0                     54.095410   \n",
       "1              25.502742                 0.0                     55.210238   \n",
       "2              37.765957                 0.0                     50.620567   \n",
       "3              41.085973                 0.0                     39.276018   \n",
       "4              34.437086                 0.0                     40.728477   \n",
       "\n",
       "   PermanentOther_perc_tot  RapidRehousing_perc_tot  \n",
       "0                 6.390639                15.391539  \n",
       "1                 6.489945                11.425960  \n",
       "2                 6.294326                 3.812057  \n",
       "3                 8.778281                 4.977376  \n",
       "4                 5.877483                 2.317881  \n",
       "\n",
       "[5 rows x 23 columns]"
      ]
     },
     "execution_count": 29,
     "metadata": {},
     "output_type": "execute_result"
    }
   ],
   "source": [
    "df2.head()"
   ]
  },
  {
   "cell_type": "code",
   "execution_count": 31,
   "id": "0d9a0e26",
   "metadata": {},
   "outputs": [
    {
     "name": "stdout",
     "output_type": "stream",
     "text": [
      "<class 'pandas.core.frame.DataFrame'>\n",
      "RangeIndex: 2199 entries, 0 to 2198\n",
      "Data columns (total 23 columns):\n",
      " #   Column                        Non-Null Count  Dtype  \n",
      "---  ------                        --------------  -----  \n",
      " 0   Unnamed: 0                    2199 non-null   int64  \n",
      " 1   Coc                           2199 non-null   object \n",
      " 2   TotalBeds                     2199 non-null   int64  \n",
      " 3   Emergency                     2199 non-null   int64  \n",
      " 4   Transitional                  2199 non-null   int64  \n",
      " 5   SafeHaven                     2199 non-null   int64  \n",
      " 6   RapidRehousing                2199 non-null   int64  \n",
      " 7   PermanentSupportive           2199 non-null   int64  \n",
      " 8   PermanentOther                2199 non-null   int64  \n",
      " 9   Year                          2199 non-null   int64  \n",
      " 10  TotalHomeless                 2199 non-null   int64  \n",
      " 11  Unsheltered                   2199 non-null   int64  \n",
      " 12  Sheltered                     2199 non-null   int64  \n",
      " 13  Population                    2199 non-null   int64  \n",
      " 14  Unemployment                  2199 non-null   float64\n",
      " 15  Unsheltered_perc_tot          2199 non-null   float64\n",
      " 16  TotalBeds_perc_tot            2199 non-null   float64\n",
      " 17  Emergency_perc_tot            2199 non-null   float64\n",
      " 18  Transitional_perc_tot         2199 non-null   float64\n",
      " 19  SafeHaven_perc_tot            2199 non-null   float64\n",
      " 20  PermanentSupportive_perc_tot  2199 non-null   float64\n",
      " 21  PermanentOther_perc_tot       2199 non-null   float64\n",
      " 22  RapidRehousing_perc_tot       2199 non-null   float64\n",
      "dtypes: float64(9), int64(13), object(1)\n",
      "memory usage: 395.3+ KB\n"
     ]
    }
   ],
   "source": [
    "df2.info()"
   ]
  },
  {
   "cell_type": "code",
   "execution_count": 32,
   "id": "58324212",
   "metadata": {},
   "outputs": [],
   "source": [
    "df3 = df2.drop(['Coc', 'Emergency', 'Transitional', 'SafeHaven', 'RapidRehousing', 'PermanentSupportive', 'PermanentOther', 'Unsheltered', 'Sheltered', 'TotalBeds', 'Unnamed: 0', 'Year' ], axis=1)"
   ]
  },
  {
   "cell_type": "code",
   "execution_count": 33,
   "id": "d6d83b17",
   "metadata": {},
   "outputs": [
    {
     "name": "stdout",
     "output_type": "stream",
     "text": [
      "<class 'pandas.core.frame.DataFrame'>\n",
      "RangeIndex: 2199 entries, 0 to 2198\n",
      "Data columns (total 11 columns):\n",
      " #   Column                        Non-Null Count  Dtype  \n",
      "---  ------                        --------------  -----  \n",
      " 0   TotalHomeless                 2199 non-null   int64  \n",
      " 1   Population                    2199 non-null   int64  \n",
      " 2   Unemployment                  2199 non-null   float64\n",
      " 3   Unsheltered_perc_tot          2199 non-null   float64\n",
      " 4   TotalBeds_perc_tot            2199 non-null   float64\n",
      " 5   Emergency_perc_tot            2199 non-null   float64\n",
      " 6   Transitional_perc_tot         2199 non-null   float64\n",
      " 7   SafeHaven_perc_tot            2199 non-null   float64\n",
      " 8   PermanentSupportive_perc_tot  2199 non-null   float64\n",
      " 9   PermanentOther_perc_tot       2199 non-null   float64\n",
      " 10  RapidRehousing_perc_tot       2199 non-null   float64\n",
      "dtypes: float64(9), int64(2)\n",
      "memory usage: 189.1 KB\n"
     ]
    }
   ],
   "source": [
    "df3.info()"
   ]
  },
  {
   "cell_type": "code",
   "execution_count": 34,
   "id": "e42f1a5d",
   "metadata": {},
   "outputs": [
    {
     "data": {
      "text/html": [
       "<div>\n",
       "<style scoped>\n",
       "    .dataframe tbody tr th:only-of-type {\n",
       "        vertical-align: middle;\n",
       "    }\n",
       "\n",
       "    .dataframe tbody tr th {\n",
       "        vertical-align: top;\n",
       "    }\n",
       "\n",
       "    .dataframe thead th {\n",
       "        text-align: right;\n",
       "    }\n",
       "</style>\n",
       "<table border=\"1\" class=\"dataframe\">\n",
       "  <thead>\n",
       "    <tr style=\"text-align: right;\">\n",
       "      <th></th>\n",
       "      <th>TotalHomeless</th>\n",
       "      <th>Population</th>\n",
       "      <th>Unemployment</th>\n",
       "      <th>TotalBeds_perc_tot</th>\n",
       "      <th>Emergency_perc_tot</th>\n",
       "      <th>Transitional_perc_tot</th>\n",
       "      <th>SafeHaven_perc_tot</th>\n",
       "      <th>PermanentSupportive_perc_tot</th>\n",
       "      <th>PermanentOther_perc_tot</th>\n",
       "      <th>RapidRehousing_perc_tot</th>\n",
       "    </tr>\n",
       "  </thead>\n",
       "  <tbody>\n",
       "    <tr>\n",
       "      <th>0</th>\n",
       "      <td>1111</td>\n",
       "      <td>288000</td>\n",
       "      <td>4.4</td>\n",
       "      <td>92.979298</td>\n",
       "      <td>71.917192</td>\n",
       "      <td>21.062106</td>\n",
       "      <td>0.0</td>\n",
       "      <td>54.095410</td>\n",
       "      <td>6.390639</td>\n",
       "      <td>15.391539</td>\n",
       "    </tr>\n",
       "    <tr>\n",
       "      <th>1</th>\n",
       "      <td>1094</td>\n",
       "      <td>290521</td>\n",
       "      <td>5.0</td>\n",
       "      <td>93.967093</td>\n",
       "      <td>68.464351</td>\n",
       "      <td>25.502742</td>\n",
       "      <td>0.0</td>\n",
       "      <td>55.210238</td>\n",
       "      <td>6.489945</td>\n",
       "      <td>11.425960</td>\n",
       "    </tr>\n",
       "    <tr>\n",
       "      <th>2</th>\n",
       "      <td>1128</td>\n",
       "      <td>294338</td>\n",
       "      <td>5.4</td>\n",
       "      <td>90.691489</td>\n",
       "      <td>52.925532</td>\n",
       "      <td>37.765957</td>\n",
       "      <td>0.0</td>\n",
       "      <td>50.620567</td>\n",
       "      <td>6.294326</td>\n",
       "      <td>3.812057</td>\n",
       "    </tr>\n",
       "    <tr>\n",
       "      <th>3</th>\n",
       "      <td>1105</td>\n",
       "      <td>297249</td>\n",
       "      <td>5.3</td>\n",
       "      <td>91.131222</td>\n",
       "      <td>50.045249</td>\n",
       "      <td>41.085973</td>\n",
       "      <td>0.0</td>\n",
       "      <td>39.276018</td>\n",
       "      <td>8.778281</td>\n",
       "      <td>4.977376</td>\n",
       "    </tr>\n",
       "    <tr>\n",
       "      <th>4</th>\n",
       "      <td>1208</td>\n",
       "      <td>297547</td>\n",
       "      <td>4.9</td>\n",
       "      <td>84.354305</td>\n",
       "      <td>49.917219</td>\n",
       "      <td>34.437086</td>\n",
       "      <td>0.0</td>\n",
       "      <td>40.728477</td>\n",
       "      <td>5.877483</td>\n",
       "      <td>2.317881</td>\n",
       "    </tr>\n",
       "  </tbody>\n",
       "</table>\n",
       "</div>"
      ],
      "text/plain": [
       "   TotalHomeless  Population  Unemployment  TotalBeds_perc_tot  \\\n",
       "0           1111      288000           4.4           92.979298   \n",
       "1           1094      290521           5.0           93.967093   \n",
       "2           1128      294338           5.4           90.691489   \n",
       "3           1105      297249           5.3           91.131222   \n",
       "4           1208      297547           4.9           84.354305   \n",
       "\n",
       "   Emergency_perc_tot  Transitional_perc_tot  SafeHaven_perc_tot  \\\n",
       "0           71.917192              21.062106                 0.0   \n",
       "1           68.464351              25.502742                 0.0   \n",
       "2           52.925532              37.765957                 0.0   \n",
       "3           50.045249              41.085973                 0.0   \n",
       "4           49.917219              34.437086                 0.0   \n",
       "\n",
       "   PermanentSupportive_perc_tot  PermanentOther_perc_tot  \\\n",
       "0                     54.095410                 6.390639   \n",
       "1                     55.210238                 6.489945   \n",
       "2                     50.620567                 6.294326   \n",
       "3                     39.276018                 8.778281   \n",
       "4                     40.728477                 5.877483   \n",
       "\n",
       "   RapidRehousing_perc_tot  \n",
       "0                15.391539  \n",
       "1                11.425960  \n",
       "2                 3.812057  \n",
       "3                 4.977376  \n",
       "4                 2.317881  "
      ]
     },
     "execution_count": 34,
     "metadata": {},
     "output_type": "execute_result"
    }
   ],
   "source": [
    "# Define the features set.\n",
    "X = df3.copy()\n",
    "X = X.drop(\"Unsheltered_perc_tot\", axis=1)\n",
    "X.head()"
   ]
  },
  {
   "cell_type": "code",
   "execution_count": 35,
   "id": "9655db0c",
   "metadata": {},
   "outputs": [
    {
     "data": {
      "text/plain": [
       "array([ 8.73087309,  8.59232176, 13.74113475, 21.71945701, 14.81788079])"
      ]
     },
     "execution_count": 35,
     "metadata": {},
     "output_type": "execute_result"
    }
   ],
   "source": [
    "# Define the target set.\n",
    "y = df3[\"Unsheltered_perc_tot\"].ravel()\n",
    "y[:5]"
   ]
  },
  {
   "cell_type": "code",
   "execution_count": 36,
   "id": "f98e2d7b",
   "metadata": {},
   "outputs": [],
   "source": [
    "# Splitting into Train and Test sets.\n",
    "X_train, X_test, y_train, y_test = train_test_split(X, y, random_state=78)"
   ]
  },
  {
   "cell_type": "code",
   "execution_count": 37,
   "id": "6ce840ce",
   "metadata": {},
   "outputs": [],
   "source": [
    "regr = RandomForestRegressor(max_depth=3, random_state=0)"
   ]
  },
  {
   "cell_type": "code",
   "execution_count": 38,
   "id": "a50e06c2",
   "metadata": {},
   "outputs": [],
   "source": [
    "reg_model = regr.fit(X, y)"
   ]
  },
  {
   "cell_type": "code",
   "execution_count": 39,
   "id": "aa0190a2",
   "metadata": {},
   "outputs": [
    {
     "data": {
      "text/plain": [
       "array([4.34197794e-02, 2.89082978e-03, 4.22231544e-04, 9.03091483e-01,\n",
       "       2.34493219e-02, 5.30305761e-03, 0.00000000e+00, 2.14232964e-02,\n",
       "       0.00000000e+00, 0.00000000e+00])"
      ]
     },
     "execution_count": 39,
     "metadata": {},
     "output_type": "execute_result"
    }
   ],
   "source": [
    "importances = reg_model.feature_importances_\n",
    "importances"
   ]
  },
  {
   "cell_type": "code",
   "execution_count": 40,
   "id": "c4e5a159",
   "metadata": {},
   "outputs": [
    {
     "data": {
      "text/plain": [
       "[(0.9030914833875665, 'TotalBeds_perc_tot'),\n",
       " (0.04341977937150892, 'TotalHomeless'),\n",
       " (0.023449321900400662, 'Emergency_perc_tot'),\n",
       " (0.021423296412410545, 'PermanentSupportive_perc_tot'),\n",
       " (0.0053030576071620966, 'Transitional_perc_tot'),\n",
       " (0.0028908297772433024, 'Population'),\n",
       " (0.00042223154370774096, 'Unemployment'),\n",
       " (0.0, 'SafeHaven_perc_tot'),\n",
       " (0.0, 'RapidRehousing_perc_tot'),\n",
       " (0.0, 'PermanentOther_perc_tot')]"
      ]
     },
     "execution_count": 40,
     "metadata": {},
     "output_type": "execute_result"
    }
   ],
   "source": [
    "# We can sort the features by their importance.\n",
    "sorted(zip(reg_model.feature_importances_, X.columns), reverse=True)"
   ]
  },
  {
   "cell_type": "code",
   "execution_count": 41,
   "id": "e69a4361",
   "metadata": {},
   "outputs": [],
   "source": [
    "%matplotlib inline\n",
    "from matplotlib import pyplot as plt"
   ]
  },
  {
   "cell_type": "code",
   "execution_count": 42,
   "id": "9414a551",
   "metadata": {},
   "outputs": [
    {
     "data": {
      "image/png": "[encoded data removed]",
      "text/plain": [
       "<Figure size 720x1440 with 1 Axes>"
      ]
     },
     "metadata": {
      "needs_background": "light"
     },
     "output_type": "display_data"
    }
   ],
   "source": [
    "features = sorted(zip(X.columns, reg_model.feature_importances_), key = lambda x: x[1])\n",
    "cols = [f[0] for f in features]\n",
    "width = [f[1] for f in features]\n",
    "\n",
    "fig, ax = plt.subplots()\n",
    "\n",
    "fig.set_size_inches(10,20)\n",
    "plt.margins(y=0.001)\n",
    "\n",
    "ax.barh(y=cols, width=width)\n",
    "\n",
    "plt.show()"
   ]
  },
  {
   "cell_type": "code",
   "execution_count": 43,
   "id": "daa72732",
   "metadata": {},
   "outputs": [],
   "source": [
    "estimator = reg_model.estimators_[5]"
   ]
  },
  {
   "cell_type": "code",
   "execution_count": 44,
   "id": "c01bd842",
   "metadata": {},
   "outputs": [
    {
     "data": {
      "text/plain": [
       "[Text(0.5, 0.875, 'X[3] <= 58.449\\nsquared_error = 526.631\\nsamples = 1393\\nvalue = 26.591'),\n",
       " Text(0.25, 0.625, 'X[3] <= 36.36\\nsquared_error = 495.376\\nsamples = 331\\nvalue = 54.955'),\n",
       " Text(0.125, 0.375, 'X[0] <= 232.0\\nsquared_error = 442.435\\nsamples = 121\\nvalue = 69.739'),\n",
       " Text(0.0625, 0.125, 'squared_error = 0.513\\nsamples = 6\\nvalue = 2.11'),\n",
       " Text(0.1875, 0.125, 'squared_error = 210.875\\nsamples = 115\\nvalue = 73.319'),\n",
       " Text(0.375, 0.375, 'X[7] <= 81.709\\nsquared_error = 356.848\\nsamples = 210\\nvalue = 47.522'),\n",
       " Text(0.3125, 0.125, 'squared_error = 301.243\\nsamples = 170\\nvalue = 50.604'),\n",
       " Text(0.4375, 0.125, 'squared_error = 365.738\\nsamples = 40\\nvalue = 33.186'),\n",
       " Text(0.75, 0.625, 'X[3] <= 80.945\\nsquared_error = 194.842\\nsamples = 1062\\nvalue = 17.471'),\n",
       " Text(0.625, 0.375, 'X[7] <= 41.85\\nsquared_error = 256.536\\nsamples = 308\\nvalue = 28.127'),\n",
       " Text(0.5625, 0.125, 'squared_error = 217.819\\nsamples = 84\\nvalue = 37.471'),\n",
       " Text(0.6875, 0.125, 'squared_error = 222.625\\nsamples = 224\\nvalue = 24.35'),\n",
       " Text(0.875, 0.375, 'X[3] <= 89.816\\nsquared_error = 110.712\\nsamples = 754\\nvalue = 13.375'),\n",
       " Text(0.8125, 0.125, 'squared_error = 145.8\\nsamples = 175\\nvalue = 18.207'),\n",
       " Text(0.9375, 0.125, 'squared_error = 91.019\\nsamples = 579\\nvalue = 11.922')]"
      ]
     },
     "execution_count": 44,
     "metadata": {},
     "output_type": "execute_result"
    },
    {
     "data": {
      "image/png": "[encoded data removed]",
      "text/plain": [
       "<Figure size 432x288 with 1 Axes>"
      ]
     },
     "metadata": {
      "needs_background": "light"
     },
     "output_type": "display_data"
    }
   ],
   "source": [
    "from sklearn import tree\n",
    "tree.plot_tree(reg_model.estimators_[0])"
   ]
  },
  {
   "cell_type": "code",
   "execution_count": 45,
   "id": "ff87cb95",
   "metadata": {},
   "outputs": [],
   "source": [
    "df3.to_excel('Percent_Total_Homeless_DroppedColumns_AllCoC.xlsx', index=False)"
   ]
  },
  {
   "cell_type": "code",
   "execution_count": null,
   "id": "236b5d45",
   "metadata": {},
   "outputs": [],
   "source": []
  }
 ],
 "metadata": {
  "kernelspec": {
   "display_name": "mlenv",
   "language": "python",
   "name": "mlenv"
  },
  "language_info": {
   "codemirror_mode": {
    "name": "ipython",
    "version": 3
   },
   "file_extension": ".py",
   "mimetype": "text/x-python",
   "name": "python",
   "nbconvert_exporter": "python",
   "pygments_lexer": "ipython3",
   "version": "3.7.11"
  }
 },
 "nbformat": 4,
 "nbformat_minor": 5
}
