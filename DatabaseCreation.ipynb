{
 "cells": [
  {
   "cell_type": "code",
   "execution_count": 1,
   "id": "billion-partner",
   "metadata": {},
   "outputs": [],
   "source": [
    "import pandas as pd\n",
    "import sqlite3"
   ]
  },
  {
   "cell_type": "code",
   "execution_count": 2,
   "id": "incorporated-employment",
   "metadata": {},
   "outputs": [],
   "source": [
    "# Create Database Connection\n",
    "conn = sqlite3.connect('../HomelessData.db')\n",
    "c = conn.cursor()"
   ]
  },
  {
   "cell_type": "code",
   "execution_count": 3,
   "id": "ideal-noise",
   "metadata": {},
   "outputs": [],
   "source": [
    "# Create HIC dataframe and database\n",
    "for sheet in [\"2018\",\"2019\"] : \n",
    "    hic_df = pd.read_excel(\"../resources/2007-2020-HIC-Counts-by-CoC.xlsx\",sheet,skiprows=[0],skipfooter=1)\n",
    "    \n",
    "    # Adjust Column\n",
    "    hic_df.rename(columns = {'CoC Number' : 'Coc','Total Year-Round Beds (ES, TH, SH)' : 'Total','Total Year-Round Beds (ES)' : 'Emergency','Total Year-Round Beds (TH)' : 'Transitional','Total Year-Round Beds (SH)' : 'SafeHaven','Total Year-Round Beds (RRH)' : 'RapidRehousing','Total Year-Round Beds (PSH)' : 'PermanentSupportive','Total Year-Round Beds (OPH)' : 'PermanentOther'},inplace=True)\n",
    "    hic_df = hic_df[[\"Coc\", \"Total\", \"Emergency\", \"Transitional\", \"SafeHaven\", \"RapidRehousing\", \"PermanentSupportive\", \"PermanentOther\"]]\n",
    "    hic_df[\"Year\"] = sheet\n",
    "    \n",
    "    # Insert Into DB\n",
    "    hic_df.to_sql(\"shelterAvalibility\",con=conn,if_exists = 'append',index=False)"
   ]
  },
  {
   "cell_type": "code",
   "execution_count": 4,
   "id": "bearing-official",
   "metadata": {},
   "outputs": [
    {
     "name": "stderr",
     "output_type": "stream",
     "text": [
      "C:\\Users\\mupchurch\\.conda\\envs\\PythonData\\lib\\site-packages\\pandas\\core\\generic.py:2882: UserWarning: The spaces in these column names will not be changed. In pandas versions < 0.14, spaces were converted to underscores.\n",
      "  method=method,\n"
     ]
    }
   ],
   "source": [
    "# Create PIT and CityData dataframe and database\n",
    "for sheet in [\"2018\",\"2019\"] : \n",
    "    pit_df = pd.read_excel(\"../resources/2007-2020-PIT-Estimates-by-CoC.xlsx\",sheet,skipfooter=3)\n",
    "    \n",
    "    # Rename pit_df columns\n",
    "    pit_df.rename(columns = {'CoC Number' : 'Coc',f'Overall Homeless, {sheet}' : \"Total\",f'Unsheltered Homeless, {sheet}' : \"Unsheltered\"},inplace=True)\n",
    "    \n",
    "    #Create CityData Database\n",
    "    pit_df[[\"Coc\",\"CoC Name\"]].to_sql(\"CityData\",con=conn,if_exists = \"replace\")\n",
    "    \n",
    "    # Create New Columns\n",
    "    pit_df[\"Sheltered\"] = pit_df[\"Total\"]-pit_df[\"Unsheltered\"]\n",
    "    pit_df = pit_df[['Coc','Total','Unsheltered','Sheltered']]\n",
    "    pit_df[\"Year\"] = sheet\n",
    "    \n",
    "    # Create HomelessData table\n",
    "    pit_df.to_sql(\"HomelessCounts\",con=conn,if_exists='append',index=False)"
   ]
  },
  {
   "cell_type": "code",
   "execution_count": 5,
   "id": "strange-annex",
   "metadata": {},
   "outputs": [],
   "source": [
    "# Create The Funding Database and Dataframe\n",
    "for sheet in [\"2018\",\"2019\"] :\n",
    "    awards_df = pd.read_excel(\"../resources/2019-Awards-by-CoC-Component-Project.xlsx\",sheet)\n",
    "    awards_df.rename(columns = {\"CoC Number\" : \"CoC\"},inplace=True)\n",
    "    awards_df = awards_df[[\"CoC\",\"Component\",\"Awarded Amount\"]]\n",
    "    awards_df[\"Year\"] = sheet\n",
    "    awards_df.to_sql(\"FundingData\",con=conn,if_exists='append')"
   ]
  },
  {
   "cell_type": "code",
   "execution_count": 6,
   "id": "gothic-stone",
   "metadata": {},
   "outputs": [
    {
     "data": {
      "text/html": [
       "<div>\n",
       "<style scoped>\n",
       "    .dataframe tbody tr th:only-of-type {\n",
       "        vertical-align: middle;\n",
       "    }\n",
       "\n",
       "    .dataframe tbody tr th {\n",
       "        vertical-align: top;\n",
       "    }\n",
       "\n",
       "    .dataframe thead th {\n",
       "        text-align: right;\n",
       "    }\n",
       "</style>\n",
       "<table border=\"1\" class=\"dataframe\">\n",
       "  <thead>\n",
       "    <tr style=\"text-align: right;\">\n",
       "      <th></th>\n",
       "      <th>Coc</th>\n",
       "      <th>Total</th>\n",
       "      <th>Emergency</th>\n",
       "      <th>Transitional</th>\n",
       "      <th>SafeHaven</th>\n",
       "      <th>RapidRehousing</th>\n",
       "      <th>PermanentSupportive</th>\n",
       "      <th>PermanentOther</th>\n",
       "      <th>Year</th>\n",
       "    </tr>\n",
       "  </thead>\n",
       "  <tbody>\n",
       "    <tr>\n",
       "      <th>0</th>\n",
       "      <td>AK-500</td>\n",
       "      <td>1033</td>\n",
       "      <td>799</td>\n",
       "      <td>234</td>\n",
       "      <td>0</td>\n",
       "      <td>171</td>\n",
       "      <td>601</td>\n",
       "      <td>71</td>\n",
       "      <td>2019</td>\n",
       "    </tr>\n",
       "    <tr>\n",
       "      <th>1</th>\n",
       "      <td>AK-501</td>\n",
       "      <td>845</td>\n",
       "      <td>575</td>\n",
       "      <td>270</td>\n",
       "      <td>0</td>\n",
       "      <td>67</td>\n",
       "      <td>386</td>\n",
       "      <td>0</td>\n",
       "      <td>2019</td>\n",
       "    </tr>\n",
       "    <tr>\n",
       "      <th>2</th>\n",
       "      <td>AL-500</td>\n",
       "      <td>827</td>\n",
       "      <td>516</td>\n",
       "      <td>277</td>\n",
       "      <td>34</td>\n",
       "      <td>106</td>\n",
       "      <td>1740</td>\n",
       "      <td>0</td>\n",
       "      <td>2019</td>\n",
       "    </tr>\n",
       "    <tr>\n",
       "      <th>3</th>\n",
       "      <td>AL-501</td>\n",
       "      <td>394</td>\n",
       "      <td>261</td>\n",
       "      <td>133</td>\n",
       "      <td>0</td>\n",
       "      <td>31</td>\n",
       "      <td>240</td>\n",
       "      <td>0</td>\n",
       "      <td>2019</td>\n",
       "    </tr>\n",
       "    <tr>\n",
       "      <th>4</th>\n",
       "      <td>AL-502</td>\n",
       "      <td>189</td>\n",
       "      <td>106</td>\n",
       "      <td>83</td>\n",
       "      <td>0</td>\n",
       "      <td>0</td>\n",
       "      <td>42</td>\n",
       "      <td>8</td>\n",
       "      <td>2019</td>\n",
       "    </tr>\n",
       "  </tbody>\n",
       "</table>\n",
       "</div>"
      ],
      "text/plain": [
       "      Coc  Total  Emergency  Transitional  SafeHaven  RapidRehousing  \\\n",
       "0  AK-500   1033        799           234          0             171   \n",
       "1  AK-501    845        575           270          0              67   \n",
       "2  AL-500    827        516           277         34             106   \n",
       "3  AL-501    394        261           133          0              31   \n",
       "4  AL-502    189        106            83          0               0   \n",
       "\n",
       "   PermanentSupportive  PermanentOther  Year  \n",
       "0                  601              71  2019  \n",
       "1                  386               0  2019  \n",
       "2                 1740               0  2019  \n",
       "3                  240               0  2019  \n",
       "4                   42               8  2019  "
      ]
     },
     "execution_count": 6,
     "metadata": {},
     "output_type": "execute_result"
    }
   ],
   "source": [
    "hic_df.head()\n"
   ]
  },
  {
   "cell_type": "code",
   "execution_count": 7,
   "id": "instructional-agency",
   "metadata": {},
   "outputs": [],
   "source": [
    "output_file_path = \"hic_summary.csv\"\n",
    "hic_df.to_csv(output_file_path, index=False)"
   ]
  },
  {
   "cell_type": "code",
   "execution_count": 8,
   "id": "ce6720fc",
   "metadata": {},
   "outputs": [
    {
     "ename": "NameError",
     "evalue": "name 'CountyData_df' is not defined",
     "output_type": "error",
     "traceback": [
      "\u001b[1;31m---------------------------------------------------------------------------\u001b[0m",
      "\u001b[1;31mNameError\u001b[0m                                 Traceback (most recent call last)",
      "\u001b[1;32m<ipython-input-8-81ce18c35cef>\u001b[0m in \u001b[0;36m<module>\u001b[1;34m\u001b[0m\n\u001b[1;32m----> 1\u001b[1;33m \u001b[0mCountyData_df\u001b[0m\u001b[1;33m.\u001b[0m\u001b[0mhead\u001b[0m\u001b[1;33m(\u001b[0m\u001b[1;33m)\u001b[0m\u001b[1;33m\u001b[0m\u001b[1;33m\u001b[0m\u001b[0m\n\u001b[0m",
      "\u001b[1;31mNameError\u001b[0m: name 'CountyData_df' is not defined"
     ]
    }
   ],
   "source": [
    "CountyData_df.head()"
   ]
  },
  {
   "cell_type": "code",
   "execution_count": null,
   "id": "a179d49a",
   "metadata": {},
   "outputs": [],
   "source": []
  }
 ],
 "metadata": {
  "kernelspec": {
   "display_name": "mlenv",
   "language": "python",
   "name": "mlenv"
  },
  "language_info": {
   "codemirror_mode": {
    "name": "ipython",
    "version": 3
   },
   "file_extension": ".py",
   "mimetype": "text/x-python",
   "name": "python",
   "nbconvert_exporter": "python",
   "pygments_lexer": "ipython3",
   "version": "3.7.10"
  }
 },
 "nbformat": 4,
 "nbformat_minor": 5
}
