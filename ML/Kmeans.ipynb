{
 "cells": [
  {
   "cell_type": "code",
   "execution_count": null,
   "id": "df6fd36d",
   "metadata": {},
   "outputs": [],
   "source": [
    "import pandas as pd\n",
    "import plotly.express as px\n",
    "import hvplot.pandas\n",
    "from sklearn.cluster import KMeans\n",
    "from path import Path"
   ]
  },
  {
   "cell_type": "code",
   "execution_count": null,
   "id": "f04842be",
   "metadata": {},
   "outputs": [],
   "source": [
    "# Loading data\n",
    "file_path = Path(\"____.csv\")\n",
    "df_NAME = pd.read_csv(file_path)\n",
    "df_NAME.head()"
   ]
  },
  {
   "cell_type": "code",
   "execution_count": null,
   "id": "7f1d6d8b",
   "metadata": {},
   "outputs": [],
   "source": [
    "# Initializing model with K = 5\n",
    "model = KMeans(n_clusters=5, random_state=5)\n",
    "model"
   ]
  },
  {
   "cell_type": "code",
   "execution_count": null,
   "id": "8069a7cd",
   "metadata": {},
   "outputs": [],
   "source": [
    "# Fitting model\n",
    "model.fit(df_NAME)"
   ]
  },
  {
   "cell_type": "code",
   "execution_count": null,
   "id": "d846a45e",
   "metadata": {},
   "outputs": [],
   "source": [
    "# Get the predictions\n",
    "predictions = model.predict(df_NAME)\n",
    "print(predictions)"
   ]
  },
  {
   "cell_type": "code",
   "execution_count": null,
   "id": "adda41e4",
   "metadata": {},
   "outputs": [],
   "source": [
    "df_NAME[\"class\"] = model.labels_\n",
    "df_NAME.head()"
   ]
  },
  {
   "cell_type": "code",
   "execution_count": null,
   "id": "379e687f",
   "metadata": {},
   "outputs": [],
   "source": [
    "import plotly.express as px\n",
    "import hvplot.pandas"
   ]
  },
  {
   "cell_type": "code",
   "execution_count": null,
   "id": "3ffcc87a",
   "metadata": {},
   "outputs": [],
   "source": [
    "# Create a scatterplot of df_iris\n",
    "df_NAME.hvplot.scatter(x=\"___\", y=\"___\", by=\"class\")"
   ]
  },
  {
   "cell_type": "code",
   "execution_count": null,
   "id": "4b1f874f",
   "metadata": {},
   "outputs": [],
   "source": [
    "# Plotting the clusters with three features\n",
    "fig = px.scatter_3d(df_NAME, x=\"____\", y=\"____\", z=\"____\", color=\"class\", symbol=\"class\", size=\"____\",width=800)\n",
    "fig.update_layout(legend=dict(x=0,y=1))\n",
    "fig.show()"
   ]
  },
  {
   "cell_type": "code",
   "execution_count": null,
   "id": "1affda31",
   "metadata": {},
   "outputs": [],
   "source": []
  }
 ],
 "metadata": {
  "kernelspec": {
   "display_name": "mlenv",
   "language": "python",
   "name": "mlenv"
  },
  "language_info": {
   "codemirror_mode": {
    "name": "ipython",
    "version": 3
   },
   "file_extension": ".py",
   "mimetype": "text/x-python",
   "name": "python",
   "nbconvert_exporter": "python",
   "pygments_lexer": "ipython3",
   "version": "3.7.11"
  }
 },
 "nbformat": 4,
 "nbformat_minor": 5
}
