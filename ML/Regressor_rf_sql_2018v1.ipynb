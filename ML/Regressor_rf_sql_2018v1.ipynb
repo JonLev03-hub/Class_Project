{
 "cells": [
  {
   "cell_type": "code",
   "execution_count": 1,
   "id": "dff54672",
   "metadata": {},
   "outputs": [],
   "source": [
    "# Initial imports.\n",
    "import pandas as pd\n",
    "import numpy as np\n",
    "from path import Path\n",
    "from sklearn.ensemble import RandomForestRegressor\n",
    "from sklearn.datasets import make_regression\n",
    "from sklearn.preprocessing import StandardScaler\n",
    "from sklearn.model_selection import train_test_split\n",
    "from sklearn.metrics import confusion_matrix, accuracy_score, classification_report\n",
    "from sklearn.tree import export_graphviz\n",
    "import sqlite3"
   ]
  },
  {
   "cell_type": "code",
   "execution_count": 2,
   "id": "7c6b1103",
   "metadata": {},
   "outputs": [],
   "source": [
    "conn = sqlite3.connect('../HomelessData.db')\n",
    "c = conn.cursor()"
   ]
  },
  {
   "cell_type": "code",
   "execution_count": 3,
   "id": "5c042c65",
   "metadata": {},
   "outputs": [
    {
     "data": {
      "text/html": [
       "<div>\n",
       "<style scoped>\n",
       "    .dataframe tbody tr th:only-of-type {\n",
       "        vertical-align: middle;\n",
       "    }\n",
       "\n",
       "    .dataframe tbody tr th {\n",
       "        vertical-align: top;\n",
       "    }\n",
       "\n",
       "    .dataframe thead th {\n",
       "        text-align: right;\n",
       "    }\n",
       "</style>\n",
       "<table border=\"1\" class=\"dataframe\">\n",
       "  <thead>\n",
       "    <tr style=\"text-align: right;\">\n",
       "      <th></th>\n",
       "      <th>Coc</th>\n",
       "      <th>Total</th>\n",
       "      <th>Emergency</th>\n",
       "      <th>Transitional</th>\n",
       "      <th>SafeHaven</th>\n",
       "      <th>RapidRehousing</th>\n",
       "      <th>PermanentSupportive</th>\n",
       "      <th>PermanentOther</th>\n",
       "      <th>Year</th>\n",
       "      <th>CocYear</th>\n",
       "      <th>Total:1</th>\n",
       "      <th>Unsheltered</th>\n",
       "      <th>Sheltered</th>\n",
       "    </tr>\n",
       "  </thead>\n",
       "  <tbody>\n",
       "    <tr>\n",
       "      <th>0</th>\n",
       "      <td>AK-500</td>\n",
       "      <td>1028</td>\n",
       "      <td>749</td>\n",
       "      <td>279</td>\n",
       "      <td>0</td>\n",
       "      <td>125</td>\n",
       "      <td>604</td>\n",
       "      <td>71</td>\n",
       "      <td>2018</td>\n",
       "      <td>AK-500 2018</td>\n",
       "      <td>1094</td>\n",
       "      <td>94</td>\n",
       "      <td>1000</td>\n",
       "    </tr>\n",
       "    <tr>\n",
       "      <th>1</th>\n",
       "      <td>AK-501</td>\n",
       "      <td>912</td>\n",
       "      <td>649</td>\n",
       "      <td>263</td>\n",
       "      <td>0</td>\n",
       "      <td>90</td>\n",
       "      <td>344</td>\n",
       "      <td>0</td>\n",
       "      <td>2018</td>\n",
       "      <td>AK-501 2018</td>\n",
       "      <td>922</td>\n",
       "      <td>215</td>\n",
       "      <td>707</td>\n",
       "    </tr>\n",
       "    <tr>\n",
       "      <th>2</th>\n",
       "      <td>AL-500</td>\n",
       "      <td>911</td>\n",
       "      <td>569</td>\n",
       "      <td>308</td>\n",
       "      <td>34</td>\n",
       "      <td>191</td>\n",
       "      <td>1768</td>\n",
       "      <td>0</td>\n",
       "      <td>2018</td>\n",
       "      <td>AL-500 2018</td>\n",
       "      <td>901</td>\n",
       "      <td>219</td>\n",
       "      <td>682</td>\n",
       "    </tr>\n",
       "    <tr>\n",
       "      <th>3</th>\n",
       "      <td>AL-501</td>\n",
       "      <td>435</td>\n",
       "      <td>298</td>\n",
       "      <td>137</td>\n",
       "      <td>0</td>\n",
       "      <td>60</td>\n",
       "      <td>203</td>\n",
       "      <td>0</td>\n",
       "      <td>2018</td>\n",
       "      <td>AL-501 2018</td>\n",
       "      <td>551</td>\n",
       "      <td>233</td>\n",
       "      <td>318</td>\n",
       "    </tr>\n",
       "    <tr>\n",
       "      <th>4</th>\n",
       "      <td>AL-502</td>\n",
       "      <td>210</td>\n",
       "      <td>102</td>\n",
       "      <td>108</td>\n",
       "      <td>0</td>\n",
       "      <td>0</td>\n",
       "      <td>50</td>\n",
       "      <td>0</td>\n",
       "      <td>2018</td>\n",
       "      <td>AL-502 2018</td>\n",
       "      <td>256</td>\n",
       "      <td>22</td>\n",
       "      <td>234</td>\n",
       "    </tr>\n",
       "  </tbody>\n",
       "</table>\n",
       "</div>"
      ],
      "text/plain": [
       "      Coc  Total  Emergency  Transitional  SafeHaven  RapidRehousing  \\\n",
       "0  AK-500   1028        749           279          0             125   \n",
       "1  AK-501    912        649           263          0              90   \n",
       "2  AL-500    911        569           308         34             191   \n",
       "3  AL-501    435        298           137          0              60   \n",
       "4  AL-502    210        102           108          0               0   \n",
       "\n",
       "   PermanentSupportive  PermanentOther  Year      CocYear  Total:1  \\\n",
       "0                  604              71  2018  AK-500 2018     1094   \n",
       "1                  344               0  2018  AK-501 2018      922   \n",
       "2                 1768               0  2018  AL-500 2018      901   \n",
       "3                  203               0  2018  AL-501 2018      551   \n",
       "4                   50               0  2018  AL-502 2018      256   \n",
       "\n",
       "   Unsheltered  Sheltered  \n",
       "0           94       1000  \n",
       "1          215        707  \n",
       "2          219        682  \n",
       "3          233        318  \n",
       "4           22        234  "
      ]
     },
     "execution_count": 3,
     "metadata": {},
     "output_type": "execute_result"
    }
   ],
   "source": [
    "# Loading data\n",
    "df_2018 = pd.read_sql(\"SELECT * FROM CocData WHERE year = 2018\", con = conn)\n",
    "\n",
    "df_2018.head()"
   ]
  },
  {
   "cell_type": "code",
   "execution_count": 4,
   "id": "8baead76",
   "metadata": {},
   "outputs": [],
   "source": [
    "df_2018=df_2018.drop(['Total:1', 'Sheltered', 'Total', 'CocYear', 'Coc', 'Year'], axis=1)"
   ]
  },
  {
   "cell_type": "code",
   "execution_count": 5,
   "id": "34027fd1",
   "metadata": {},
   "outputs": [
    {
     "data": {
      "text/html": [
       "<div>\n",
       "<style scoped>\n",
       "    .dataframe tbody tr th:only-of-type {\n",
       "        vertical-align: middle;\n",
       "    }\n",
       "\n",
       "    .dataframe tbody tr th {\n",
       "        vertical-align: top;\n",
       "    }\n",
       "\n",
       "    .dataframe thead th {\n",
       "        text-align: right;\n",
       "    }\n",
       "</style>\n",
       "<table border=\"1\" class=\"dataframe\">\n",
       "  <thead>\n",
       "    <tr style=\"text-align: right;\">\n",
       "      <th></th>\n",
       "      <th>Emergency</th>\n",
       "      <th>Transitional</th>\n",
       "      <th>SafeHaven</th>\n",
       "      <th>RapidRehousing</th>\n",
       "      <th>PermanentSupportive</th>\n",
       "      <th>PermanentOther</th>\n",
       "      <th>Unsheltered</th>\n",
       "    </tr>\n",
       "  </thead>\n",
       "  <tbody>\n",
       "    <tr>\n",
       "      <th>0</th>\n",
       "      <td>749</td>\n",
       "      <td>279</td>\n",
       "      <td>0</td>\n",
       "      <td>125</td>\n",
       "      <td>604</td>\n",
       "      <td>71</td>\n",
       "      <td>94</td>\n",
       "    </tr>\n",
       "    <tr>\n",
       "      <th>1</th>\n",
       "      <td>649</td>\n",
       "      <td>263</td>\n",
       "      <td>0</td>\n",
       "      <td>90</td>\n",
       "      <td>344</td>\n",
       "      <td>0</td>\n",
       "      <td>215</td>\n",
       "    </tr>\n",
       "    <tr>\n",
       "      <th>2</th>\n",
       "      <td>569</td>\n",
       "      <td>308</td>\n",
       "      <td>34</td>\n",
       "      <td>191</td>\n",
       "      <td>1768</td>\n",
       "      <td>0</td>\n",
       "      <td>219</td>\n",
       "    </tr>\n",
       "    <tr>\n",
       "      <th>3</th>\n",
       "      <td>298</td>\n",
       "      <td>137</td>\n",
       "      <td>0</td>\n",
       "      <td>60</td>\n",
       "      <td>203</td>\n",
       "      <td>0</td>\n",
       "      <td>233</td>\n",
       "    </tr>\n",
       "    <tr>\n",
       "      <th>4</th>\n",
       "      <td>102</td>\n",
       "      <td>108</td>\n",
       "      <td>0</td>\n",
       "      <td>0</td>\n",
       "      <td>50</td>\n",
       "      <td>0</td>\n",
       "      <td>22</td>\n",
       "    </tr>\n",
       "  </tbody>\n",
       "</table>\n",
       "</div>"
      ],
      "text/plain": [
       "   Emergency  Transitional  SafeHaven  RapidRehousing  PermanentSupportive  \\\n",
       "0        749           279          0             125                  604   \n",
       "1        649           263          0              90                  344   \n",
       "2        569           308         34             191                 1768   \n",
       "3        298           137          0              60                  203   \n",
       "4        102           108          0               0                   50   \n",
       "\n",
       "   PermanentOther  Unsheltered  \n",
       "0              71           94  \n",
       "1               0          215  \n",
       "2               0          219  \n",
       "3               0          233  \n",
       "4               0           22  "
      ]
     },
     "execution_count": 5,
     "metadata": {},
     "output_type": "execute_result"
    }
   ],
   "source": [
    "df_2018.head()"
   ]
  },
  {
   "cell_type": "code",
   "execution_count": null,
   "id": "c93e107b",
   "metadata": {},
   "outputs": [],
   "source": []
  },
  {
   "cell_type": "code",
   "execution_count": 7,
   "id": "b3b8c198",
   "metadata": {},
   "outputs": [
    {
     "data": {
      "text/html": [
       "<div>\n",
       "<style scoped>\n",
       "    .dataframe tbody tr th:only-of-type {\n",
       "        vertical-align: middle;\n",
       "    }\n",
       "\n",
       "    .dataframe tbody tr th {\n",
       "        vertical-align: top;\n",
       "    }\n",
       "\n",
       "    .dataframe thead th {\n",
       "        text-align: right;\n",
       "    }\n",
       "</style>\n",
       "<table border=\"1\" class=\"dataframe\">\n",
       "  <thead>\n",
       "    <tr style=\"text-align: right;\">\n",
       "      <th></th>\n",
       "      <th>Emergency</th>\n",
       "      <th>Transitional</th>\n",
       "      <th>SafeHaven</th>\n",
       "      <th>RapidRehousing</th>\n",
       "      <th>PermanentSupportive</th>\n",
       "      <th>PermanentOther</th>\n",
       "    </tr>\n",
       "  </thead>\n",
       "  <tbody>\n",
       "    <tr>\n",
       "      <th>0</th>\n",
       "      <td>749</td>\n",
       "      <td>279</td>\n",
       "      <td>0</td>\n",
       "      <td>125</td>\n",
       "      <td>604</td>\n",
       "      <td>71</td>\n",
       "    </tr>\n",
       "    <tr>\n",
       "      <th>1</th>\n",
       "      <td>649</td>\n",
       "      <td>263</td>\n",
       "      <td>0</td>\n",
       "      <td>90</td>\n",
       "      <td>344</td>\n",
       "      <td>0</td>\n",
       "    </tr>\n",
       "    <tr>\n",
       "      <th>2</th>\n",
       "      <td>569</td>\n",
       "      <td>308</td>\n",
       "      <td>34</td>\n",
       "      <td>191</td>\n",
       "      <td>1768</td>\n",
       "      <td>0</td>\n",
       "    </tr>\n",
       "    <tr>\n",
       "      <th>3</th>\n",
       "      <td>298</td>\n",
       "      <td>137</td>\n",
       "      <td>0</td>\n",
       "      <td>60</td>\n",
       "      <td>203</td>\n",
       "      <td>0</td>\n",
       "    </tr>\n",
       "    <tr>\n",
       "      <th>4</th>\n",
       "      <td>102</td>\n",
       "      <td>108</td>\n",
       "      <td>0</td>\n",
       "      <td>0</td>\n",
       "      <td>50</td>\n",
       "      <td>0</td>\n",
       "    </tr>\n",
       "  </tbody>\n",
       "</table>\n",
       "</div>"
      ],
      "text/plain": [
       "   Emergency  Transitional  SafeHaven  RapidRehousing  PermanentSupportive  \\\n",
       "0        749           279          0             125                  604   \n",
       "1        649           263          0              90                  344   \n",
       "2        569           308         34             191                 1768   \n",
       "3        298           137          0              60                  203   \n",
       "4        102           108          0               0                   50   \n",
       "\n",
       "   PermanentOther  \n",
       "0              71  \n",
       "1               0  \n",
       "2               0  \n",
       "3               0  \n",
       "4               0  "
      ]
     },
     "execution_count": 7,
     "metadata": {},
     "output_type": "execute_result"
    }
   ],
   "source": [
    "# Define the features set.\n",
    "X = df_2018.copy()\n",
    "X = X.drop(\"Unsheltered\", axis=1)\n",
    "X.head()"
   ]
  },
  {
   "cell_type": "code",
   "execution_count": 9,
   "id": "c203db81",
   "metadata": {},
   "outputs": [
    {
     "data": {
      "text/plain": [
       "array([ 94, 215, 219, 233,  22], dtype=int64)"
      ]
     },
     "execution_count": 9,
     "metadata": {},
     "output_type": "execute_result"
    }
   ],
   "source": [
    "# Define the target set.\n",
    "y = df_2018[\"Unsheltered\"].ravel()\n",
    "y[:5]"
   ]
  },
  {
   "cell_type": "code",
   "execution_count": 10,
   "id": "9b1c8c6c",
   "metadata": {},
   "outputs": [],
   "source": [
    "# Splitting into Train and Test sets.\n",
    "X_train, X_test, y_train, y_test = train_test_split(X, y, random_state=78)"
   ]
  },
  {
   "cell_type": "code",
   "execution_count": 11,
   "id": "01359db9",
   "metadata": {},
   "outputs": [],
   "source": [
    "regr = RandomForestRegressor(max_depth=3, random_state=0)"
   ]
  },
  {
   "cell_type": "code",
   "execution_count": 12,
   "id": "ddbb7812",
   "metadata": {},
   "outputs": [],
   "source": [
    "reg_model = regr.fit(X, y)"
   ]
  },
  {
   "cell_type": "code",
   "execution_count": 13,
   "id": "dd6ec966",
   "metadata": {},
   "outputs": [
    {
     "data": {
      "text/plain": [
       "array([0.03938816, 0.4557116 , 0.03504789, 0.25405945, 0.13602616,\n",
       "       0.07976673])"
      ]
     },
     "execution_count": 13,
     "metadata": {},
     "output_type": "execute_result"
    }
   ],
   "source": [
    "importances = reg_model.feature_importances_\n",
    "importances"
   ]
  },
  {
   "cell_type": "code",
   "execution_count": 14,
   "id": "eff49320",
   "metadata": {},
   "outputs": [
    {
     "data": {
      "text/plain": [
       "[(0.45571160332194227, 'Transitional'),\n",
       " (0.25405945336563385, 'RapidRehousing'),\n",
       " (0.13602616238643098, 'PermanentSupportive'),\n",
       " (0.07976672904145705, 'PermanentOther'),\n",
       " (0.039388161128385585, 'Emergency'),\n",
       " (0.03504789075615036, 'SafeHaven')]"
      ]
     },
     "execution_count": 14,
     "metadata": {},
     "output_type": "execute_result"
    }
   ],
   "source": [
    "# We can sort the features by their importance.\n",
    "sorted(zip(reg_model.feature_importances_, X.columns), reverse=True)"
   ]
  },
  {
   "cell_type": "code",
   "execution_count": 15,
   "id": "7e87f7c3",
   "metadata": {},
   "outputs": [],
   "source": [
    "%matplotlib inline\n",
    "from matplotlib import pyplot as plt"
   ]
  },
  {
   "cell_type": "code",
   "execution_count": 16,
   "id": "eaf7d067",
   "metadata": {},
   "outputs": [
    {
     "data": {
      "image/png": "[encoded data removed]",
      "text/plain": [
       "<Figure size 720x1440 with 1 Axes>"
      ]
     },
     "metadata": {
      "needs_background": "light"
     },
     "output_type": "display_data"
    }
   ],
   "source": [
    "features = sorted(zip(X.columns, reg_model.feature_importances_), key = lambda x: x[1])\n",
    "cols = [f[0] for f in features]\n",
    "width = [f[1] for f in features]\n",
    "\n",
    "fig, ax = plt.subplots()\n",
    "\n",
    "fig.set_size_inches(10,20)\n",
    "plt.margins(y=0.001)\n",
    "\n",
    "ax.barh(y=cols, width=width)\n",
    "\n",
    "plt.show()"
   ]
  },
  {
   "cell_type": "code",
   "execution_count": 17,
   "id": "beff0f06",
   "metadata": {},
   "outputs": [],
   "source": [
    "estimator = reg_model.estimators_[5]"
   ]
  },
  {
   "cell_type": "code",
   "execution_count": 18,
   "id": "db6b37ef",
   "metadata": {},
   "outputs": [
    {
     "data": {
      "text/plain": [
       "[Text(0.5, 0.875, 'X[1] <= 1656.0\\nsquared_error = 552527.732\\nsamples = 246\\nvalue = 356.542'),\n",
       " Text(0.25, 0.625, 'X[3] <= 955.0\\nsquared_error = 271954.77\\nsamples = 242\\nvalue = 291.229'),\n",
       " Text(0.125, 0.375, 'X[4] <= 942.5\\nsquared_error = 169930.245\\nsamples = 232\\nvalue = 239.335'),\n",
       " Text(0.0625, 0.125, 'squared_error = 85670.236\\nsamples = 192\\nvalue = 175.756'),\n",
       " Text(0.1875, 0.125, 'squared_error = 478535.13\\nsamples = 40\\nvalue = 571.237'),\n",
       " Text(0.375, 0.375, 'X[3] <= 982.5\\nsquared_error = 1161274.72\\nsamples = 10\\nvalue = 1411.529'),\n",
       " Text(0.3125, 0.125, 'squared_error = 0.0\\nsamples = 1\\nvalue = 4078.0'),\n",
       " Text(0.4375, 0.125, 'squared_error = 241701.467\\nsamples = 9\\nvalue = 1056.0'),\n",
       " Text(0.75, 0.625, 'X[2] <= 37.5\\nsquared_error = 2872874.816\\nsamples = 4\\nvalue = 3939.429'),\n",
       " Text(0.625, 0.375, 'X[1] <= 2024.5\\nsquared_error = 309946.889\\nsamples = 2\\nvalue = 2095.333'),\n",
       " Text(0.5625, 0.125, 'squared_error = 0.0\\nsamples = 1\\nvalue = 1308.0'),\n",
       " Text(0.6875, 0.125, 'squared_error = 0.0\\nsamples = 1\\nvalue = 2489.0'),\n",
       " Text(0.875, 0.375, 'X[0] <= 2946.0\\nsquared_error = 331668.75\\nsamples = 2\\nvalue = 5322.5'),\n",
       " Text(0.8125, 0.125, 'squared_error = 0.0\\nsamples = 1\\nvalue = 4990.0'),\n",
       " Text(0.9375, 0.125, 'squared_error = 0.0\\nsamples = 1\\nvalue = 6320.0')]"
      ]
     },
     "execution_count": 18,
     "metadata": {},
     "output_type": "execute_result"
    },
    {
     "data": {
      "image/png": "[encoded data removed]",
      "text/plain": [
       "<Figure size 432x288 with 1 Axes>"
      ]
     },
     "metadata": {
      "needs_background": "light"
     },
     "output_type": "display_data"
    }
   ],
   "source": [
    "from sklearn import tree\n",
    "tree.plot_tree(reg_model.estimators_[0])"
   ]
  },
  {
   "cell_type": "code",
   "execution_count": null,
   "id": "1b29727e",
   "metadata": {},
   "outputs": [],
   "source": []
  },
  {
   "cell_type": "code",
   "execution_count": null,
   "id": "f2ecce61",
   "metadata": {},
   "outputs": [],
   "source": []
  },
  {
   "cell_type": "code",
   "execution_count": null,
   "id": "dad5ce28",
   "metadata": {},
   "outputs": [],
   "source": []
  },
  {
   "cell_type": "code",
   "execution_count": null,
   "id": "650cb8c2",
   "metadata": {},
   "outputs": [],
   "source": []
  },
  {
   "cell_type": "code",
   "execution_count": null,
   "id": "e9c73f14",
   "metadata": {},
   "outputs": [],
   "source": []
  }
 ],
 "metadata": {
  "kernelspec": {
   "display_name": "mlenv",
   "language": "python",
   "name": "mlenv"
  },
  "language_info": {
   "codemirror_mode": {
    "name": "ipython",
    "version": 3
   },
   "file_extension": ".py",
   "mimetype": "text/x-python",
   "name": "python",
   "nbconvert_exporter": "python",
   "pygments_lexer": "ipython3",
   "version": "3.7.11"
  }
 },
 "nbformat": 4,
 "nbformat_minor": 5
}
