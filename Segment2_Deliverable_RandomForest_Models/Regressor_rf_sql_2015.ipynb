{
 "cells": [
  {
   "cell_type": "code",
   "execution_count": 1,
   "id": "dff54672",
   "metadata": {},
   "outputs": [],
   "source": [
    "# Initial imports.\n",
    "import pandas as pd\n",
    "import numpy as np\n",
    "from path import Path\n",
    "from sklearn.ensemble import RandomForestRegressor\n",
    "from sklearn.datasets import make_regression\n",
    "from sklearn.preprocessing import StandardScaler\n",
    "from sklearn.model_selection import train_test_split\n",
    "from sklearn.metrics import confusion_matrix, accuracy_score, classification_report\n",
    "from sklearn.tree import export_graphviz\n",
    "import sqlite3"
   ]
  },
  {
   "cell_type": "code",
   "execution_count": 2,
   "id": "7c6b1103",
   "metadata": {},
   "outputs": [],
   "source": [
    "conn = sqlite3.connect('../HomelessData.db')\n",
    "c = conn.cursor()"
   ]
  },
  {
   "cell_type": "code",
   "execution_count": 3,
   "id": "5c042c65",
   "metadata": {},
   "outputs": [
    {
     "data": {
      "text/html": [
       "<div>\n",
       "<style scoped>\n",
       "    .dataframe tbody tr th:only-of-type {\n",
       "        vertical-align: middle;\n",
       "    }\n",
       "\n",
       "    .dataframe tbody tr th {\n",
       "        vertical-align: top;\n",
       "    }\n",
       "\n",
       "    .dataframe thead th {\n",
       "        text-align: right;\n",
       "    }\n",
       "</style>\n",
       "<table border=\"1\" class=\"dataframe\">\n",
       "  <thead>\n",
       "    <tr style=\"text-align: right;\">\n",
       "      <th></th>\n",
       "      <th>Coc</th>\n",
       "      <th>TotalBeds</th>\n",
       "      <th>Emergency</th>\n",
       "      <th>Transitional</th>\n",
       "      <th>SafeHaven</th>\n",
       "      <th>RapidRehousing</th>\n",
       "      <th>PermanentSupportive</th>\n",
       "      <th>PermanentOther</th>\n",
       "      <th>Year</th>\n",
       "      <th>CocYear</th>\n",
       "      <th>TotalHomeless</th>\n",
       "      <th>Unsheltered</th>\n",
       "      <th>Sheltered</th>\n",
       "      <th>Population</th>\n",
       "      <th>Unemployment</th>\n",
       "    </tr>\n",
       "  </thead>\n",
       "  <tbody>\n",
       "    <tr>\n",
       "      <th>0</th>\n",
       "      <td>AK-500</td>\n",
       "      <td>1019</td>\n",
       "      <td>603</td>\n",
       "      <td>416</td>\n",
       "      <td>0</td>\n",
       "      <td>28</td>\n",
       "      <td>492</td>\n",
       "      <td>71</td>\n",
       "      <td>2015</td>\n",
       "      <td>AK-500 2015</td>\n",
       "      <td>1208</td>\n",
       "      <td>179</td>\n",
       "      <td>1029</td>\n",
       "      <td>297547.0</td>\n",
       "      <td>4.900000</td>\n",
       "    </tr>\n",
       "    <tr>\n",
       "      <th>1</th>\n",
       "      <td>AK-501</td>\n",
       "      <td>841</td>\n",
       "      <td>581</td>\n",
       "      <td>260</td>\n",
       "      <td>0</td>\n",
       "      <td>7</td>\n",
       "      <td>284</td>\n",
       "      <td>0</td>\n",
       "      <td>2015</td>\n",
       "      <td>AK-501 2015</td>\n",
       "      <td>748</td>\n",
       "      <td>138</td>\n",
       "      <td>610</td>\n",
       "      <td>421708.0</td>\n",
       "      <td>8.770833</td>\n",
       "    </tr>\n",
       "    <tr>\n",
       "      <th>2</th>\n",
       "      <td>AL-500</td>\n",
       "      <td>1054</td>\n",
       "      <td>406</td>\n",
       "      <td>614</td>\n",
       "      <td>34</td>\n",
       "      <td>585</td>\n",
       "      <td>1686</td>\n",
       "      <td>34</td>\n",
       "      <td>2015</td>\n",
       "      <td>AL-500 2015</td>\n",
       "      <td>1153</td>\n",
       "      <td>237</td>\n",
       "      <td>916</td>\n",
       "      <td>955960.0</td>\n",
       "      <td>5.066667</td>\n",
       "    </tr>\n",
       "    <tr>\n",
       "      <th>3</th>\n",
       "      <td>AL-501</td>\n",
       "      <td>484</td>\n",
       "      <td>359</td>\n",
       "      <td>125</td>\n",
       "      <td>0</td>\n",
       "      <td>75</td>\n",
       "      <td>208</td>\n",
       "      <td>0</td>\n",
       "      <td>2015</td>\n",
       "      <td>AL-501 2015</td>\n",
       "      <td>578</td>\n",
       "      <td>214</td>\n",
       "      <td>364</td>\n",
       "      <td>617401.0</td>\n",
       "      <td>6.250000</td>\n",
       "    </tr>\n",
       "    <tr>\n",
       "      <th>4</th>\n",
       "      <td>AL-502</td>\n",
       "      <td>264</td>\n",
       "      <td>70</td>\n",
       "      <td>194</td>\n",
       "      <td>0</td>\n",
       "      <td>0</td>\n",
       "      <td>58</td>\n",
       "      <td>0</td>\n",
       "      <td>2015</td>\n",
       "      <td>AL-502 2015</td>\n",
       "      <td>245</td>\n",
       "      <td>31</td>\n",
       "      <td>214</td>\n",
       "      <td>208510.0</td>\n",
       "      <td>7.125000</td>\n",
       "    </tr>\n",
       "  </tbody>\n",
       "</table>\n",
       "</div>"
      ],
      "text/plain": [
       "      Coc  TotalBeds  Emergency  Transitional  SafeHaven  RapidRehousing  \\\n",
       "0  AK-500       1019        603           416          0              28   \n",
       "1  AK-501        841        581           260          0               7   \n",
       "2  AL-500       1054        406           614         34             585   \n",
       "3  AL-501        484        359           125          0              75   \n",
       "4  AL-502        264         70           194          0               0   \n",
       "\n",
       "   PermanentSupportive  PermanentOther  Year      CocYear  TotalHomeless  \\\n",
       "0                  492              71  2015  AK-500 2015           1208   \n",
       "1                  284               0  2015  AK-501 2015            748   \n",
       "2                 1686              34  2015  AL-500 2015           1153   \n",
       "3                  208               0  2015  AL-501 2015            578   \n",
       "4                   58               0  2015  AL-502 2015            245   \n",
       "\n",
       "   Unsheltered  Sheltered  Population  Unemployment  \n",
       "0          179       1029    297547.0      4.900000  \n",
       "1          138        610    421708.0      8.770833  \n",
       "2          237        916    955960.0      5.066667  \n",
       "3          214        364    617401.0      6.250000  \n",
       "4           31        214    208510.0      7.125000  "
      ]
     },
     "execution_count": 3,
     "metadata": {},
     "output_type": "execute_result"
    }
   ],
   "source": [
    "# Loading data\n",
    "df_2015 = pd.read_sql(\"SELECT * FROM CocData WHERE year = 2015\", con = conn)\n",
    "\n",
    "df_2015.head()"
   ]
  },
  {
   "cell_type": "code",
   "execution_count": 4,
   "id": "8baead76",
   "metadata": {},
   "outputs": [],
   "source": [
    "df_2015=df_2015.drop(['TotalHomeless', 'Sheltered', 'TotalBeds', 'CocYear', 'Coc', 'Year'], axis=1)"
   ]
  },
  {
   "cell_type": "code",
   "execution_count": 5,
   "id": "05f99e9a",
   "metadata": {},
   "outputs": [],
   "source": [
    "#df_2015['Unsheltered_div_pop'] = df_2015['Unsheltered'] / df_2015['Population']"
   ]
  },
  {
   "cell_type": "code",
   "execution_count": 6,
   "id": "02696633",
   "metadata": {},
   "outputs": [],
   "source": [
    "#df_2015.head()"
   ]
  },
  {
   "cell_type": "code",
   "execution_count": 7,
   "id": "8e6d8576",
   "metadata": {},
   "outputs": [],
   "source": [
    "df_2015['Unsheltered_perc_pop'] = (df_2015['Unsheltered'] / df_2015['Population']) *100"
   ]
  },
  {
   "cell_type": "code",
   "execution_count": 8,
   "id": "f60649d7",
   "metadata": {},
   "outputs": [
    {
     "data": {
      "text/html": [
       "<div>\n",
       "<style scoped>\n",
       "    .dataframe tbody tr th:only-of-type {\n",
       "        vertical-align: middle;\n",
       "    }\n",
       "\n",
       "    .dataframe tbody tr th {\n",
       "        vertical-align: top;\n",
       "    }\n",
       "\n",
       "    .dataframe thead th {\n",
       "        text-align: right;\n",
       "    }\n",
       "</style>\n",
       "<table border=\"1\" class=\"dataframe\">\n",
       "  <thead>\n",
       "    <tr style=\"text-align: right;\">\n",
       "      <th></th>\n",
       "      <th>Emergency</th>\n",
       "      <th>Transitional</th>\n",
       "      <th>SafeHaven</th>\n",
       "      <th>RapidRehousing</th>\n",
       "      <th>PermanentSupportive</th>\n",
       "      <th>PermanentOther</th>\n",
       "      <th>Unsheltered</th>\n",
       "      <th>Population</th>\n",
       "      <th>Unemployment</th>\n",
       "      <th>Unsheltered_perc_pop</th>\n",
       "    </tr>\n",
       "  </thead>\n",
       "  <tbody>\n",
       "    <tr>\n",
       "      <th>0</th>\n",
       "      <td>603</td>\n",
       "      <td>416</td>\n",
       "      <td>0</td>\n",
       "      <td>28</td>\n",
       "      <td>492</td>\n",
       "      <td>71</td>\n",
       "      <td>179</td>\n",
       "      <td>297547.0</td>\n",
       "      <td>4.900000</td>\n",
       "      <td>0.060159</td>\n",
       "    </tr>\n",
       "    <tr>\n",
       "      <th>1</th>\n",
       "      <td>581</td>\n",
       "      <td>260</td>\n",
       "      <td>0</td>\n",
       "      <td>7</td>\n",
       "      <td>284</td>\n",
       "      <td>0</td>\n",
       "      <td>138</td>\n",
       "      <td>421708.0</td>\n",
       "      <td>8.770833</td>\n",
       "      <td>0.032724</td>\n",
       "    </tr>\n",
       "    <tr>\n",
       "      <th>2</th>\n",
       "      <td>406</td>\n",
       "      <td>614</td>\n",
       "      <td>34</td>\n",
       "      <td>585</td>\n",
       "      <td>1686</td>\n",
       "      <td>34</td>\n",
       "      <td>237</td>\n",
       "      <td>955960.0</td>\n",
       "      <td>5.066667</td>\n",
       "      <td>0.024792</td>\n",
       "    </tr>\n",
       "    <tr>\n",
       "      <th>3</th>\n",
       "      <td>359</td>\n",
       "      <td>125</td>\n",
       "      <td>0</td>\n",
       "      <td>75</td>\n",
       "      <td>208</td>\n",
       "      <td>0</td>\n",
       "      <td>214</td>\n",
       "      <td>617401.0</td>\n",
       "      <td>6.250000</td>\n",
       "      <td>0.034661</td>\n",
       "    </tr>\n",
       "    <tr>\n",
       "      <th>4</th>\n",
       "      <td>70</td>\n",
       "      <td>194</td>\n",
       "      <td>0</td>\n",
       "      <td>0</td>\n",
       "      <td>58</td>\n",
       "      <td>0</td>\n",
       "      <td>31</td>\n",
       "      <td>208510.0</td>\n",
       "      <td>7.125000</td>\n",
       "      <td>0.014867</td>\n",
       "    </tr>\n",
       "  </tbody>\n",
       "</table>\n",
       "</div>"
      ],
      "text/plain": [
       "   Emergency  Transitional  SafeHaven  RapidRehousing  PermanentSupportive  \\\n",
       "0        603           416          0              28                  492   \n",
       "1        581           260          0               7                  284   \n",
       "2        406           614         34             585                 1686   \n",
       "3        359           125          0              75                  208   \n",
       "4         70           194          0               0                   58   \n",
       "\n",
       "   PermanentOther  Unsheltered  Population  Unemployment  Unsheltered_perc_pop  \n",
       "0              71          179    297547.0      4.900000              0.060159  \n",
       "1               0          138    421708.0      8.770833              0.032724  \n",
       "2              34          237    955960.0      5.066667              0.024792  \n",
       "3               0          214    617401.0      6.250000              0.034661  \n",
       "4               0           31    208510.0      7.125000              0.014867  "
      ]
     },
     "execution_count": 8,
     "metadata": {},
     "output_type": "execute_result"
    }
   ],
   "source": [
    "df_2015.head()"
   ]
  },
  {
   "cell_type": "code",
   "execution_count": 9,
   "id": "80f97ad6",
   "metadata": {},
   "outputs": [],
   "source": [
    "df_2015['ES_beds_perc_pop'] = (df_2015['Emergency'] / df_2015['Population']) *100"
   ]
  },
  {
   "cell_type": "code",
   "execution_count": 10,
   "id": "b5684549",
   "metadata": {},
   "outputs": [],
   "source": [
    "df_2015['TS_beds_perc_pop'] = (df_2015['Transitional'] / df_2015['Population']) *100"
   ]
  },
  {
   "cell_type": "code",
   "execution_count": 11,
   "id": "c8e1219f",
   "metadata": {},
   "outputs": [],
   "source": [
    "df_2015['SH_beds_perc_pop'] = (df_2015['SafeHaven'] / df_2015['Population']) *100"
   ]
  },
  {
   "cell_type": "code",
   "execution_count": 12,
   "id": "7e94d12a",
   "metadata": {},
   "outputs": [],
   "source": [
    "df_2015['RRH_units_perc_pop'] = (df_2015['RapidRehousing'] / df_2015['Population']) *100"
   ]
  },
  {
   "cell_type": "code",
   "execution_count": 13,
   "id": "400be09c",
   "metadata": {},
   "outputs": [],
   "source": [
    "df_2015['RRH_units_perc_pop'] = (df_2015['RapidRehousing'] / df_2015['Population']) *100"
   ]
  },
  {
   "cell_type": "code",
   "execution_count": 14,
   "id": "ca148967",
   "metadata": {},
   "outputs": [],
   "source": [
    "df_2015['PSH_units_perc_pop'] = (df_2015['PermanentSupportive'] / df_2015['Population']) *100"
   ]
  },
  {
   "cell_type": "code",
   "execution_count": 15,
   "id": "5977410d",
   "metadata": {},
   "outputs": [],
   "source": [
    "df_2015['OPH_units_perc_pop'] = (df_2015['PermanentOther'] / df_2015['Population']) *100"
   ]
  },
  {
   "cell_type": "code",
   "execution_count": 16,
   "id": "748c71c5",
   "metadata": {},
   "outputs": [
    {
     "data": {
      "text/html": [
       "<div>\n",
       "<style scoped>\n",
       "    .dataframe tbody tr th:only-of-type {\n",
       "        vertical-align: middle;\n",
       "    }\n",
       "\n",
       "    .dataframe tbody tr th {\n",
       "        vertical-align: top;\n",
       "    }\n",
       "\n",
       "    .dataframe thead th {\n",
       "        text-align: right;\n",
       "    }\n",
       "</style>\n",
       "<table border=\"1\" class=\"dataframe\">\n",
       "  <thead>\n",
       "    <tr style=\"text-align: right;\">\n",
       "      <th></th>\n",
       "      <th>Emergency</th>\n",
       "      <th>Transitional</th>\n",
       "      <th>SafeHaven</th>\n",
       "      <th>RapidRehousing</th>\n",
       "      <th>PermanentSupportive</th>\n",
       "      <th>PermanentOther</th>\n",
       "      <th>Unsheltered</th>\n",
       "      <th>Population</th>\n",
       "      <th>Unemployment</th>\n",
       "      <th>Unsheltered_perc_pop</th>\n",
       "      <th>ES_beds_perc_pop</th>\n",
       "      <th>TS_beds_perc_pop</th>\n",
       "      <th>SH_beds_perc_pop</th>\n",
       "      <th>RRH_units_perc_pop</th>\n",
       "      <th>PSH_units_perc_pop</th>\n",
       "      <th>OPH_units_perc_pop</th>\n",
       "    </tr>\n",
       "  </thead>\n",
       "  <tbody>\n",
       "    <tr>\n",
       "      <th>0</th>\n",
       "      <td>603</td>\n",
       "      <td>416</td>\n",
       "      <td>0</td>\n",
       "      <td>28</td>\n",
       "      <td>492</td>\n",
       "      <td>71</td>\n",
       "      <td>179</td>\n",
       "      <td>297547.0</td>\n",
       "      <td>4.900000</td>\n",
       "      <td>0.060159</td>\n",
       "      <td>0.202657</td>\n",
       "      <td>0.139810</td>\n",
       "      <td>0.000000</td>\n",
       "      <td>0.009410</td>\n",
       "      <td>0.165352</td>\n",
       "      <td>0.023862</td>\n",
       "    </tr>\n",
       "    <tr>\n",
       "      <th>1</th>\n",
       "      <td>581</td>\n",
       "      <td>260</td>\n",
       "      <td>0</td>\n",
       "      <td>7</td>\n",
       "      <td>284</td>\n",
       "      <td>0</td>\n",
       "      <td>138</td>\n",
       "      <td>421708.0</td>\n",
       "      <td>8.770833</td>\n",
       "      <td>0.032724</td>\n",
       "      <td>0.137773</td>\n",
       "      <td>0.061654</td>\n",
       "      <td>0.000000</td>\n",
       "      <td>0.001660</td>\n",
       "      <td>0.067345</td>\n",
       "      <td>0.000000</td>\n",
       "    </tr>\n",
       "    <tr>\n",
       "      <th>2</th>\n",
       "      <td>406</td>\n",
       "      <td>614</td>\n",
       "      <td>34</td>\n",
       "      <td>585</td>\n",
       "      <td>1686</td>\n",
       "      <td>34</td>\n",
       "      <td>237</td>\n",
       "      <td>955960.0</td>\n",
       "      <td>5.066667</td>\n",
       "      <td>0.024792</td>\n",
       "      <td>0.042470</td>\n",
       "      <td>0.064229</td>\n",
       "      <td>0.003557</td>\n",
       "      <td>0.061195</td>\n",
       "      <td>0.176367</td>\n",
       "      <td>0.003557</td>\n",
       "    </tr>\n",
       "    <tr>\n",
       "      <th>3</th>\n",
       "      <td>359</td>\n",
       "      <td>125</td>\n",
       "      <td>0</td>\n",
       "      <td>75</td>\n",
       "      <td>208</td>\n",
       "      <td>0</td>\n",
       "      <td>214</td>\n",
       "      <td>617401.0</td>\n",
       "      <td>6.250000</td>\n",
       "      <td>0.034661</td>\n",
       "      <td>0.058147</td>\n",
       "      <td>0.020246</td>\n",
       "      <td>0.000000</td>\n",
       "      <td>0.012148</td>\n",
       "      <td>0.033690</td>\n",
       "      <td>0.000000</td>\n",
       "    </tr>\n",
       "    <tr>\n",
       "      <th>4</th>\n",
       "      <td>70</td>\n",
       "      <td>194</td>\n",
       "      <td>0</td>\n",
       "      <td>0</td>\n",
       "      <td>58</td>\n",
       "      <td>0</td>\n",
       "      <td>31</td>\n",
       "      <td>208510.0</td>\n",
       "      <td>7.125000</td>\n",
       "      <td>0.014867</td>\n",
       "      <td>0.033572</td>\n",
       "      <td>0.093041</td>\n",
       "      <td>0.000000</td>\n",
       "      <td>0.000000</td>\n",
       "      <td>0.027816</td>\n",
       "      <td>0.000000</td>\n",
       "    </tr>\n",
       "  </tbody>\n",
       "</table>\n",
       "</div>"
      ],
      "text/plain": [
       "   Emergency  Transitional  SafeHaven  RapidRehousing  PermanentSupportive  \\\n",
       "0        603           416          0              28                  492   \n",
       "1        581           260          0               7                  284   \n",
       "2        406           614         34             585                 1686   \n",
       "3        359           125          0              75                  208   \n",
       "4         70           194          0               0                   58   \n",
       "\n",
       "   PermanentOther  Unsheltered  Population  Unemployment  \\\n",
       "0              71          179    297547.0      4.900000   \n",
       "1               0          138    421708.0      8.770833   \n",
       "2              34          237    955960.0      5.066667   \n",
       "3               0          214    617401.0      6.250000   \n",
       "4               0           31    208510.0      7.125000   \n",
       "\n",
       "   Unsheltered_perc_pop  ES_beds_perc_pop  TS_beds_perc_pop  SH_beds_perc_pop  \\\n",
       "0              0.060159          0.202657          0.139810          0.000000   \n",
       "1              0.032724          0.137773          0.061654          0.000000   \n",
       "2              0.024792          0.042470          0.064229          0.003557   \n",
       "3              0.034661          0.058147          0.020246          0.000000   \n",
       "4              0.014867          0.033572          0.093041          0.000000   \n",
       "\n",
       "   RRH_units_perc_pop  PSH_units_perc_pop  OPH_units_perc_pop  \n",
       "0            0.009410            0.165352            0.023862  \n",
       "1            0.001660            0.067345            0.000000  \n",
       "2            0.061195            0.176367            0.003557  \n",
       "3            0.012148            0.033690            0.000000  \n",
       "4            0.000000            0.027816            0.000000  "
      ]
     },
     "execution_count": 16,
     "metadata": {},
     "output_type": "execute_result"
    }
   ],
   "source": [
    "df_2015.head()"
   ]
  },
  {
   "cell_type": "code",
   "execution_count": 17,
   "id": "034fdc02",
   "metadata": {},
   "outputs": [],
   "source": [
    "df_2015=df_2015.drop(['Emergency', 'Transitional', 'SafeHaven', 'RapidRehousing', 'PermanentSupportive', 'PermanentOther', 'Unsheltered'], axis=1)"
   ]
  },
  {
   "cell_type": "code",
   "execution_count": 18,
   "id": "e82f9ad5",
   "metadata": {},
   "outputs": [
    {
     "name": "stdout",
     "output_type": "stream",
     "text": [
      "<class 'pandas.core.frame.DataFrame'>\n",
      "RangeIndex: 371 entries, 0 to 370\n",
      "Data columns (total 9 columns):\n",
      " #   Column                Non-Null Count  Dtype  \n",
      "---  ------                --------------  -----  \n",
      " 0   Population            371 non-null    float64\n",
      " 1   Unemployment          371 non-null    float64\n",
      " 2   Unsheltered_perc_pop  371 non-null    float64\n",
      " 3   ES_beds_perc_pop      371 non-null    float64\n",
      " 4   TS_beds_perc_pop      371 non-null    float64\n",
      " 5   SH_beds_perc_pop      371 non-null    float64\n",
      " 6   RRH_units_perc_pop    371 non-null    float64\n",
      " 7   PSH_units_perc_pop    371 non-null    float64\n",
      " 8   OPH_units_perc_pop    371 non-null    float64\n",
      "dtypes: float64(9)\n",
      "memory usage: 26.2 KB\n"
     ]
    }
   ],
   "source": [
    "df_2015.info()"
   ]
  },
  {
   "cell_type": "code",
   "execution_count": null,
   "id": "a5d62f14",
   "metadata": {},
   "outputs": [],
   "source": []
  },
  {
   "cell_type": "code",
   "execution_count": 19,
   "id": "34027fd1",
   "metadata": {},
   "outputs": [
    {
     "data": {
      "text/html": [
       "<div>\n",
       "<style scoped>\n",
       "    .dataframe tbody tr th:only-of-type {\n",
       "        vertical-align: middle;\n",
       "    }\n",
       "\n",
       "    .dataframe tbody tr th {\n",
       "        vertical-align: top;\n",
       "    }\n",
       "\n",
       "    .dataframe thead th {\n",
       "        text-align: right;\n",
       "    }\n",
       "</style>\n",
       "<table border=\"1\" class=\"dataframe\">\n",
       "  <thead>\n",
       "    <tr style=\"text-align: right;\">\n",
       "      <th></th>\n",
       "      <th>Population</th>\n",
       "      <th>Unemployment</th>\n",
       "      <th>Unsheltered_perc_pop</th>\n",
       "      <th>ES_beds_perc_pop</th>\n",
       "      <th>TS_beds_perc_pop</th>\n",
       "      <th>SH_beds_perc_pop</th>\n",
       "      <th>RRH_units_perc_pop</th>\n",
       "      <th>PSH_units_perc_pop</th>\n",
       "      <th>OPH_units_perc_pop</th>\n",
       "    </tr>\n",
       "  </thead>\n",
       "  <tbody>\n",
       "    <tr>\n",
       "      <th>0</th>\n",
       "      <td>297547.0</td>\n",
       "      <td>4.900000</td>\n",
       "      <td>0.060159</td>\n",
       "      <td>0.202657</td>\n",
       "      <td>0.139810</td>\n",
       "      <td>0.000000</td>\n",
       "      <td>0.009410</td>\n",
       "      <td>0.165352</td>\n",
       "      <td>0.023862</td>\n",
       "    </tr>\n",
       "    <tr>\n",
       "      <th>1</th>\n",
       "      <td>421708.0</td>\n",
       "      <td>8.770833</td>\n",
       "      <td>0.032724</td>\n",
       "      <td>0.137773</td>\n",
       "      <td>0.061654</td>\n",
       "      <td>0.000000</td>\n",
       "      <td>0.001660</td>\n",
       "      <td>0.067345</td>\n",
       "      <td>0.000000</td>\n",
       "    </tr>\n",
       "    <tr>\n",
       "      <th>2</th>\n",
       "      <td>955960.0</td>\n",
       "      <td>5.066667</td>\n",
       "      <td>0.024792</td>\n",
       "      <td>0.042470</td>\n",
       "      <td>0.064229</td>\n",
       "      <td>0.003557</td>\n",
       "      <td>0.061195</td>\n",
       "      <td>0.176367</td>\n",
       "      <td>0.003557</td>\n",
       "    </tr>\n",
       "    <tr>\n",
       "      <th>3</th>\n",
       "      <td>617401.0</td>\n",
       "      <td>6.250000</td>\n",
       "      <td>0.034661</td>\n",
       "      <td>0.058147</td>\n",
       "      <td>0.020246</td>\n",
       "      <td>0.000000</td>\n",
       "      <td>0.012148</td>\n",
       "      <td>0.033690</td>\n",
       "      <td>0.000000</td>\n",
       "    </tr>\n",
       "    <tr>\n",
       "      <th>4</th>\n",
       "      <td>208510.0</td>\n",
       "      <td>7.125000</td>\n",
       "      <td>0.014867</td>\n",
       "      <td>0.033572</td>\n",
       "      <td>0.093041</td>\n",
       "      <td>0.000000</td>\n",
       "      <td>0.000000</td>\n",
       "      <td>0.027816</td>\n",
       "      <td>0.000000</td>\n",
       "    </tr>\n",
       "  </tbody>\n",
       "</table>\n",
       "</div>"
      ],
      "text/plain": [
       "   Population  Unemployment  Unsheltered_perc_pop  ES_beds_perc_pop  \\\n",
       "0    297547.0      4.900000              0.060159          0.202657   \n",
       "1    421708.0      8.770833              0.032724          0.137773   \n",
       "2    955960.0      5.066667              0.024792          0.042470   \n",
       "3    617401.0      6.250000              0.034661          0.058147   \n",
       "4    208510.0      7.125000              0.014867          0.033572   \n",
       "\n",
       "   TS_beds_perc_pop  SH_beds_perc_pop  RRH_units_perc_pop  PSH_units_perc_pop  \\\n",
       "0          0.139810          0.000000            0.009410            0.165352   \n",
       "1          0.061654          0.000000            0.001660            0.067345   \n",
       "2          0.064229          0.003557            0.061195            0.176367   \n",
       "3          0.020246          0.000000            0.012148            0.033690   \n",
       "4          0.093041          0.000000            0.000000            0.027816   \n",
       "\n",
       "   OPH_units_perc_pop  \n",
       "0            0.023862  \n",
       "1            0.000000  \n",
       "2            0.003557  \n",
       "3            0.000000  \n",
       "4            0.000000  "
      ]
     },
     "execution_count": 19,
     "metadata": {},
     "output_type": "execute_result"
    }
   ],
   "source": [
    "df_2015.head()"
   ]
  },
  {
   "cell_type": "code",
   "execution_count": null,
   "id": "c93e107b",
   "metadata": {},
   "outputs": [],
   "source": []
  },
  {
   "cell_type": "code",
   "execution_count": 20,
   "id": "b3b8c198",
   "metadata": {},
   "outputs": [
    {
     "data": {
      "text/html": [
       "<div>\n",
       "<style scoped>\n",
       "    .dataframe tbody tr th:only-of-type {\n",
       "        vertical-align: middle;\n",
       "    }\n",
       "\n",
       "    .dataframe tbody tr th {\n",
       "        vertical-align: top;\n",
       "    }\n",
       "\n",
       "    .dataframe thead th {\n",
       "        text-align: right;\n",
       "    }\n",
       "</style>\n",
       "<table border=\"1\" class=\"dataframe\">\n",
       "  <thead>\n",
       "    <tr style=\"text-align: right;\">\n",
       "      <th></th>\n",
       "      <th>Population</th>\n",
       "      <th>Unemployment</th>\n",
       "      <th>ES_beds_perc_pop</th>\n",
       "      <th>TS_beds_perc_pop</th>\n",
       "      <th>SH_beds_perc_pop</th>\n",
       "      <th>RRH_units_perc_pop</th>\n",
       "      <th>PSH_units_perc_pop</th>\n",
       "      <th>OPH_units_perc_pop</th>\n",
       "    </tr>\n",
       "  </thead>\n",
       "  <tbody>\n",
       "    <tr>\n",
       "      <th>0</th>\n",
       "      <td>297547.0</td>\n",
       "      <td>4.900000</td>\n",
       "      <td>0.202657</td>\n",
       "      <td>0.139810</td>\n",
       "      <td>0.000000</td>\n",
       "      <td>0.009410</td>\n",
       "      <td>0.165352</td>\n",
       "      <td>0.023862</td>\n",
       "    </tr>\n",
       "    <tr>\n",
       "      <th>1</th>\n",
       "      <td>421708.0</td>\n",
       "      <td>8.770833</td>\n",
       "      <td>0.137773</td>\n",
       "      <td>0.061654</td>\n",
       "      <td>0.000000</td>\n",
       "      <td>0.001660</td>\n",
       "      <td>0.067345</td>\n",
       "      <td>0.000000</td>\n",
       "    </tr>\n",
       "    <tr>\n",
       "      <th>2</th>\n",
       "      <td>955960.0</td>\n",
       "      <td>5.066667</td>\n",
       "      <td>0.042470</td>\n",
       "      <td>0.064229</td>\n",
       "      <td>0.003557</td>\n",
       "      <td>0.061195</td>\n",
       "      <td>0.176367</td>\n",
       "      <td>0.003557</td>\n",
       "    </tr>\n",
       "    <tr>\n",
       "      <th>3</th>\n",
       "      <td>617401.0</td>\n",
       "      <td>6.250000</td>\n",
       "      <td>0.058147</td>\n",
       "      <td>0.020246</td>\n",
       "      <td>0.000000</td>\n",
       "      <td>0.012148</td>\n",
       "      <td>0.033690</td>\n",
       "      <td>0.000000</td>\n",
       "    </tr>\n",
       "    <tr>\n",
       "      <th>4</th>\n",
       "      <td>208510.0</td>\n",
       "      <td>7.125000</td>\n",
       "      <td>0.033572</td>\n",
       "      <td>0.093041</td>\n",
       "      <td>0.000000</td>\n",
       "      <td>0.000000</td>\n",
       "      <td>0.027816</td>\n",
       "      <td>0.000000</td>\n",
       "    </tr>\n",
       "  </tbody>\n",
       "</table>\n",
       "</div>"
      ],
      "text/plain": [
       "   Population  Unemployment  ES_beds_perc_pop  TS_beds_perc_pop  \\\n",
       "0    297547.0      4.900000          0.202657          0.139810   \n",
       "1    421708.0      8.770833          0.137773          0.061654   \n",
       "2    955960.0      5.066667          0.042470          0.064229   \n",
       "3    617401.0      6.250000          0.058147          0.020246   \n",
       "4    208510.0      7.125000          0.033572          0.093041   \n",
       "\n",
       "   SH_beds_perc_pop  RRH_units_perc_pop  PSH_units_perc_pop  \\\n",
       "0          0.000000            0.009410            0.165352   \n",
       "1          0.000000            0.001660            0.067345   \n",
       "2          0.003557            0.061195            0.176367   \n",
       "3          0.000000            0.012148            0.033690   \n",
       "4          0.000000            0.000000            0.027816   \n",
       "\n",
       "   OPH_units_perc_pop  \n",
       "0            0.023862  \n",
       "1            0.000000  \n",
       "2            0.003557  \n",
       "3            0.000000  \n",
       "4            0.000000  "
      ]
     },
     "execution_count": 20,
     "metadata": {},
     "output_type": "execute_result"
    }
   ],
   "source": [
    "# Define the features set.\n",
    "X = df_2015.copy()\n",
    "X = X.drop(\"Unsheltered_perc_pop\", axis=1)\n",
    "X.head()"
   ]
  },
  {
   "cell_type": "code",
   "execution_count": 21,
   "id": "c203db81",
   "metadata": {},
   "outputs": [
    {
     "data": {
      "text/plain": [
       "array([0.06015856, 0.03272406, 0.02479183, 0.03466143, 0.01486739])"
      ]
     },
     "execution_count": 21,
     "metadata": {},
     "output_type": "execute_result"
    }
   ],
   "source": [
    "# Define the target set.\n",
    "y = df_2015[\"Unsheltered_perc_pop\"].ravel()\n",
    "y[:5]"
   ]
  },
  {
   "cell_type": "code",
   "execution_count": 22,
   "id": "9b1c8c6c",
   "metadata": {},
   "outputs": [],
   "source": [
    "# Splitting into Train and Test sets.\n",
    "X_train, X_test, y_train, y_test = train_test_split(X, y, random_state=78)"
   ]
  },
  {
   "cell_type": "code",
   "execution_count": 23,
   "id": "01359db9",
   "metadata": {},
   "outputs": [],
   "source": [
    "regr = RandomForestRegressor(max_depth=3, random_state=0)"
   ]
  },
  {
   "cell_type": "code",
   "execution_count": 24,
   "id": "ddbb7812",
   "metadata": {},
   "outputs": [],
   "source": [
    "reg_model = regr.fit(X, y)"
   ]
  },
  {
   "cell_type": "code",
   "execution_count": 25,
   "id": "dd6ec966",
   "metadata": {},
   "outputs": [
    {
     "data": {
      "text/plain": [
       "array([0.10840468, 0.15188667, 0.04965135, 0.29258301, 0.00919271,\n",
       "       0.06002568, 0.324067  , 0.00418892])"
      ]
     },
     "execution_count": 25,
     "metadata": {},
     "output_type": "execute_result"
    }
   ],
   "source": [
    "importances = reg_model.feature_importances_\n",
    "importances"
   ]
  },
  {
   "cell_type": "code",
   "execution_count": 26,
   "id": "eff49320",
   "metadata": {},
   "outputs": [
    {
     "data": {
      "text/plain": [
       "[(0.3240670003130131, 'PSH_units_perc_pop'),\n",
       " (0.2925830113402338, 'TS_beds_perc_pop'),\n",
       " (0.1518866654048452, 'Unemployment'),\n",
       " (0.10840467813991622, 'Population'),\n",
       " (0.06002567521024951, 'RRH_units_perc_pop'),\n",
       " (0.04965134912599626, 'ES_beds_perc_pop'),\n",
       " (0.009192705123640572, 'SH_beds_perc_pop'),\n",
       " (0.004188915342105375, 'OPH_units_perc_pop')]"
      ]
     },
     "execution_count": 26,
     "metadata": {},
     "output_type": "execute_result"
    }
   ],
   "source": [
    "# We can sort the features by their importance.\n",
    "sorted(zip(reg_model.feature_importances_, X.columns), reverse=True)"
   ]
  },
  {
   "cell_type": "code",
   "execution_count": 27,
   "id": "7e87f7c3",
   "metadata": {},
   "outputs": [],
   "source": [
    "%matplotlib inline\n",
    "from matplotlib import pyplot as plt"
   ]
  },
  {
   "cell_type": "code",
   "execution_count": 28,
   "id": "eaf7d067",
   "metadata": {},
   "outputs": [
    {
     "data": {
      "image/png": "[encoded data removed]",
      "text/plain": [
       "<Figure size 720x1440 with 1 Axes>"
      ]
     },
     "metadata": {
      "needs_background": "light"
     },
     "output_type": "display_data"
    }
   ],
   "source": [
    "features = sorted(zip(X.columns, reg_model.feature_importances_), key = lambda x: x[1])\n",
    "cols = [f[0] for f in features]\n",
    "width = [f[1] for f in features]\n",
    "\n",
    "fig, ax = plt.subplots()\n",
    "\n",
    "fig.set_size_inches(10,20)\n",
    "plt.margins(y=0.001)\n",
    "\n",
    "ax.barh(y=cols, width=width)\n",
    "\n",
    "plt.show()"
   ]
  },
  {
   "cell_type": "code",
   "execution_count": 29,
   "id": "beff0f06",
   "metadata": {},
   "outputs": [],
   "source": [
    "estimator = reg_model.estimators_[5]"
   ]
  },
  {
   "cell_type": "code",
   "execution_count": 30,
   "id": "db6b37ef",
   "metadata": {},
   "outputs": [
    {
     "data": {
      "text/plain": [
       "[Text(0.5, 0.875, 'X[0] <= 286527.5\\nsquared_error = 0.011\\nsamples = 234\\nvalue = 0.058'),\n",
       " Text(0.25, 0.625, 'X[5] <= 0.001\\nsquared_error = 0.026\\nsamples = 73\\nvalue = 0.104'),\n",
       " Text(0.125, 0.375, 'X[6] <= 0.239\\nsquared_error = 0.008\\nsamples = 36\\nvalue = 0.061'),\n",
       " Text(0.0625, 0.125, 'squared_error = 0.005\\nsamples = 33\\nvalue = 0.046'),\n",
       " Text(0.1875, 0.125, 'squared_error = 0.014\\nsamples = 3\\nvalue = 0.169'),\n",
       " Text(0.375, 0.375, 'X[5] <= 0.005\\nsquared_error = 0.039\\nsamples = 37\\nvalue = 0.14'),\n",
       " Text(0.3125, 0.125, 'squared_error = 0.087\\nsamples = 3\\nvalue = 0.439'),\n",
       " Text(0.4375, 0.125, 'squared_error = 0.025\\nsamples = 34\\nvalue = 0.111'),\n",
       " Text(0.75, 0.625, 'X[3] <= 0.092\\nsquared_error = 0.004\\nsamples = 161\\nvalue = 0.04'),\n",
       " Text(0.625, 0.375, 'X[1] <= 6.168\\nsquared_error = 0.002\\nsamples = 140\\nvalue = 0.03'),\n",
       " Text(0.5625, 0.125, 'squared_error = 0.001\\nsamples = 103\\nvalue = 0.022'),\n",
       " Text(0.6875, 0.125, 'squared_error = 0.004\\nsamples = 37\\nvalue = 0.053'),\n",
       " Text(0.875, 0.375, 'X[3] <= 0.094\\nsquared_error = 0.016\\nsamples = 21\\nvalue = 0.103'),\n",
       " Text(0.8125, 0.125, 'squared_error = 0.0\\nsamples = 1\\nvalue = 0.411'),\n",
       " Text(0.9375, 0.125, 'squared_error = 0.012\\nsamples = 20\\nvalue = 0.085')]"
      ]
     },
     "execution_count": 30,
     "metadata": {},
     "output_type": "execute_result"
    },
    {
     "data": {
      "image/png": "[encoded data removed]",
      "text/plain": [
       "<Figure size 432x288 with 1 Axes>"
      ]
     },
     "metadata": {
      "needs_background": "light"
     },
     "output_type": "display_data"
    }
   ],
   "source": [
    "from sklearn import tree\n",
    "tree.plot_tree(reg_model.estimators_[0])"
   ]
  },
  {
   "cell_type": "code",
   "execution_count": 31,
   "id": "1b29727e",
   "metadata": {},
   "outputs": [],
   "source": [
    "df_2015.to_csv('2015_converted.csv', index=False)"
   ]
  },
  {
   "cell_type": "code",
   "execution_count": null,
   "id": "f2ecce61",
   "metadata": {},
   "outputs": [],
   "source": []
  },
  {
   "cell_type": "code",
   "execution_count": null,
   "id": "dad5ce28",
   "metadata": {},
   "outputs": [],
   "source": []
  },
  {
   "cell_type": "code",
   "execution_count": null,
   "id": "650cb8c2",
   "metadata": {},
   "outputs": [],
   "source": []
  },
  {
   "cell_type": "code",
   "execution_count": null,
   "id": "e9c73f14",
   "metadata": {},
   "outputs": [],
   "source": []
  }
 ],
 "metadata": {
  "kernelspec": {
   "display_name": "mlenv",
   "language": "python",
   "name": "mlenv"
  },
  "language_info": {
   "codemirror_mode": {
    "name": "ipython",
    "version": 3
   },
   "file_extension": ".py",
   "mimetype": "text/x-python",
   "name": "python",
   "nbconvert_exporter": "python",
   "pygments_lexer": "ipython3",
   "version": "3.7.11"
  }
 },
 "nbformat": 4,
 "nbformat_minor": 5
}
