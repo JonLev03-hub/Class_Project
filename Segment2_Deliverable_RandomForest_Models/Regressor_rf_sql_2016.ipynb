{
 "cells": [
  {
   "cell_type": "code",
   "execution_count": 1,
   "id": "dff54672",
   "metadata": {},
   "outputs": [],
   "source": [
    "# Initial imports.\n",
    "import pandas as pd\n",
    "import numpy as np\n",
    "from path import Path\n",
    "from sklearn.ensemble import RandomForestRegressor\n",
    "from sklearn.datasets import make_regression\n",
    "from sklearn.preprocessing import StandardScaler\n",
    "from sklearn.model_selection import train_test_split\n",
    "from sklearn.metrics import confusion_matrix, accuracy_score, classification_report\n",
    "from sklearn.tree import export_graphviz\n",
    "import sqlite3"
   ]
  },
  {
   "cell_type": "code",
   "execution_count": 2,
   "id": "7c6b1103",
   "metadata": {},
   "outputs": [],
   "source": [
    "conn = sqlite3.connect('../HomelessData.db')\n",
    "c = conn.cursor()"
   ]
  },
  {
   "cell_type": "code",
   "execution_count": 3,
   "id": "5c042c65",
   "metadata": {},
   "outputs": [
    {
     "data": {
      "text/html": [
       "<div>\n",
       "<style scoped>\n",
       "    .dataframe tbody tr th:only-of-type {\n",
       "        vertical-align: middle;\n",
       "    }\n",
       "\n",
       "    .dataframe tbody tr th {\n",
       "        vertical-align: top;\n",
       "    }\n",
       "\n",
       "    .dataframe thead th {\n",
       "        text-align: right;\n",
       "    }\n",
       "</style>\n",
       "<table border=\"1\" class=\"dataframe\">\n",
       "  <thead>\n",
       "    <tr style=\"text-align: right;\">\n",
       "      <th></th>\n",
       "      <th>Coc</th>\n",
       "      <th>TotalBeds</th>\n",
       "      <th>Emergency</th>\n",
       "      <th>Transitional</th>\n",
       "      <th>SafeHaven</th>\n",
       "      <th>RapidRehousing</th>\n",
       "      <th>PermanentSupportive</th>\n",
       "      <th>PermanentOther</th>\n",
       "      <th>Year</th>\n",
       "      <th>CocYear</th>\n",
       "      <th>TotalHomeless</th>\n",
       "      <th>Unsheltered</th>\n",
       "      <th>Sheltered</th>\n",
       "      <th>Population</th>\n",
       "      <th>Unemployment</th>\n",
       "    </tr>\n",
       "  </thead>\n",
       "  <tbody>\n",
       "    <tr>\n",
       "      <th>0</th>\n",
       "      <td>AK-500</td>\n",
       "      <td>1007</td>\n",
       "      <td>553</td>\n",
       "      <td>454</td>\n",
       "      <td>0</td>\n",
       "      <td>55</td>\n",
       "      <td>434</td>\n",
       "      <td>97</td>\n",
       "      <td>2016</td>\n",
       "      <td>AK-500 2016</td>\n",
       "      <td>1105</td>\n",
       "      <td>240</td>\n",
       "      <td>865</td>\n",
       "      <td>297249.0</td>\n",
       "      <td>5.300000</td>\n",
       "    </tr>\n",
       "    <tr>\n",
       "      <th>1</th>\n",
       "      <td>AK-501</td>\n",
       "      <td>819</td>\n",
       "      <td>542</td>\n",
       "      <td>277</td>\n",
       "      <td>0</td>\n",
       "      <td>17</td>\n",
       "      <td>219</td>\n",
       "      <td>33</td>\n",
       "      <td>2016</td>\n",
       "      <td>AK-501 2016</td>\n",
       "      <td>835</td>\n",
       "      <td>202</td>\n",
       "      <td>633</td>\n",
       "      <td>425879.0</td>\n",
       "      <td>8.554167</td>\n",
       "    </tr>\n",
       "    <tr>\n",
       "      <th>2</th>\n",
       "      <td>AL-500</td>\n",
       "      <td>1113</td>\n",
       "      <td>493</td>\n",
       "      <td>586</td>\n",
       "      <td>34</td>\n",
       "      <td>374</td>\n",
       "      <td>1492</td>\n",
       "      <td>93</td>\n",
       "      <td>2016</td>\n",
       "      <td>AL-500 2016</td>\n",
       "      <td>1228</td>\n",
       "      <td>196</td>\n",
       "      <td>1032</td>\n",
       "      <td>958931.0</td>\n",
       "      <td>5.066667</td>\n",
       "    </tr>\n",
       "    <tr>\n",
       "      <th>3</th>\n",
       "      <td>AL-501</td>\n",
       "      <td>476</td>\n",
       "      <td>354</td>\n",
       "      <td>122</td>\n",
       "      <td>0</td>\n",
       "      <td>467</td>\n",
       "      <td>504</td>\n",
       "      <td>0</td>\n",
       "      <td>2016</td>\n",
       "      <td>AL-501 2016</td>\n",
       "      <td>623</td>\n",
       "      <td>236</td>\n",
       "      <td>387</td>\n",
       "      <td>622546.0</td>\n",
       "      <td>6.000000</td>\n",
       "    </tr>\n",
       "    <tr>\n",
       "      <th>4</th>\n",
       "      <td>AL-502</td>\n",
       "      <td>237</td>\n",
       "      <td>41</td>\n",
       "      <td>196</td>\n",
       "      <td>0</td>\n",
       "      <td>0</td>\n",
       "      <td>36</td>\n",
       "      <td>20</td>\n",
       "      <td>2016</td>\n",
       "      <td>AL-502 2016</td>\n",
       "      <td>337</td>\n",
       "      <td>51</td>\n",
       "      <td>286</td>\n",
       "      <td>208493.0</td>\n",
       "      <td>6.475000</td>\n",
       "    </tr>\n",
       "  </tbody>\n",
       "</table>\n",
       "</div>"
      ],
      "text/plain": [
       "      Coc  TotalBeds  Emergency  Transitional  SafeHaven  RapidRehousing  \\\n",
       "0  AK-500       1007        553           454          0              55   \n",
       "1  AK-501        819        542           277          0              17   \n",
       "2  AL-500       1113        493           586         34             374   \n",
       "3  AL-501        476        354           122          0             467   \n",
       "4  AL-502        237         41           196          0               0   \n",
       "\n",
       "   PermanentSupportive  PermanentOther  Year      CocYear  TotalHomeless  \\\n",
       "0                  434              97  2016  AK-500 2016           1105   \n",
       "1                  219              33  2016  AK-501 2016            835   \n",
       "2                 1492              93  2016  AL-500 2016           1228   \n",
       "3                  504               0  2016  AL-501 2016            623   \n",
       "4                   36              20  2016  AL-502 2016            337   \n",
       "\n",
       "   Unsheltered  Sheltered  Population  Unemployment  \n",
       "0          240        865    297249.0      5.300000  \n",
       "1          202        633    425879.0      8.554167  \n",
       "2          196       1032    958931.0      5.066667  \n",
       "3          236        387    622546.0      6.000000  \n",
       "4           51        286    208493.0      6.475000  "
      ]
     },
     "execution_count": 3,
     "metadata": {},
     "output_type": "execute_result"
    }
   ],
   "source": [
    "# Loading data\n",
    "df_2016 = pd.read_sql(\"SELECT * FROM CocData WHERE year = 2016\", con = conn)\n",
    "\n",
    "df_2016.head()"
   ]
  },
  {
   "cell_type": "code",
   "execution_count": 4,
   "id": "8baead76",
   "metadata": {},
   "outputs": [],
   "source": [
    "df_2016=df_2016.drop(['TotalHomeless', 'Sheltered', 'TotalBeds', 'CocYear', 'Coc', 'Year'], axis=1)"
   ]
  },
  {
   "cell_type": "code",
   "execution_count": 5,
   "id": "05f99e9a",
   "metadata": {},
   "outputs": [],
   "source": [
    "#df_2016['Unsheltered_div_pop'] = df_2016['Unsheltered'] / df_2016['Population']"
   ]
  },
  {
   "cell_type": "code",
   "execution_count": 6,
   "id": "02696633",
   "metadata": {},
   "outputs": [],
   "source": [
    "#df_2016.head()"
   ]
  },
  {
   "cell_type": "code",
   "execution_count": 7,
   "id": "8e6d8576",
   "metadata": {},
   "outputs": [],
   "source": [
    "df_2016['Unsheltered_perc_pop'] = (df_2016['Unsheltered'] / df_2016['Population']) *100"
   ]
  },
  {
   "cell_type": "code",
   "execution_count": 8,
   "id": "f60649d7",
   "metadata": {},
   "outputs": [
    {
     "data": {
      "text/html": [
       "<div>\n",
       "<style scoped>\n",
       "    .dataframe tbody tr th:only-of-type {\n",
       "        vertical-align: middle;\n",
       "    }\n",
       "\n",
       "    .dataframe tbody tr th {\n",
       "        vertical-align: top;\n",
       "    }\n",
       "\n",
       "    .dataframe thead th {\n",
       "        text-align: right;\n",
       "    }\n",
       "</style>\n",
       "<table border=\"1\" class=\"dataframe\">\n",
       "  <thead>\n",
       "    <tr style=\"text-align: right;\">\n",
       "      <th></th>\n",
       "      <th>Emergency</th>\n",
       "      <th>Transitional</th>\n",
       "      <th>SafeHaven</th>\n",
       "      <th>RapidRehousing</th>\n",
       "      <th>PermanentSupportive</th>\n",
       "      <th>PermanentOther</th>\n",
       "      <th>Unsheltered</th>\n",
       "      <th>Population</th>\n",
       "      <th>Unemployment</th>\n",
       "      <th>Unsheltered_perc_pop</th>\n",
       "    </tr>\n",
       "  </thead>\n",
       "  <tbody>\n",
       "    <tr>\n",
       "      <th>0</th>\n",
       "      <td>553</td>\n",
       "      <td>454</td>\n",
       "      <td>0</td>\n",
       "      <td>55</td>\n",
       "      <td>434</td>\n",
       "      <td>97</td>\n",
       "      <td>240</td>\n",
       "      <td>297249.0</td>\n",
       "      <td>5.300000</td>\n",
       "      <td>0.080740</td>\n",
       "    </tr>\n",
       "    <tr>\n",
       "      <th>1</th>\n",
       "      <td>542</td>\n",
       "      <td>277</td>\n",
       "      <td>0</td>\n",
       "      <td>17</td>\n",
       "      <td>219</td>\n",
       "      <td>33</td>\n",
       "      <td>202</td>\n",
       "      <td>425879.0</td>\n",
       "      <td>8.554167</td>\n",
       "      <td>0.047431</td>\n",
       "    </tr>\n",
       "    <tr>\n",
       "      <th>2</th>\n",
       "      <td>493</td>\n",
       "      <td>586</td>\n",
       "      <td>34</td>\n",
       "      <td>374</td>\n",
       "      <td>1492</td>\n",
       "      <td>93</td>\n",
       "      <td>196</td>\n",
       "      <td>958931.0</td>\n",
       "      <td>5.066667</td>\n",
       "      <td>0.020439</td>\n",
       "    </tr>\n",
       "    <tr>\n",
       "      <th>3</th>\n",
       "      <td>354</td>\n",
       "      <td>122</td>\n",
       "      <td>0</td>\n",
       "      <td>467</td>\n",
       "      <td>504</td>\n",
       "      <td>0</td>\n",
       "      <td>236</td>\n",
       "      <td>622546.0</td>\n",
       "      <td>6.000000</td>\n",
       "      <td>0.037909</td>\n",
       "    </tr>\n",
       "    <tr>\n",
       "      <th>4</th>\n",
       "      <td>41</td>\n",
       "      <td>196</td>\n",
       "      <td>0</td>\n",
       "      <td>0</td>\n",
       "      <td>36</td>\n",
       "      <td>20</td>\n",
       "      <td>51</td>\n",
       "      <td>208493.0</td>\n",
       "      <td>6.475000</td>\n",
       "      <td>0.024461</td>\n",
       "    </tr>\n",
       "  </tbody>\n",
       "</table>\n",
       "</div>"
      ],
      "text/plain": [
       "   Emergency  Transitional  SafeHaven  RapidRehousing  PermanentSupportive  \\\n",
       "0        553           454          0              55                  434   \n",
       "1        542           277          0              17                  219   \n",
       "2        493           586         34             374                 1492   \n",
       "3        354           122          0             467                  504   \n",
       "4         41           196          0               0                   36   \n",
       "\n",
       "   PermanentOther  Unsheltered  Population  Unemployment  Unsheltered_perc_pop  \n",
       "0              97          240    297249.0      5.300000              0.080740  \n",
       "1              33          202    425879.0      8.554167              0.047431  \n",
       "2              93          196    958931.0      5.066667              0.020439  \n",
       "3               0          236    622546.0      6.000000              0.037909  \n",
       "4              20           51    208493.0      6.475000              0.024461  "
      ]
     },
     "execution_count": 8,
     "metadata": {},
     "output_type": "execute_result"
    }
   ],
   "source": [
    "df_2016.head()"
   ]
  },
  {
   "cell_type": "code",
   "execution_count": 9,
   "id": "80f97ad6",
   "metadata": {},
   "outputs": [],
   "source": [
    "df_2016['ES_beds_perc_pop'] = (df_2016['Emergency'] / df_2016['Population']) *100"
   ]
  },
  {
   "cell_type": "code",
   "execution_count": 10,
   "id": "b5684549",
   "metadata": {},
   "outputs": [],
   "source": [
    "df_2016['TS_beds_perc_pop'] = (df_2016['Transitional'] / df_2016['Population']) *100"
   ]
  },
  {
   "cell_type": "code",
   "execution_count": 11,
   "id": "c8e1219f",
   "metadata": {},
   "outputs": [],
   "source": [
    "df_2016['SH_beds_perc_pop'] = (df_2016['SafeHaven'] / df_2016['Population']) *100"
   ]
  },
  {
   "cell_type": "code",
   "execution_count": 12,
   "id": "7e94d12a",
   "metadata": {},
   "outputs": [],
   "source": [
    "df_2016['RRH_units_perc_pop'] = (df_2016['RapidRehousing'] / df_2016['Population']) *100"
   ]
  },
  {
   "cell_type": "code",
   "execution_count": 13,
   "id": "400be09c",
   "metadata": {},
   "outputs": [],
   "source": [
    "df_2016['RRH_units_perc_pop'] = (df_2016['RapidRehousing'] / df_2016['Population']) *100"
   ]
  },
  {
   "cell_type": "code",
   "execution_count": 14,
   "id": "ca148967",
   "metadata": {},
   "outputs": [],
   "source": [
    "df_2016['PSH_units_perc_pop'] = (df_2016['PermanentSupportive'] / df_2016['Population']) *100"
   ]
  },
  {
   "cell_type": "code",
   "execution_count": 15,
   "id": "5977410d",
   "metadata": {},
   "outputs": [],
   "source": [
    "df_2016['OPH_units_perc_pop'] = (df_2016['PermanentOther'] / df_2016['Population']) *100"
   ]
  },
  {
   "cell_type": "code",
   "execution_count": 16,
   "id": "748c71c5",
   "metadata": {},
   "outputs": [
    {
     "data": {
      "text/html": [
       "<div>\n",
       "<style scoped>\n",
       "    .dataframe tbody tr th:only-of-type {\n",
       "        vertical-align: middle;\n",
       "    }\n",
       "\n",
       "    .dataframe tbody tr th {\n",
       "        vertical-align: top;\n",
       "    }\n",
       "\n",
       "    .dataframe thead th {\n",
       "        text-align: right;\n",
       "    }\n",
       "</style>\n",
       "<table border=\"1\" class=\"dataframe\">\n",
       "  <thead>\n",
       "    <tr style=\"text-align: right;\">\n",
       "      <th></th>\n",
       "      <th>Emergency</th>\n",
       "      <th>Transitional</th>\n",
       "      <th>SafeHaven</th>\n",
       "      <th>RapidRehousing</th>\n",
       "      <th>PermanentSupportive</th>\n",
       "      <th>PermanentOther</th>\n",
       "      <th>Unsheltered</th>\n",
       "      <th>Population</th>\n",
       "      <th>Unemployment</th>\n",
       "      <th>Unsheltered_perc_pop</th>\n",
       "      <th>ES_beds_perc_pop</th>\n",
       "      <th>TS_beds_perc_pop</th>\n",
       "      <th>SH_beds_perc_pop</th>\n",
       "      <th>RRH_units_perc_pop</th>\n",
       "      <th>PSH_units_perc_pop</th>\n",
       "      <th>OPH_units_perc_pop</th>\n",
       "    </tr>\n",
       "  </thead>\n",
       "  <tbody>\n",
       "    <tr>\n",
       "      <th>0</th>\n",
       "      <td>553</td>\n",
       "      <td>454</td>\n",
       "      <td>0</td>\n",
       "      <td>55</td>\n",
       "      <td>434</td>\n",
       "      <td>97</td>\n",
       "      <td>240</td>\n",
       "      <td>297249.0</td>\n",
       "      <td>5.300000</td>\n",
       "      <td>0.080740</td>\n",
       "      <td>0.186039</td>\n",
       "      <td>0.152734</td>\n",
       "      <td>0.000000</td>\n",
       "      <td>0.018503</td>\n",
       "      <td>0.146006</td>\n",
       "      <td>0.032633</td>\n",
       "    </tr>\n",
       "    <tr>\n",
       "      <th>1</th>\n",
       "      <td>542</td>\n",
       "      <td>277</td>\n",
       "      <td>0</td>\n",
       "      <td>17</td>\n",
       "      <td>219</td>\n",
       "      <td>33</td>\n",
       "      <td>202</td>\n",
       "      <td>425879.0</td>\n",
       "      <td>8.554167</td>\n",
       "      <td>0.047431</td>\n",
       "      <td>0.127266</td>\n",
       "      <td>0.065042</td>\n",
       "      <td>0.000000</td>\n",
       "      <td>0.003992</td>\n",
       "      <td>0.051423</td>\n",
       "      <td>0.007749</td>\n",
       "    </tr>\n",
       "    <tr>\n",
       "      <th>2</th>\n",
       "      <td>493</td>\n",
       "      <td>586</td>\n",
       "      <td>34</td>\n",
       "      <td>374</td>\n",
       "      <td>1492</td>\n",
       "      <td>93</td>\n",
       "      <td>196</td>\n",
       "      <td>958931.0</td>\n",
       "      <td>5.066667</td>\n",
       "      <td>0.020439</td>\n",
       "      <td>0.051411</td>\n",
       "      <td>0.061110</td>\n",
       "      <td>0.003546</td>\n",
       "      <td>0.039002</td>\n",
       "      <td>0.155590</td>\n",
       "      <td>0.009698</td>\n",
       "    </tr>\n",
       "    <tr>\n",
       "      <th>3</th>\n",
       "      <td>354</td>\n",
       "      <td>122</td>\n",
       "      <td>0</td>\n",
       "      <td>467</td>\n",
       "      <td>504</td>\n",
       "      <td>0</td>\n",
       "      <td>236</td>\n",
       "      <td>622546.0</td>\n",
       "      <td>6.000000</td>\n",
       "      <td>0.037909</td>\n",
       "      <td>0.056863</td>\n",
       "      <td>0.019597</td>\n",
       "      <td>0.000000</td>\n",
       "      <td>0.075015</td>\n",
       "      <td>0.080958</td>\n",
       "      <td>0.000000</td>\n",
       "    </tr>\n",
       "    <tr>\n",
       "      <th>4</th>\n",
       "      <td>41</td>\n",
       "      <td>196</td>\n",
       "      <td>0</td>\n",
       "      <td>0</td>\n",
       "      <td>36</td>\n",
       "      <td>20</td>\n",
       "      <td>51</td>\n",
       "      <td>208493.0</td>\n",
       "      <td>6.475000</td>\n",
       "      <td>0.024461</td>\n",
       "      <td>0.019665</td>\n",
       "      <td>0.094008</td>\n",
       "      <td>0.000000</td>\n",
       "      <td>0.000000</td>\n",
       "      <td>0.017267</td>\n",
       "      <td>0.009593</td>\n",
       "    </tr>\n",
       "  </tbody>\n",
       "</table>\n",
       "</div>"
      ],
      "text/plain": [
       "   Emergency  Transitional  SafeHaven  RapidRehousing  PermanentSupportive  \\\n",
       "0        553           454          0              55                  434   \n",
       "1        542           277          0              17                  219   \n",
       "2        493           586         34             374                 1492   \n",
       "3        354           122          0             467                  504   \n",
       "4         41           196          0               0                   36   \n",
       "\n",
       "   PermanentOther  Unsheltered  Population  Unemployment  \\\n",
       "0              97          240    297249.0      5.300000   \n",
       "1              33          202    425879.0      8.554167   \n",
       "2              93          196    958931.0      5.066667   \n",
       "3               0          236    622546.0      6.000000   \n",
       "4              20           51    208493.0      6.475000   \n",
       "\n",
       "   Unsheltered_perc_pop  ES_beds_perc_pop  TS_beds_perc_pop  SH_beds_perc_pop  \\\n",
       "0              0.080740          0.186039          0.152734          0.000000   \n",
       "1              0.047431          0.127266          0.065042          0.000000   \n",
       "2              0.020439          0.051411          0.061110          0.003546   \n",
       "3              0.037909          0.056863          0.019597          0.000000   \n",
       "4              0.024461          0.019665          0.094008          0.000000   \n",
       "\n",
       "   RRH_units_perc_pop  PSH_units_perc_pop  OPH_units_perc_pop  \n",
       "0            0.018503            0.146006            0.032633  \n",
       "1            0.003992            0.051423            0.007749  \n",
       "2            0.039002            0.155590            0.009698  \n",
       "3            0.075015            0.080958            0.000000  \n",
       "4            0.000000            0.017267            0.009593  "
      ]
     },
     "execution_count": 16,
     "metadata": {},
     "output_type": "execute_result"
    }
   ],
   "source": [
    "df_2016.head()"
   ]
  },
  {
   "cell_type": "code",
   "execution_count": 17,
   "id": "034fdc02",
   "metadata": {},
   "outputs": [],
   "source": [
    "df_2016=df_2016.drop(['Emergency', 'Transitional', 'SafeHaven', 'RapidRehousing', 'PermanentSupportive', 'PermanentOther', 'Unsheltered'], axis=1)"
   ]
  },
  {
   "cell_type": "code",
   "execution_count": 18,
   "id": "e82f9ad5",
   "metadata": {},
   "outputs": [
    {
     "name": "stdout",
     "output_type": "stream",
     "text": [
      "<class 'pandas.core.frame.DataFrame'>\n",
      "RangeIndex: 370 entries, 0 to 369\n",
      "Data columns (total 9 columns):\n",
      " #   Column                Non-Null Count  Dtype  \n",
      "---  ------                --------------  -----  \n",
      " 0   Population            370 non-null    float64\n",
      " 1   Unemployment          370 non-null    float64\n",
      " 2   Unsheltered_perc_pop  370 non-null    float64\n",
      " 3   ES_beds_perc_pop      370 non-null    float64\n",
      " 4   TS_beds_perc_pop      370 non-null    float64\n",
      " 5   SH_beds_perc_pop      370 non-null    float64\n",
      " 6   RRH_units_perc_pop    370 non-null    float64\n",
      " 7   PSH_units_perc_pop    370 non-null    float64\n",
      " 8   OPH_units_perc_pop    370 non-null    float64\n",
      "dtypes: float64(9)\n",
      "memory usage: 26.1 KB\n"
     ]
    }
   ],
   "source": [
    "df_2016.info()"
   ]
  },
  {
   "cell_type": "code",
   "execution_count": null,
   "id": "a5d62f14",
   "metadata": {},
   "outputs": [],
   "source": []
  },
  {
   "cell_type": "code",
   "execution_count": 19,
   "id": "34027fd1",
   "metadata": {},
   "outputs": [
    {
     "data": {
      "text/html": [
       "<div>\n",
       "<style scoped>\n",
       "    .dataframe tbody tr th:only-of-type {\n",
       "        vertical-align: middle;\n",
       "    }\n",
       "\n",
       "    .dataframe tbody tr th {\n",
       "        vertical-align: top;\n",
       "    }\n",
       "\n",
       "    .dataframe thead th {\n",
       "        text-align: right;\n",
       "    }\n",
       "</style>\n",
       "<table border=\"1\" class=\"dataframe\">\n",
       "  <thead>\n",
       "    <tr style=\"text-align: right;\">\n",
       "      <th></th>\n",
       "      <th>Population</th>\n",
       "      <th>Unemployment</th>\n",
       "      <th>Unsheltered_perc_pop</th>\n",
       "      <th>ES_beds_perc_pop</th>\n",
       "      <th>TS_beds_perc_pop</th>\n",
       "      <th>SH_beds_perc_pop</th>\n",
       "      <th>RRH_units_perc_pop</th>\n",
       "      <th>PSH_units_perc_pop</th>\n",
       "      <th>OPH_units_perc_pop</th>\n",
       "    </tr>\n",
       "  </thead>\n",
       "  <tbody>\n",
       "    <tr>\n",
       "      <th>0</th>\n",
       "      <td>297249.0</td>\n",
       "      <td>5.300000</td>\n",
       "      <td>0.080740</td>\n",
       "      <td>0.186039</td>\n",
       "      <td>0.152734</td>\n",
       "      <td>0.000000</td>\n",
       "      <td>0.018503</td>\n",
       "      <td>0.146006</td>\n",
       "      <td>0.032633</td>\n",
       "    </tr>\n",
       "    <tr>\n",
       "      <th>1</th>\n",
       "      <td>425879.0</td>\n",
       "      <td>8.554167</td>\n",
       "      <td>0.047431</td>\n",
       "      <td>0.127266</td>\n",
       "      <td>0.065042</td>\n",
       "      <td>0.000000</td>\n",
       "      <td>0.003992</td>\n",
       "      <td>0.051423</td>\n",
       "      <td>0.007749</td>\n",
       "    </tr>\n",
       "    <tr>\n",
       "      <th>2</th>\n",
       "      <td>958931.0</td>\n",
       "      <td>5.066667</td>\n",
       "      <td>0.020439</td>\n",
       "      <td>0.051411</td>\n",
       "      <td>0.061110</td>\n",
       "      <td>0.003546</td>\n",
       "      <td>0.039002</td>\n",
       "      <td>0.155590</td>\n",
       "      <td>0.009698</td>\n",
       "    </tr>\n",
       "    <tr>\n",
       "      <th>3</th>\n",
       "      <td>622546.0</td>\n",
       "      <td>6.000000</td>\n",
       "      <td>0.037909</td>\n",
       "      <td>0.056863</td>\n",
       "      <td>0.019597</td>\n",
       "      <td>0.000000</td>\n",
       "      <td>0.075015</td>\n",
       "      <td>0.080958</td>\n",
       "      <td>0.000000</td>\n",
       "    </tr>\n",
       "    <tr>\n",
       "      <th>4</th>\n",
       "      <td>208493.0</td>\n",
       "      <td>6.475000</td>\n",
       "      <td>0.024461</td>\n",
       "      <td>0.019665</td>\n",
       "      <td>0.094008</td>\n",
       "      <td>0.000000</td>\n",
       "      <td>0.000000</td>\n",
       "      <td>0.017267</td>\n",
       "      <td>0.009593</td>\n",
       "    </tr>\n",
       "  </tbody>\n",
       "</table>\n",
       "</div>"
      ],
      "text/plain": [
       "   Population  Unemployment  Unsheltered_perc_pop  ES_beds_perc_pop  \\\n",
       "0    297249.0      5.300000              0.080740          0.186039   \n",
       "1    425879.0      8.554167              0.047431          0.127266   \n",
       "2    958931.0      5.066667              0.020439          0.051411   \n",
       "3    622546.0      6.000000              0.037909          0.056863   \n",
       "4    208493.0      6.475000              0.024461          0.019665   \n",
       "\n",
       "   TS_beds_perc_pop  SH_beds_perc_pop  RRH_units_perc_pop  PSH_units_perc_pop  \\\n",
       "0          0.152734          0.000000            0.018503            0.146006   \n",
       "1          0.065042          0.000000            0.003992            0.051423   \n",
       "2          0.061110          0.003546            0.039002            0.155590   \n",
       "3          0.019597          0.000000            0.075015            0.080958   \n",
       "4          0.094008          0.000000            0.000000            0.017267   \n",
       "\n",
       "   OPH_units_perc_pop  \n",
       "0            0.032633  \n",
       "1            0.007749  \n",
       "2            0.009698  \n",
       "3            0.000000  \n",
       "4            0.009593  "
      ]
     },
     "execution_count": 19,
     "metadata": {},
     "output_type": "execute_result"
    }
   ],
   "source": [
    "df_2016.head()"
   ]
  },
  {
   "cell_type": "code",
   "execution_count": null,
   "id": "c93e107b",
   "metadata": {},
   "outputs": [],
   "source": []
  },
  {
   "cell_type": "code",
   "execution_count": 20,
   "id": "b3b8c198",
   "metadata": {},
   "outputs": [
    {
     "data": {
      "text/html": [
       "<div>\n",
       "<style scoped>\n",
       "    .dataframe tbody tr th:only-of-type {\n",
       "        vertical-align: middle;\n",
       "    }\n",
       "\n",
       "    .dataframe tbody tr th {\n",
       "        vertical-align: top;\n",
       "    }\n",
       "\n",
       "    .dataframe thead th {\n",
       "        text-align: right;\n",
       "    }\n",
       "</style>\n",
       "<table border=\"1\" class=\"dataframe\">\n",
       "  <thead>\n",
       "    <tr style=\"text-align: right;\">\n",
       "      <th></th>\n",
       "      <th>Population</th>\n",
       "      <th>Unemployment</th>\n",
       "      <th>ES_beds_perc_pop</th>\n",
       "      <th>TS_beds_perc_pop</th>\n",
       "      <th>SH_beds_perc_pop</th>\n",
       "      <th>RRH_units_perc_pop</th>\n",
       "      <th>PSH_units_perc_pop</th>\n",
       "      <th>OPH_units_perc_pop</th>\n",
       "    </tr>\n",
       "  </thead>\n",
       "  <tbody>\n",
       "    <tr>\n",
       "      <th>0</th>\n",
       "      <td>297249.0</td>\n",
       "      <td>5.300000</td>\n",
       "      <td>0.186039</td>\n",
       "      <td>0.152734</td>\n",
       "      <td>0.000000</td>\n",
       "      <td>0.018503</td>\n",
       "      <td>0.146006</td>\n",
       "      <td>0.032633</td>\n",
       "    </tr>\n",
       "    <tr>\n",
       "      <th>1</th>\n",
       "      <td>425879.0</td>\n",
       "      <td>8.554167</td>\n",
       "      <td>0.127266</td>\n",
       "      <td>0.065042</td>\n",
       "      <td>0.000000</td>\n",
       "      <td>0.003992</td>\n",
       "      <td>0.051423</td>\n",
       "      <td>0.007749</td>\n",
       "    </tr>\n",
       "    <tr>\n",
       "      <th>2</th>\n",
       "      <td>958931.0</td>\n",
       "      <td>5.066667</td>\n",
       "      <td>0.051411</td>\n",
       "      <td>0.061110</td>\n",
       "      <td>0.003546</td>\n",
       "      <td>0.039002</td>\n",
       "      <td>0.155590</td>\n",
       "      <td>0.009698</td>\n",
       "    </tr>\n",
       "    <tr>\n",
       "      <th>3</th>\n",
       "      <td>622546.0</td>\n",
       "      <td>6.000000</td>\n",
       "      <td>0.056863</td>\n",
       "      <td>0.019597</td>\n",
       "      <td>0.000000</td>\n",
       "      <td>0.075015</td>\n",
       "      <td>0.080958</td>\n",
       "      <td>0.000000</td>\n",
       "    </tr>\n",
       "    <tr>\n",
       "      <th>4</th>\n",
       "      <td>208493.0</td>\n",
       "      <td>6.475000</td>\n",
       "      <td>0.019665</td>\n",
       "      <td>0.094008</td>\n",
       "      <td>0.000000</td>\n",
       "      <td>0.000000</td>\n",
       "      <td>0.017267</td>\n",
       "      <td>0.009593</td>\n",
       "    </tr>\n",
       "  </tbody>\n",
       "</table>\n",
       "</div>"
      ],
      "text/plain": [
       "   Population  Unemployment  ES_beds_perc_pop  TS_beds_perc_pop  \\\n",
       "0    297249.0      5.300000          0.186039          0.152734   \n",
       "1    425879.0      8.554167          0.127266          0.065042   \n",
       "2    958931.0      5.066667          0.051411          0.061110   \n",
       "3    622546.0      6.000000          0.056863          0.019597   \n",
       "4    208493.0      6.475000          0.019665          0.094008   \n",
       "\n",
       "   SH_beds_perc_pop  RRH_units_perc_pop  PSH_units_perc_pop  \\\n",
       "0          0.000000            0.018503            0.146006   \n",
       "1          0.000000            0.003992            0.051423   \n",
       "2          0.003546            0.039002            0.155590   \n",
       "3          0.000000            0.075015            0.080958   \n",
       "4          0.000000            0.000000            0.017267   \n",
       "\n",
       "   OPH_units_perc_pop  \n",
       "0            0.032633  \n",
       "1            0.007749  \n",
       "2            0.009698  \n",
       "3            0.000000  \n",
       "4            0.009593  "
      ]
     },
     "execution_count": 20,
     "metadata": {},
     "output_type": "execute_result"
    }
   ],
   "source": [
    "# Define the features set.\n",
    "X = df_2016.copy()\n",
    "X = X.drop(\"Unsheltered_perc_pop\", axis=1)\n",
    "X.head()"
   ]
  },
  {
   "cell_type": "code",
   "execution_count": 21,
   "id": "c203db81",
   "metadata": {},
   "outputs": [
    {
     "data": {
      "text/plain": [
       "array([0.08074039, 0.04743131, 0.02043943, 0.03790885, 0.02446125])"
      ]
     },
     "execution_count": 21,
     "metadata": {},
     "output_type": "execute_result"
    }
   ],
   "source": [
    "# Define the target set.\n",
    "y = df_2016[\"Unsheltered_perc_pop\"].ravel()\n",
    "y[:5]"
   ]
  },
  {
   "cell_type": "code",
   "execution_count": 22,
   "id": "9b1c8c6c",
   "metadata": {},
   "outputs": [],
   "source": [
    "# Splitting into Train and Test sets.\n",
    "X_train, X_test, y_train, y_test = train_test_split(X, y, random_state=78)"
   ]
  },
  {
   "cell_type": "code",
   "execution_count": 23,
   "id": "01359db9",
   "metadata": {},
   "outputs": [],
   "source": [
    "regr = RandomForestRegressor(max_depth=3, random_state=0)"
   ]
  },
  {
   "cell_type": "code",
   "execution_count": 24,
   "id": "ddbb7812",
   "metadata": {},
   "outputs": [],
   "source": [
    "reg_model = regr.fit(X, y)"
   ]
  },
  {
   "cell_type": "code",
   "execution_count": 25,
   "id": "dd6ec966",
   "metadata": {},
   "outputs": [
    {
     "data": {
      "text/plain": [
       "array([0.16369317, 0.12704126, 0.06573776, 0.28280955, 0.0009739 ,\n",
       "       0.05534416, 0.27944721, 0.02495299])"
      ]
     },
     "execution_count": 25,
     "metadata": {},
     "output_type": "execute_result"
    }
   ],
   "source": [
    "importances = reg_model.feature_importances_\n",
    "importances"
   ]
  },
  {
   "cell_type": "code",
   "execution_count": 26,
   "id": "eff49320",
   "metadata": {},
   "outputs": [
    {
     "data": {
      "text/plain": [
       "[(0.2828095549180055, 'TS_beds_perc_pop'),\n",
       " (0.2794472074042256, 'PSH_units_perc_pop'),\n",
       " (0.16369317402775058, 'Population'),\n",
       " (0.12704125694299967, 'Unemployment'),\n",
       " (0.06573775821195398, 'ES_beds_perc_pop'),\n",
       " (0.05534415860766963, 'RRH_units_perc_pop'),\n",
       " (0.024952991396423433, 'OPH_units_perc_pop'),\n",
       " (0.000973898490971644, 'SH_beds_perc_pop')]"
      ]
     },
     "execution_count": 26,
     "metadata": {},
     "output_type": "execute_result"
    }
   ],
   "source": [
    "# We can sort the features by their importance.\n",
    "sorted(zip(reg_model.feature_importances_, X.columns), reverse=True)"
   ]
  },
  {
   "cell_type": "code",
   "execution_count": 27,
   "id": "7e87f7c3",
   "metadata": {},
   "outputs": [],
   "source": [
    "%matplotlib inline\n",
    "from matplotlib import pyplot as plt"
   ]
  },
  {
   "cell_type": "code",
   "execution_count": 28,
   "id": "eaf7d067",
   "metadata": {},
   "outputs": [
    {
     "data": {
      "image/png": "[encoded data removed]",
      "text/plain": [
       "<Figure size 720x1440 with 1 Axes>"
      ]
     },
     "metadata": {
      "needs_background": "light"
     },
     "output_type": "display_data"
    }
   ],
   "source": [
    "features = sorted(zip(X.columns, reg_model.feature_importances_), key = lambda x: x[1])\n",
    "cols = [f[0] for f in features]\n",
    "width = [f[1] for f in features]\n",
    "\n",
    "fig, ax = plt.subplots()\n",
    "\n",
    "fig.set_size_inches(10,20)\n",
    "plt.margins(y=0.001)\n",
    "\n",
    "ax.barh(y=cols, width=width)\n",
    "\n",
    "plt.show()"
   ]
  },
  {
   "cell_type": "code",
   "execution_count": 29,
   "id": "beff0f06",
   "metadata": {},
   "outputs": [],
   "source": [
    "estimator = reg_model.estimators_[5]"
   ]
  },
  {
   "cell_type": "code",
   "execution_count": 30,
   "id": "db6b37ef",
   "metadata": {},
   "outputs": [
    {
     "data": {
      "text/plain": [
       "[Text(0.5, 0.875, 'X[3] <= 0.08\\nsquared_error = 0.012\\nsamples = 234\\nvalue = 0.058'),\n",
       " Text(0.25, 0.625, 'X[0] <= 282757.5\\nsquared_error = 0.008\\nsamples = 196\\nvalue = 0.046'),\n",
       " Text(0.125, 0.375, 'X[0] <= 279806.0\\nsquared_error = 0.023\\nsamples = 52\\nvalue = 0.085'),\n",
       " Text(0.0625, 0.125, 'squared_error = 0.019\\nsamples = 51\\nvalue = 0.072'),\n",
       " Text(0.1875, 0.125, 'squared_error = -0.0\\nsamples = 1\\nvalue = 0.399'),\n",
       " Text(0.375, 0.375, 'X[2] <= 0.128\\nsquared_error = 0.002\\nsamples = 144\\nvalue = 0.034'),\n",
       " Text(0.3125, 0.125, 'squared_error = 0.002\\nsamples = 139\\nvalue = 0.031'),\n",
       " Text(0.4375, 0.125, 'squared_error = 0.009\\nsamples = 5\\nvalue = 0.098'),\n",
       " Text(0.75, 0.625, 'X[7] <= 0.001\\nsquared_error = 0.03\\nsamples = 38\\nvalue = 0.124'),\n",
       " Text(0.625, 0.375, 'X[5] <= 0.15\\nsquared_error = 0.042\\nsamples = 22\\nvalue = 0.185'),\n",
       " Text(0.5625, 0.125, 'squared_error = 0.032\\nsamples = 21\\nvalue = 0.166'),\n",
       " Text(0.6875, 0.125, 'squared_error = 0.0\\nsamples = 1\\nvalue = 0.777'),\n",
       " Text(0.875, 0.375, 'X[1] <= 3.3\\nsquared_error = 0.005\\nsamples = 16\\nvalue = 0.048'),\n",
       " Text(0.8125, 0.125, 'squared_error = 0.017\\nsamples = 2\\nvalue = 0.221'),\n",
       " Text(0.9375, 0.125, 'squared_error = 0.001\\nsamples = 14\\nvalue = 0.033')]"
      ]
     },
     "execution_count": 30,
     "metadata": {},
     "output_type": "execute_result"
    },
    {
     "data": {
      "image/png": "[encoded data removed]",
      "text/plain": [
       "<Figure size 432x288 with 1 Axes>"
      ]
     },
     "metadata": {
      "needs_background": "light"
     },
     "output_type": "display_data"
    }
   ],
   "source": [
    "from sklearn import tree\n",
    "tree.plot_tree(reg_model.estimators_[0])"
   ]
  },
  {
   "cell_type": "code",
   "execution_count": 31,
   "id": "1b29727e",
   "metadata": {},
   "outputs": [],
   "source": [
    "df_2016.to_csv('2016_converted.csv', index=False)"
   ]
  },
  {
   "cell_type": "code",
   "execution_count": null,
   "id": "f2ecce61",
   "metadata": {},
   "outputs": [],
   "source": []
  },
  {
   "cell_type": "code",
   "execution_count": null,
   "id": "dad5ce28",
   "metadata": {},
   "outputs": [],
   "source": []
  },
  {
   "cell_type": "code",
   "execution_count": null,
   "id": "650cb8c2",
   "metadata": {},
   "outputs": [],
   "source": []
  },
  {
   "cell_type": "code",
   "execution_count": null,
   "id": "e9c73f14",
   "metadata": {},
   "outputs": [],
   "source": []
  }
 ],
 "metadata": {
  "kernelspec": {
   "display_name": "mlenv",
   "language": "python",
   "name": "mlenv"
  },
  "language_info": {
   "codemirror_mode": {
    "name": "ipython",
    "version": 3
   },
   "file_extension": ".py",
   "mimetype": "text/x-python",
   "name": "python",
   "nbconvert_exporter": "python",
   "pygments_lexer": "ipython3",
   "version": "3.7.11"
  }
 },
 "nbformat": 4,
 "nbformat_minor": 5
}
