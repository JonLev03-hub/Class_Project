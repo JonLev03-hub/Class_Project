{
 "cells": [
  {
   "cell_type": "code",
   "execution_count": 23,
   "id": "dff54672",
   "metadata": {},
   "outputs": [],
   "source": [
    "# Initial imports.\n",
    "import pandas as pd\n",
    "import numpy as np\n",
    "from path import Path\n",
    "from sklearn.ensemble import RandomForestRegressor\n",
    "from sklearn.datasets import make_regression\n",
    "from sklearn.preprocessing import StandardScaler\n",
    "from sklearn.model_selection import train_test_split\n",
    "from sklearn.metrics import confusion_matrix, accuracy_score, classification_report\n",
    "from sklearn.tree import export_graphviz\n",
    "import sqlite3"
   ]
  },
  {
   "cell_type": "code",
   "execution_count": 24,
   "id": "7c6b1103",
   "metadata": {},
   "outputs": [],
   "source": [
    "conn = sqlite3.connect('../HomelessData.db')\n",
    "c = conn.cursor()"
   ]
  },
  {
   "cell_type": "code",
   "execution_count": 25,
   "id": "5c042c65",
   "metadata": {},
   "outputs": [
    {
     "data": {
      "text/html": [
       "<div>\n",
       "<style scoped>\n",
       "    .dataframe tbody tr th:only-of-type {\n",
       "        vertical-align: middle;\n",
       "    }\n",
       "\n",
       "    .dataframe tbody tr th {\n",
       "        vertical-align: top;\n",
       "    }\n",
       "\n",
       "    .dataframe thead th {\n",
       "        text-align: right;\n",
       "    }\n",
       "</style>\n",
       "<table border=\"1\" class=\"dataframe\">\n",
       "  <thead>\n",
       "    <tr style=\"text-align: right;\">\n",
       "      <th></th>\n",
       "      <th>Coc</th>\n",
       "      <th>TotalBeds</th>\n",
       "      <th>Emergency</th>\n",
       "      <th>Transitional</th>\n",
       "      <th>SafeHaven</th>\n",
       "      <th>RapidRehousing</th>\n",
       "      <th>PermanentSupportive</th>\n",
       "      <th>PermanentOther</th>\n",
       "      <th>Year</th>\n",
       "      <th>CocYear</th>\n",
       "      <th>TotalHomeless</th>\n",
       "      <th>Unsheltered</th>\n",
       "      <th>Sheltered</th>\n",
       "      <th>Population</th>\n",
       "      <th>Unemployment</th>\n",
       "    </tr>\n",
       "  </thead>\n",
       "  <tbody>\n",
       "    <tr>\n",
       "      <th>0</th>\n",
       "      <td>AK-500</td>\n",
       "      <td>1023</td>\n",
       "      <td>597</td>\n",
       "      <td>426</td>\n",
       "      <td>0</td>\n",
       "      <td>43</td>\n",
       "      <td>571</td>\n",
       "      <td>71</td>\n",
       "      <td>2017</td>\n",
       "      <td>AK-500 2017</td>\n",
       "      <td>1128</td>\n",
       "      <td>155</td>\n",
       "      <td>973</td>\n",
       "      <td>294338.0</td>\n",
       "      <td>5.400000</td>\n",
       "    </tr>\n",
       "    <tr>\n",
       "      <th>1</th>\n",
       "      <td>AK-501</td>\n",
       "      <td>805</td>\n",
       "      <td>533</td>\n",
       "      <td>272</td>\n",
       "      <td>0</td>\n",
       "      <td>23</td>\n",
       "      <td>368</td>\n",
       "      <td>30</td>\n",
       "      <td>2017</td>\n",
       "      <td>AK-501 2017</td>\n",
       "      <td>717</td>\n",
       "      <td>139</td>\n",
       "      <td>578</td>\n",
       "      <td>426994.0</td>\n",
       "      <td>8.166667</td>\n",
       "    </tr>\n",
       "    <tr>\n",
       "      <th>2</th>\n",
       "      <td>AL-500</td>\n",
       "      <td>986</td>\n",
       "      <td>595</td>\n",
       "      <td>357</td>\n",
       "      <td>34</td>\n",
       "      <td>525</td>\n",
       "      <td>1542</td>\n",
       "      <td>93</td>\n",
       "      <td>2017</td>\n",
       "      <td>AL-500 2017</td>\n",
       "      <td>1092</td>\n",
       "      <td>217</td>\n",
       "      <td>875</td>\n",
       "      <td>961158.0</td>\n",
       "      <td>3.933333</td>\n",
       "    </tr>\n",
       "    <tr>\n",
       "      <th>3</th>\n",
       "      <td>AL-501</td>\n",
       "      <td>526</td>\n",
       "      <td>304</td>\n",
       "      <td>222</td>\n",
       "      <td>0</td>\n",
       "      <td>54</td>\n",
       "      <td>247</td>\n",
       "      <td>0</td>\n",
       "      <td>2017</td>\n",
       "      <td>AL-501 2017</td>\n",
       "      <td>606</td>\n",
       "      <td>265</td>\n",
       "      <td>341</td>\n",
       "      <td>626566.0</td>\n",
       "      <td>4.800000</td>\n",
       "    </tr>\n",
       "    <tr>\n",
       "      <th>4</th>\n",
       "      <td>AL-502</td>\n",
       "      <td>237</td>\n",
       "      <td>41</td>\n",
       "      <td>196</td>\n",
       "      <td>0</td>\n",
       "      <td>0</td>\n",
       "      <td>36</td>\n",
       "      <td>20</td>\n",
       "      <td>2017</td>\n",
       "      <td>AL-502 2017</td>\n",
       "      <td>155</td>\n",
       "      <td>22</td>\n",
       "      <td>133</td>\n",
       "      <td>208593.0</td>\n",
       "      <td>4.900000</td>\n",
       "    </tr>\n",
       "  </tbody>\n",
       "</table>\n",
       "</div>"
      ],
      "text/plain": [
       "      Coc  TotalBeds  Emergency  Transitional  SafeHaven  RapidRehousing  \\\n",
       "0  AK-500       1023        597           426          0              43   \n",
       "1  AK-501        805        533           272          0              23   \n",
       "2  AL-500        986        595           357         34             525   \n",
       "3  AL-501        526        304           222          0              54   \n",
       "4  AL-502        237         41           196          0               0   \n",
       "\n",
       "   PermanentSupportive  PermanentOther  Year      CocYear  TotalHomeless  \\\n",
       "0                  571              71  2017  AK-500 2017           1128   \n",
       "1                  368              30  2017  AK-501 2017            717   \n",
       "2                 1542              93  2017  AL-500 2017           1092   \n",
       "3                  247               0  2017  AL-501 2017            606   \n",
       "4                   36              20  2017  AL-502 2017            155   \n",
       "\n",
       "   Unsheltered  Sheltered  Population  Unemployment  \n",
       "0          155        973    294338.0      5.400000  \n",
       "1          139        578    426994.0      8.166667  \n",
       "2          217        875    961158.0      3.933333  \n",
       "3          265        341    626566.0      4.800000  \n",
       "4           22        133    208593.0      4.900000  "
      ]
     },
     "execution_count": 25,
     "metadata": {},
     "output_type": "execute_result"
    }
   ],
   "source": [
    "# Loading data\n",
    "df_2017 = pd.read_sql(\"SELECT * FROM CocData WHERE year = 2017\", con = conn)\n",
    "\n",
    "df_2017.head()"
   ]
  },
  {
   "cell_type": "code",
   "execution_count": 26,
   "id": "8baead76",
   "metadata": {},
   "outputs": [],
   "source": [
    "df_2017=df_2017.drop(['TotalHomeless', 'Sheltered', 'TotalBeds', 'CocYear', 'Coc', 'Year'], axis=1)"
   ]
  },
  {
   "cell_type": "code",
   "execution_count": 27,
   "id": "05f99e9a",
   "metadata": {},
   "outputs": [],
   "source": [
    "#df_2017['Unsheltered_div_pop'] = df_2017['Unsheltered'] / df_2017['Population']"
   ]
  },
  {
   "cell_type": "code",
   "execution_count": 28,
   "id": "02696633",
   "metadata": {},
   "outputs": [],
   "source": [
    "#df_2017.head()"
   ]
  },
  {
   "cell_type": "code",
   "execution_count": 29,
   "id": "8e6d8576",
   "metadata": {},
   "outputs": [],
   "source": [
    "df_2017['Unsheltered_perc_pop'] = (df_2017['Unsheltered'] / df_2017['Population']) *100"
   ]
  },
  {
   "cell_type": "code",
   "execution_count": 30,
   "id": "f60649d7",
   "metadata": {},
   "outputs": [
    {
     "data": {
      "text/html": [
       "<div>\n",
       "<style scoped>\n",
       "    .dataframe tbody tr th:only-of-type {\n",
       "        vertical-align: middle;\n",
       "    }\n",
       "\n",
       "    .dataframe tbody tr th {\n",
       "        vertical-align: top;\n",
       "    }\n",
       "\n",
       "    .dataframe thead th {\n",
       "        text-align: right;\n",
       "    }\n",
       "</style>\n",
       "<table border=\"1\" class=\"dataframe\">\n",
       "  <thead>\n",
       "    <tr style=\"text-align: right;\">\n",
       "      <th></th>\n",
       "      <th>Emergency</th>\n",
       "      <th>Transitional</th>\n",
       "      <th>SafeHaven</th>\n",
       "      <th>RapidRehousing</th>\n",
       "      <th>PermanentSupportive</th>\n",
       "      <th>PermanentOther</th>\n",
       "      <th>Unsheltered</th>\n",
       "      <th>Population</th>\n",
       "      <th>Unemployment</th>\n",
       "      <th>Unsheltered_perc_pop</th>\n",
       "    </tr>\n",
       "  </thead>\n",
       "  <tbody>\n",
       "    <tr>\n",
       "      <th>0</th>\n",
       "      <td>597</td>\n",
       "      <td>426</td>\n",
       "      <td>0</td>\n",
       "      <td>43</td>\n",
       "      <td>571</td>\n",
       "      <td>71</td>\n",
       "      <td>155</td>\n",
       "      <td>294338.0</td>\n",
       "      <td>5.400000</td>\n",
       "      <td>0.052661</td>\n",
       "    </tr>\n",
       "    <tr>\n",
       "      <th>1</th>\n",
       "      <td>533</td>\n",
       "      <td>272</td>\n",
       "      <td>0</td>\n",
       "      <td>23</td>\n",
       "      <td>368</td>\n",
       "      <td>30</td>\n",
       "      <td>139</td>\n",
       "      <td>426994.0</td>\n",
       "      <td>8.166667</td>\n",
       "      <td>0.032553</td>\n",
       "    </tr>\n",
       "    <tr>\n",
       "      <th>2</th>\n",
       "      <td>595</td>\n",
       "      <td>357</td>\n",
       "      <td>34</td>\n",
       "      <td>525</td>\n",
       "      <td>1542</td>\n",
       "      <td>93</td>\n",
       "      <td>217</td>\n",
       "      <td>961158.0</td>\n",
       "      <td>3.933333</td>\n",
       "      <td>0.022577</td>\n",
       "    </tr>\n",
       "    <tr>\n",
       "      <th>3</th>\n",
       "      <td>304</td>\n",
       "      <td>222</td>\n",
       "      <td>0</td>\n",
       "      <td>54</td>\n",
       "      <td>247</td>\n",
       "      <td>0</td>\n",
       "      <td>265</td>\n",
       "      <td>626566.0</td>\n",
       "      <td>4.800000</td>\n",
       "      <td>0.042294</td>\n",
       "    </tr>\n",
       "    <tr>\n",
       "      <th>4</th>\n",
       "      <td>41</td>\n",
       "      <td>196</td>\n",
       "      <td>0</td>\n",
       "      <td>0</td>\n",
       "      <td>36</td>\n",
       "      <td>20</td>\n",
       "      <td>22</td>\n",
       "      <td>208593.0</td>\n",
       "      <td>4.900000</td>\n",
       "      <td>0.010547</td>\n",
       "    </tr>\n",
       "  </tbody>\n",
       "</table>\n",
       "</div>"
      ],
      "text/plain": [
       "   Emergency  Transitional  SafeHaven  RapidRehousing  PermanentSupportive  \\\n",
       "0        597           426          0              43                  571   \n",
       "1        533           272          0              23                  368   \n",
       "2        595           357         34             525                 1542   \n",
       "3        304           222          0              54                  247   \n",
       "4         41           196          0               0                   36   \n",
       "\n",
       "   PermanentOther  Unsheltered  Population  Unemployment  Unsheltered_perc_pop  \n",
       "0              71          155    294338.0      5.400000              0.052661  \n",
       "1              30          139    426994.0      8.166667              0.032553  \n",
       "2              93          217    961158.0      3.933333              0.022577  \n",
       "3               0          265    626566.0      4.800000              0.042294  \n",
       "4              20           22    208593.0      4.900000              0.010547  "
      ]
     },
     "execution_count": 30,
     "metadata": {},
     "output_type": "execute_result"
    }
   ],
   "source": [
    "df_2017.head()"
   ]
  },
  {
   "cell_type": "code",
   "execution_count": 31,
   "id": "80f97ad6",
   "metadata": {},
   "outputs": [],
   "source": [
    "df_2017['ES_beds_perc_pop'] = (df_2017['Emergency'] / df_2017['Population']) *100"
   ]
  },
  {
   "cell_type": "code",
   "execution_count": 32,
   "id": "b5684549",
   "metadata": {},
   "outputs": [],
   "source": [
    "df_2017['TS_beds_perc_pop'] = (df_2017['Transitional'] / df_2017['Population']) *100"
   ]
  },
  {
   "cell_type": "code",
   "execution_count": 33,
   "id": "c8e1219f",
   "metadata": {},
   "outputs": [],
   "source": [
    "df_2017['SH_beds_perc_pop'] = (df_2017['SafeHaven'] / df_2017['Population']) *100"
   ]
  },
  {
   "cell_type": "code",
   "execution_count": 34,
   "id": "7e94d12a",
   "metadata": {},
   "outputs": [],
   "source": [
    "df_2017['RRH_units_perc_pop'] = (df_2017['RapidRehousing'] / df_2017['Population']) *100"
   ]
  },
  {
   "cell_type": "code",
   "execution_count": 35,
   "id": "400be09c",
   "metadata": {},
   "outputs": [],
   "source": [
    "df_2017['RRH_units_perc_pop'] = (df_2017['RapidRehousing'] / df_2017['Population']) *100"
   ]
  },
  {
   "cell_type": "code",
   "execution_count": 36,
   "id": "ca148967",
   "metadata": {},
   "outputs": [],
   "source": [
    "df_2017['PSH_units_perc_pop'] = (df_2017['PermanentSupportive'] / df_2017['Population']) *100"
   ]
  },
  {
   "cell_type": "code",
   "execution_count": 37,
   "id": "5977410d",
   "metadata": {},
   "outputs": [],
   "source": [
    "df_2017['OPH_units_perc_pop'] = (df_2017['PermanentOther'] / df_2017['Population']) *100"
   ]
  },
  {
   "cell_type": "code",
   "execution_count": 38,
   "id": "748c71c5",
   "metadata": {},
   "outputs": [
    {
     "data": {
      "text/html": [
       "<div>\n",
       "<style scoped>\n",
       "    .dataframe tbody tr th:only-of-type {\n",
       "        vertical-align: middle;\n",
       "    }\n",
       "\n",
       "    .dataframe tbody tr th {\n",
       "        vertical-align: top;\n",
       "    }\n",
       "\n",
       "    .dataframe thead th {\n",
       "        text-align: right;\n",
       "    }\n",
       "</style>\n",
       "<table border=\"1\" class=\"dataframe\">\n",
       "  <thead>\n",
       "    <tr style=\"text-align: right;\">\n",
       "      <th></th>\n",
       "      <th>Emergency</th>\n",
       "      <th>Transitional</th>\n",
       "      <th>SafeHaven</th>\n",
       "      <th>RapidRehousing</th>\n",
       "      <th>PermanentSupportive</th>\n",
       "      <th>PermanentOther</th>\n",
       "      <th>Unsheltered</th>\n",
       "      <th>Population</th>\n",
       "      <th>Unemployment</th>\n",
       "      <th>Unsheltered_perc_pop</th>\n",
       "      <th>ES_beds_perc_pop</th>\n",
       "      <th>TS_beds_perc_pop</th>\n",
       "      <th>SH_beds_perc_pop</th>\n",
       "      <th>RRH_units_perc_pop</th>\n",
       "      <th>PSH_units_perc_pop</th>\n",
       "      <th>OPH_units_perc_pop</th>\n",
       "    </tr>\n",
       "  </thead>\n",
       "  <tbody>\n",
       "    <tr>\n",
       "      <th>0</th>\n",
       "      <td>597</td>\n",
       "      <td>426</td>\n",
       "      <td>0</td>\n",
       "      <td>43</td>\n",
       "      <td>571</td>\n",
       "      <td>71</td>\n",
       "      <td>155</td>\n",
       "      <td>294338.0</td>\n",
       "      <td>5.400000</td>\n",
       "      <td>0.052661</td>\n",
       "      <td>0.202828</td>\n",
       "      <td>0.144732</td>\n",
       "      <td>0.000000</td>\n",
       "      <td>0.014609</td>\n",
       "      <td>0.193995</td>\n",
       "      <td>0.024122</td>\n",
       "    </tr>\n",
       "    <tr>\n",
       "      <th>1</th>\n",
       "      <td>533</td>\n",
       "      <td>272</td>\n",
       "      <td>0</td>\n",
       "      <td>23</td>\n",
       "      <td>368</td>\n",
       "      <td>30</td>\n",
       "      <td>139</td>\n",
       "      <td>426994.0</td>\n",
       "      <td>8.166667</td>\n",
       "      <td>0.032553</td>\n",
       "      <td>0.124826</td>\n",
       "      <td>0.063701</td>\n",
       "      <td>0.000000</td>\n",
       "      <td>0.005386</td>\n",
       "      <td>0.086184</td>\n",
       "      <td>0.007026</td>\n",
       "    </tr>\n",
       "    <tr>\n",
       "      <th>2</th>\n",
       "      <td>595</td>\n",
       "      <td>357</td>\n",
       "      <td>34</td>\n",
       "      <td>525</td>\n",
       "      <td>1542</td>\n",
       "      <td>93</td>\n",
       "      <td>217</td>\n",
       "      <td>961158.0</td>\n",
       "      <td>3.933333</td>\n",
       "      <td>0.022577</td>\n",
       "      <td>0.061904</td>\n",
       "      <td>0.037143</td>\n",
       "      <td>0.003537</td>\n",
       "      <td>0.054622</td>\n",
       "      <td>0.160431</td>\n",
       "      <td>0.009676</td>\n",
       "    </tr>\n",
       "    <tr>\n",
       "      <th>3</th>\n",
       "      <td>304</td>\n",
       "      <td>222</td>\n",
       "      <td>0</td>\n",
       "      <td>54</td>\n",
       "      <td>247</td>\n",
       "      <td>0</td>\n",
       "      <td>265</td>\n",
       "      <td>626566.0</td>\n",
       "      <td>4.800000</td>\n",
       "      <td>0.042294</td>\n",
       "      <td>0.048518</td>\n",
       "      <td>0.035431</td>\n",
       "      <td>0.000000</td>\n",
       "      <td>0.008618</td>\n",
       "      <td>0.039421</td>\n",
       "      <td>0.000000</td>\n",
       "    </tr>\n",
       "    <tr>\n",
       "      <th>4</th>\n",
       "      <td>41</td>\n",
       "      <td>196</td>\n",
       "      <td>0</td>\n",
       "      <td>0</td>\n",
       "      <td>36</td>\n",
       "      <td>20</td>\n",
       "      <td>22</td>\n",
       "      <td>208593.0</td>\n",
       "      <td>4.900000</td>\n",
       "      <td>0.010547</td>\n",
       "      <td>0.019656</td>\n",
       "      <td>0.093963</td>\n",
       "      <td>0.000000</td>\n",
       "      <td>0.000000</td>\n",
       "      <td>0.017258</td>\n",
       "      <td>0.009588</td>\n",
       "    </tr>\n",
       "  </tbody>\n",
       "</table>\n",
       "</div>"
      ],
      "text/plain": [
       "   Emergency  Transitional  SafeHaven  RapidRehousing  PermanentSupportive  \\\n",
       "0        597           426          0              43                  571   \n",
       "1        533           272          0              23                  368   \n",
       "2        595           357         34             525                 1542   \n",
       "3        304           222          0              54                  247   \n",
       "4         41           196          0               0                   36   \n",
       "\n",
       "   PermanentOther  Unsheltered  Population  Unemployment  \\\n",
       "0              71          155    294338.0      5.400000   \n",
       "1              30          139    426994.0      8.166667   \n",
       "2              93          217    961158.0      3.933333   \n",
       "3               0          265    626566.0      4.800000   \n",
       "4              20           22    208593.0      4.900000   \n",
       "\n",
       "   Unsheltered_perc_pop  ES_beds_perc_pop  TS_beds_perc_pop  SH_beds_perc_pop  \\\n",
       "0              0.052661          0.202828          0.144732          0.000000   \n",
       "1              0.032553          0.124826          0.063701          0.000000   \n",
       "2              0.022577          0.061904          0.037143          0.003537   \n",
       "3              0.042294          0.048518          0.035431          0.000000   \n",
       "4              0.010547          0.019656          0.093963          0.000000   \n",
       "\n",
       "   RRH_units_perc_pop  PSH_units_perc_pop  OPH_units_perc_pop  \n",
       "0            0.014609            0.193995            0.024122  \n",
       "1            0.005386            0.086184            0.007026  \n",
       "2            0.054622            0.160431            0.009676  \n",
       "3            0.008618            0.039421            0.000000  \n",
       "4            0.000000            0.017258            0.009588  "
      ]
     },
     "execution_count": 38,
     "metadata": {},
     "output_type": "execute_result"
    }
   ],
   "source": [
    "df_2017.head()"
   ]
  },
  {
   "cell_type": "code",
   "execution_count": 39,
   "id": "034fdc02",
   "metadata": {},
   "outputs": [],
   "source": [
    "df_2017=df_2017.drop(['Emergency', 'Transitional', 'SafeHaven', 'RapidRehousing', 'PermanentSupportive', 'PermanentOther', 'Unsheltered'], axis=1)"
   ]
  },
  {
   "cell_type": "code",
   "execution_count": 40,
   "id": "e82f9ad5",
   "metadata": {},
   "outputs": [
    {
     "name": "stdout",
     "output_type": "stream",
     "text": [
      "<class 'pandas.core.frame.DataFrame'>\n",
      "RangeIndex: 371 entries, 0 to 370\n",
      "Data columns (total 9 columns):\n",
      " #   Column                Non-Null Count  Dtype  \n",
      "---  ------                --------------  -----  \n",
      " 0   Population            371 non-null    float64\n",
      " 1   Unemployment          371 non-null    float64\n",
      " 2   Unsheltered_perc_pop  371 non-null    float64\n",
      " 3   ES_beds_perc_pop      371 non-null    float64\n",
      " 4   TS_beds_perc_pop      371 non-null    float64\n",
      " 5   SH_beds_perc_pop      371 non-null    float64\n",
      " 6   RRH_units_perc_pop    371 non-null    float64\n",
      " 7   PSH_units_perc_pop    371 non-null    float64\n",
      " 8   OPH_units_perc_pop    371 non-null    float64\n",
      "dtypes: float64(9)\n",
      "memory usage: 26.2 KB\n"
     ]
    }
   ],
   "source": [
    "df_2017.info()"
   ]
  },
  {
   "cell_type": "code",
   "execution_count": null,
   "id": "a5d62f14",
   "metadata": {},
   "outputs": [],
   "source": []
  },
  {
   "cell_type": "code",
   "execution_count": 41,
   "id": "34027fd1",
   "metadata": {},
   "outputs": [
    {
     "data": {
      "text/html": [
       "<div>\n",
       "<style scoped>\n",
       "    .dataframe tbody tr th:only-of-type {\n",
       "        vertical-align: middle;\n",
       "    }\n",
       "\n",
       "    .dataframe tbody tr th {\n",
       "        vertical-align: top;\n",
       "    }\n",
       "\n",
       "    .dataframe thead th {\n",
       "        text-align: right;\n",
       "    }\n",
       "</style>\n",
       "<table border=\"1\" class=\"dataframe\">\n",
       "  <thead>\n",
       "    <tr style=\"text-align: right;\">\n",
       "      <th></th>\n",
       "      <th>Population</th>\n",
       "      <th>Unemployment</th>\n",
       "      <th>Unsheltered_perc_pop</th>\n",
       "      <th>ES_beds_perc_pop</th>\n",
       "      <th>TS_beds_perc_pop</th>\n",
       "      <th>SH_beds_perc_pop</th>\n",
       "      <th>RRH_units_perc_pop</th>\n",
       "      <th>PSH_units_perc_pop</th>\n",
       "      <th>OPH_units_perc_pop</th>\n",
       "    </tr>\n",
       "  </thead>\n",
       "  <tbody>\n",
       "    <tr>\n",
       "      <th>0</th>\n",
       "      <td>294338.0</td>\n",
       "      <td>5.400000</td>\n",
       "      <td>0.052661</td>\n",
       "      <td>0.202828</td>\n",
       "      <td>0.144732</td>\n",
       "      <td>0.000000</td>\n",
       "      <td>0.014609</td>\n",
       "      <td>0.193995</td>\n",
       "      <td>0.024122</td>\n",
       "    </tr>\n",
       "    <tr>\n",
       "      <th>1</th>\n",
       "      <td>426994.0</td>\n",
       "      <td>8.166667</td>\n",
       "      <td>0.032553</td>\n",
       "      <td>0.124826</td>\n",
       "      <td>0.063701</td>\n",
       "      <td>0.000000</td>\n",
       "      <td>0.005386</td>\n",
       "      <td>0.086184</td>\n",
       "      <td>0.007026</td>\n",
       "    </tr>\n",
       "    <tr>\n",
       "      <th>2</th>\n",
       "      <td>961158.0</td>\n",
       "      <td>3.933333</td>\n",
       "      <td>0.022577</td>\n",
       "      <td>0.061904</td>\n",
       "      <td>0.037143</td>\n",
       "      <td>0.003537</td>\n",
       "      <td>0.054622</td>\n",
       "      <td>0.160431</td>\n",
       "      <td>0.009676</td>\n",
       "    </tr>\n",
       "    <tr>\n",
       "      <th>3</th>\n",
       "      <td>626566.0</td>\n",
       "      <td>4.800000</td>\n",
       "      <td>0.042294</td>\n",
       "      <td>0.048518</td>\n",
       "      <td>0.035431</td>\n",
       "      <td>0.000000</td>\n",
       "      <td>0.008618</td>\n",
       "      <td>0.039421</td>\n",
       "      <td>0.000000</td>\n",
       "    </tr>\n",
       "    <tr>\n",
       "      <th>4</th>\n",
       "      <td>208593.0</td>\n",
       "      <td>4.900000</td>\n",
       "      <td>0.010547</td>\n",
       "      <td>0.019656</td>\n",
       "      <td>0.093963</td>\n",
       "      <td>0.000000</td>\n",
       "      <td>0.000000</td>\n",
       "      <td>0.017258</td>\n",
       "      <td>0.009588</td>\n",
       "    </tr>\n",
       "  </tbody>\n",
       "</table>\n",
       "</div>"
      ],
      "text/plain": [
       "   Population  Unemployment  Unsheltered_perc_pop  ES_beds_perc_pop  \\\n",
       "0    294338.0      5.400000              0.052661          0.202828   \n",
       "1    426994.0      8.166667              0.032553          0.124826   \n",
       "2    961158.0      3.933333              0.022577          0.061904   \n",
       "3    626566.0      4.800000              0.042294          0.048518   \n",
       "4    208593.0      4.900000              0.010547          0.019656   \n",
       "\n",
       "   TS_beds_perc_pop  SH_beds_perc_pop  RRH_units_perc_pop  PSH_units_perc_pop  \\\n",
       "0          0.144732          0.000000            0.014609            0.193995   \n",
       "1          0.063701          0.000000            0.005386            0.086184   \n",
       "2          0.037143          0.003537            0.054622            0.160431   \n",
       "3          0.035431          0.000000            0.008618            0.039421   \n",
       "4          0.093963          0.000000            0.000000            0.017258   \n",
       "\n",
       "   OPH_units_perc_pop  \n",
       "0            0.024122  \n",
       "1            0.007026  \n",
       "2            0.009676  \n",
       "3            0.000000  \n",
       "4            0.009588  "
      ]
     },
     "execution_count": 41,
     "metadata": {},
     "output_type": "execute_result"
    }
   ],
   "source": [
    "df_2017.head()"
   ]
  },
  {
   "cell_type": "code",
   "execution_count": null,
   "id": "c93e107b",
   "metadata": {},
   "outputs": [],
   "source": []
  },
  {
   "cell_type": "code",
   "execution_count": 42,
   "id": "b3b8c198",
   "metadata": {},
   "outputs": [
    {
     "data": {
      "text/html": [
       "<div>\n",
       "<style scoped>\n",
       "    .dataframe tbody tr th:only-of-type {\n",
       "        vertical-align: middle;\n",
       "    }\n",
       "\n",
       "    .dataframe tbody tr th {\n",
       "        vertical-align: top;\n",
       "    }\n",
       "\n",
       "    .dataframe thead th {\n",
       "        text-align: right;\n",
       "    }\n",
       "</style>\n",
       "<table border=\"1\" class=\"dataframe\">\n",
       "  <thead>\n",
       "    <tr style=\"text-align: right;\">\n",
       "      <th></th>\n",
       "      <th>Population</th>\n",
       "      <th>Unemployment</th>\n",
       "      <th>ES_beds_perc_pop</th>\n",
       "      <th>TS_beds_perc_pop</th>\n",
       "      <th>SH_beds_perc_pop</th>\n",
       "      <th>RRH_units_perc_pop</th>\n",
       "      <th>PSH_units_perc_pop</th>\n",
       "      <th>OPH_units_perc_pop</th>\n",
       "    </tr>\n",
       "  </thead>\n",
       "  <tbody>\n",
       "    <tr>\n",
       "      <th>0</th>\n",
       "      <td>294338.0</td>\n",
       "      <td>5.400000</td>\n",
       "      <td>0.202828</td>\n",
       "      <td>0.144732</td>\n",
       "      <td>0.000000</td>\n",
       "      <td>0.014609</td>\n",
       "      <td>0.193995</td>\n",
       "      <td>0.024122</td>\n",
       "    </tr>\n",
       "    <tr>\n",
       "      <th>1</th>\n",
       "      <td>426994.0</td>\n",
       "      <td>8.166667</td>\n",
       "      <td>0.124826</td>\n",
       "      <td>0.063701</td>\n",
       "      <td>0.000000</td>\n",
       "      <td>0.005386</td>\n",
       "      <td>0.086184</td>\n",
       "      <td>0.007026</td>\n",
       "    </tr>\n",
       "    <tr>\n",
       "      <th>2</th>\n",
       "      <td>961158.0</td>\n",
       "      <td>3.933333</td>\n",
       "      <td>0.061904</td>\n",
       "      <td>0.037143</td>\n",
       "      <td>0.003537</td>\n",
       "      <td>0.054622</td>\n",
       "      <td>0.160431</td>\n",
       "      <td>0.009676</td>\n",
       "    </tr>\n",
       "    <tr>\n",
       "      <th>3</th>\n",
       "      <td>626566.0</td>\n",
       "      <td>4.800000</td>\n",
       "      <td>0.048518</td>\n",
       "      <td>0.035431</td>\n",
       "      <td>0.000000</td>\n",
       "      <td>0.008618</td>\n",
       "      <td>0.039421</td>\n",
       "      <td>0.000000</td>\n",
       "    </tr>\n",
       "    <tr>\n",
       "      <th>4</th>\n",
       "      <td>208593.0</td>\n",
       "      <td>4.900000</td>\n",
       "      <td>0.019656</td>\n",
       "      <td>0.093963</td>\n",
       "      <td>0.000000</td>\n",
       "      <td>0.000000</td>\n",
       "      <td>0.017258</td>\n",
       "      <td>0.009588</td>\n",
       "    </tr>\n",
       "  </tbody>\n",
       "</table>\n",
       "</div>"
      ],
      "text/plain": [
       "   Population  Unemployment  ES_beds_perc_pop  TS_beds_perc_pop  \\\n",
       "0    294338.0      5.400000          0.202828          0.144732   \n",
       "1    426994.0      8.166667          0.124826          0.063701   \n",
       "2    961158.0      3.933333          0.061904          0.037143   \n",
       "3    626566.0      4.800000          0.048518          0.035431   \n",
       "4    208593.0      4.900000          0.019656          0.093963   \n",
       "\n",
       "   SH_beds_perc_pop  RRH_units_perc_pop  PSH_units_perc_pop  \\\n",
       "0          0.000000            0.014609            0.193995   \n",
       "1          0.000000            0.005386            0.086184   \n",
       "2          0.003537            0.054622            0.160431   \n",
       "3          0.000000            0.008618            0.039421   \n",
       "4          0.000000            0.000000            0.017258   \n",
       "\n",
       "   OPH_units_perc_pop  \n",
       "0            0.024122  \n",
       "1            0.007026  \n",
       "2            0.009676  \n",
       "3            0.000000  \n",
       "4            0.009588  "
      ]
     },
     "execution_count": 42,
     "metadata": {},
     "output_type": "execute_result"
    }
   ],
   "source": [
    "# Define the features set.\n",
    "X = df_2017.copy()\n",
    "X = X.drop(\"Unsheltered_perc_pop\", axis=1)\n",
    "X.head()"
   ]
  },
  {
   "cell_type": "code",
   "execution_count": 43,
   "id": "c203db81",
   "metadata": {},
   "outputs": [
    {
     "data": {
      "text/plain": [
       "array([0.05266055, 0.03255315, 0.02257693, 0.04229403, 0.01054685])"
      ]
     },
     "execution_count": 43,
     "metadata": {},
     "output_type": "execute_result"
    }
   ],
   "source": [
    "# Define the target set.\n",
    "y = df_2017[\"Unsheltered_perc_pop\"].ravel()\n",
    "y[:5]"
   ]
  },
  {
   "cell_type": "code",
   "execution_count": 44,
   "id": "9b1c8c6c",
   "metadata": {},
   "outputs": [],
   "source": [
    "# Splitting into Train and Test sets.\n",
    "X_train, X_test, y_train, y_test = train_test_split(X, y, random_state=78)"
   ]
  },
  {
   "cell_type": "code",
   "execution_count": 45,
   "id": "01359db9",
   "metadata": {},
   "outputs": [],
   "source": [
    "regr = RandomForestRegressor(max_depth=3, random_state=0)"
   ]
  },
  {
   "cell_type": "code",
   "execution_count": 46,
   "id": "ddbb7812",
   "metadata": {},
   "outputs": [],
   "source": [
    "reg_model = regr.fit(X, y)"
   ]
  },
  {
   "cell_type": "code",
   "execution_count": 47,
   "id": "dd6ec966",
   "metadata": {},
   "outputs": [
    {
     "data": {
      "text/plain": [
       "array([0.11728886, 0.15696249, 0.05191535, 0.34339795, 0.00092011,\n",
       "       0.109242  , 0.21305324, 0.00722   ])"
      ]
     },
     "execution_count": 47,
     "metadata": {},
     "output_type": "execute_result"
    }
   ],
   "source": [
    "importances = reg_model.feature_importances_\n",
    "importances"
   ]
  },
  {
   "cell_type": "code",
   "execution_count": 48,
   "id": "eff49320",
   "metadata": {},
   "outputs": [
    {
     "data": {
      "text/plain": [
       "[(0.3433979476983135, 'TS_beds_perc_pop'),\n",
       " (0.2130532372779768, 'PSH_units_perc_pop'),\n",
       " (0.1569624941003427, 'Unemployment'),\n",
       " (0.11728885548402718, 'Population'),\n",
       " (0.10924200206945249, 'RRH_units_perc_pop'),\n",
       " (0.0519153523817578, 'ES_beds_perc_pop'),\n",
       " (0.007219998945765491, 'OPH_units_perc_pop'),\n",
       " (0.0009201120423640083, 'SH_beds_perc_pop')]"
      ]
     },
     "execution_count": 48,
     "metadata": {},
     "output_type": "execute_result"
    }
   ],
   "source": [
    "# We can sort the features by their importance.\n",
    "sorted(zip(reg_model.feature_importances_, X.columns), reverse=True)"
   ]
  },
  {
   "cell_type": "code",
   "execution_count": 49,
   "id": "7e87f7c3",
   "metadata": {},
   "outputs": [],
   "source": [
    "%matplotlib inline\n",
    "from matplotlib import pyplot as plt"
   ]
  },
  {
   "cell_type": "code",
   "execution_count": 50,
   "id": "eaf7d067",
   "metadata": {},
   "outputs": [
    {
     "data": {
      "image/png": "[encoded data removed]",
      "text/plain": [
       "<Figure size 720x1440 with 1 Axes>"
      ]
     },
     "metadata": {
      "needs_background": "light"
     },
     "output_type": "display_data"
    }
   ],
   "source": [
    "features = sorted(zip(X.columns, reg_model.feature_importances_), key = lambda x: x[1])\n",
    "cols = [f[0] for f in features]\n",
    "width = [f[1] for f in features]\n",
    "\n",
    "fig, ax = plt.subplots()\n",
    "\n",
    "fig.set_size_inches(10,20)\n",
    "plt.margins(y=0.001)\n",
    "\n",
    "ax.barh(y=cols, width=width)\n",
    "\n",
    "plt.show()"
   ]
  },
  {
   "cell_type": "code",
   "execution_count": 51,
   "id": "beff0f06",
   "metadata": {},
   "outputs": [],
   "source": [
    "estimator = reg_model.estimators_[5]"
   ]
  },
  {
   "cell_type": "code",
   "execution_count": 52,
   "id": "db6b37ef",
   "metadata": {},
   "outputs": [
    {
     "data": {
      "text/plain": [
       "[Text(0.4583333333333333, 0.875, 'X[3] <= 0.146\\nsquared_error = 0.008\\nsamples = 234\\nvalue = 0.055'),\n",
       " Text(0.25, 0.625, 'X[1] <= 14.725\\nsquared_error = 0.006\\nsamples = 226\\nvalue = 0.049'),\n",
       " Text(0.16666666666666666, 0.375, 'X[3] <= 0.064\\nsquared_error = 0.006\\nsamples = 225\\nvalue = 0.047'),\n",
       " Text(0.08333333333333333, 0.125, 'squared_error = 0.003\\nsamples = 193\\nvalue = 0.038'),\n",
       " Text(0.25, 0.125, 'squared_error = 0.019\\nsamples = 32\\nvalue = 0.102'),\n",
       " Text(0.3333333333333333, 0.375, 'squared_error = -0.0\\nsamples = 1\\nvalue = 0.565'),\n",
       " Text(0.6666666666666666, 0.625, 'X[6] <= 0.475\\nsquared_error = 0.012\\nsamples = 8\\nvalue = 0.251'),\n",
       " Text(0.5, 0.375, 'X[5] <= 0.084\\nsquared_error = 0.003\\nsamples = 4\\nvalue = 0.326'),\n",
       " Text(0.4166666666666667, 0.125, 'squared_error = 0.0\\nsamples = 3\\nvalue = 0.362'),\n",
       " Text(0.5833333333333334, 0.125, 'squared_error = -0.0\\nsamples = 1\\nvalue = 0.236'),\n",
       " Text(0.8333333333333334, 0.375, 'X[4] <= 0.002\\nsquared_error = 0.0\\nsamples = 4\\nvalue = 0.121'),\n",
       " Text(0.75, 0.125, 'squared_error = 0.0\\nsamples = 3\\nvalue = 0.132'),\n",
       " Text(0.9166666666666666, 0.125, 'squared_error = 0.0\\nsamples = 1\\nvalue = 0.089')]"
      ]
     },
     "execution_count": 52,
     "metadata": {},
     "output_type": "execute_result"
    },
    {
     "data": {
      "image/png": "[encoded data removed]",
      "text/plain": [
       "<Figure size 432x288 with 1 Axes>"
      ]
     },
     "metadata": {
      "needs_background": "light"
     },
     "output_type": "display_data"
    }
   ],
   "source": [
    "from sklearn import tree\n",
    "tree.plot_tree(reg_model.estimators_[0])"
   ]
  },
  {
   "cell_type": "code",
   "execution_count": 53,
   "id": "1b29727e",
   "metadata": {},
   "outputs": [],
   "source": [
    "df_2017.to_csv('2017_converted.csv', index=False)"
   ]
  },
  {
   "cell_type": "code",
   "execution_count": null,
   "id": "f2ecce61",
   "metadata": {},
   "outputs": [],
   "source": []
  },
  {
   "cell_type": "code",
   "execution_count": null,
   "id": "dad5ce28",
   "metadata": {},
   "outputs": [],
   "source": []
  },
  {
   "cell_type": "code",
   "execution_count": null,
   "id": "650cb8c2",
   "metadata": {},
   "outputs": [],
   "source": []
  },
  {
   "cell_type": "code",
   "execution_count": null,
   "id": "e9c73f14",
   "metadata": {},
   "outputs": [],
   "source": []
  }
 ],
 "metadata": {
  "kernelspec": {
   "display_name": "mlenv",
   "language": "python",
   "name": "mlenv"
  },
  "language_info": {
   "codemirror_mode": {
    "name": "ipython",
    "version": 3
   },
   "file_extension": ".py",
   "mimetype": "text/x-python",
   "name": "python",
   "nbconvert_exporter": "python",
   "pygments_lexer": "ipython3",
   "version": "3.7.11"
  }
 },
 "nbformat": 4,
 "nbformat_minor": 5
}
