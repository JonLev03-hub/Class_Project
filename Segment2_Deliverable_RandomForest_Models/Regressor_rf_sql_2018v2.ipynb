{
 "cells": [
  {
   "cell_type": "code",
   "execution_count": 70,
   "id": "dff54672",
   "metadata": {},
   "outputs": [],
   "source": [
    "# Initial imports.\n",
    "import pandas as pd\n",
    "import numpy as np\n",
    "from path import Path\n",
    "from sklearn.ensemble import RandomForestRegressor\n",
    "from sklearn.datasets import make_regression\n",
    "from sklearn.preprocessing import StandardScaler\n",
    "from sklearn.model_selection import train_test_split\n",
    "from sklearn.metrics import confusion_matrix, accuracy_score, classification_report\n",
    "from sklearn.tree import export_graphviz\n",
    "import sqlite3"
   ]
  },
  {
   "cell_type": "code",
   "execution_count": 71,
   "id": "7c6b1103",
   "metadata": {},
   "outputs": [],
   "source": [
    "conn = sqlite3.connect('../HomelessData.db')\n",
    "c = conn.cursor()"
   ]
  },
  {
   "cell_type": "code",
   "execution_count": 72,
   "id": "5c042c65",
   "metadata": {},
   "outputs": [
    {
     "data": {
      "text/html": [
       "<div>\n",
       "<style scoped>\n",
       "    .dataframe tbody tr th:only-of-type {\n",
       "        vertical-align: middle;\n",
       "    }\n",
       "\n",
       "    .dataframe tbody tr th {\n",
       "        vertical-align: top;\n",
       "    }\n",
       "\n",
       "    .dataframe thead th {\n",
       "        text-align: right;\n",
       "    }\n",
       "</style>\n",
       "<table border=\"1\" class=\"dataframe\">\n",
       "  <thead>\n",
       "    <tr style=\"text-align: right;\">\n",
       "      <th></th>\n",
       "      <th>Coc</th>\n",
       "      <th>TotalBeds</th>\n",
       "      <th>Emergency</th>\n",
       "      <th>Transitional</th>\n",
       "      <th>SafeHaven</th>\n",
       "      <th>RapidRehousing</th>\n",
       "      <th>PermanentSupportive</th>\n",
       "      <th>PermanentOther</th>\n",
       "      <th>Year</th>\n",
       "      <th>CocYear</th>\n",
       "      <th>TotalHomeless</th>\n",
       "      <th>Unsheltered</th>\n",
       "      <th>Sheltered</th>\n",
       "      <th>Population</th>\n",
       "      <th>Unemployment</th>\n",
       "    </tr>\n",
       "  </thead>\n",
       "  <tbody>\n",
       "    <tr>\n",
       "      <th>0</th>\n",
       "      <td>AK-500</td>\n",
       "      <td>1028</td>\n",
       "      <td>749</td>\n",
       "      <td>279</td>\n",
       "      <td>0</td>\n",
       "      <td>125</td>\n",
       "      <td>604</td>\n",
       "      <td>71</td>\n",
       "      <td>2018</td>\n",
       "      <td>AK-500 2018</td>\n",
       "      <td>1094</td>\n",
       "      <td>94</td>\n",
       "      <td>1000</td>\n",
       "      <td>290521.0</td>\n",
       "      <td>5.000000</td>\n",
       "    </tr>\n",
       "    <tr>\n",
       "      <th>1</th>\n",
       "      <td>AK-501</td>\n",
       "      <td>912</td>\n",
       "      <td>649</td>\n",
       "      <td>263</td>\n",
       "      <td>0</td>\n",
       "      <td>90</td>\n",
       "      <td>344</td>\n",
       "      <td>0</td>\n",
       "      <td>2018</td>\n",
       "      <td>AK-501 2018</td>\n",
       "      <td>922</td>\n",
       "      <td>215</td>\n",
       "      <td>707</td>\n",
       "      <td>426228.0</td>\n",
       "      <td>7.483333</td>\n",
       "    </tr>\n",
       "    <tr>\n",
       "      <th>2</th>\n",
       "      <td>AL-500</td>\n",
       "      <td>911</td>\n",
       "      <td>569</td>\n",
       "      <td>308</td>\n",
       "      <td>34</td>\n",
       "      <td>191</td>\n",
       "      <td>1768</td>\n",
       "      <td>0</td>\n",
       "      <td>2018</td>\n",
       "      <td>AL-500 2018</td>\n",
       "      <td>901</td>\n",
       "      <td>219</td>\n",
       "      <td>682</td>\n",
       "      <td>963666.0</td>\n",
       "      <td>3.333333</td>\n",
       "    </tr>\n",
       "    <tr>\n",
       "      <th>3</th>\n",
       "      <td>AL-501</td>\n",
       "      <td>435</td>\n",
       "      <td>298</td>\n",
       "      <td>137</td>\n",
       "      <td>0</td>\n",
       "      <td>60</td>\n",
       "      <td>203</td>\n",
       "      <td>0</td>\n",
       "      <td>2018</td>\n",
       "      <td>AL-501 2018</td>\n",
       "      <td>551</td>\n",
       "      <td>233</td>\n",
       "      <td>318</td>\n",
       "      <td>631763.0</td>\n",
       "      <td>4.150000</td>\n",
       "    </tr>\n",
       "    <tr>\n",
       "      <th>4</th>\n",
       "      <td>AL-502</td>\n",
       "      <td>210</td>\n",
       "      <td>102</td>\n",
       "      <td>108</td>\n",
       "      <td>0</td>\n",
       "      <td>0</td>\n",
       "      <td>50</td>\n",
       "      <td>0</td>\n",
       "      <td>2018</td>\n",
       "      <td>AL-502 2018</td>\n",
       "      <td>256</td>\n",
       "      <td>22</td>\n",
       "      <td>234</td>\n",
       "      <td>208656.0</td>\n",
       "      <td>4.150000</td>\n",
       "    </tr>\n",
       "  </tbody>\n",
       "</table>\n",
       "</div>"
      ],
      "text/plain": [
       "      Coc  TotalBeds  Emergency  Transitional  SafeHaven  RapidRehousing  \\\n",
       "0  AK-500       1028        749           279          0             125   \n",
       "1  AK-501        912        649           263          0              90   \n",
       "2  AL-500        911        569           308         34             191   \n",
       "3  AL-501        435        298           137          0              60   \n",
       "4  AL-502        210        102           108          0               0   \n",
       "\n",
       "   PermanentSupportive  PermanentOther  Year      CocYear  TotalHomeless  \\\n",
       "0                  604              71  2018  AK-500 2018           1094   \n",
       "1                  344               0  2018  AK-501 2018            922   \n",
       "2                 1768               0  2018  AL-500 2018            901   \n",
       "3                  203               0  2018  AL-501 2018            551   \n",
       "4                   50               0  2018  AL-502 2018            256   \n",
       "\n",
       "   Unsheltered  Sheltered  Population  Unemployment  \n",
       "0           94       1000    290521.0      5.000000  \n",
       "1          215        707    426228.0      7.483333  \n",
       "2          219        682    963666.0      3.333333  \n",
       "3          233        318    631763.0      4.150000  \n",
       "4           22        234    208656.0      4.150000  "
      ]
     },
     "execution_count": 72,
     "metadata": {},
     "output_type": "execute_result"
    }
   ],
   "source": [
    "# Loading data\n",
    "df_2018 = pd.read_sql(\"SELECT * FROM CocData WHERE year = 2018\", con = conn)\n",
    "\n",
    "df_2018.head()"
   ]
  },
  {
   "cell_type": "code",
   "execution_count": 73,
   "id": "8baead76",
   "metadata": {},
   "outputs": [],
   "source": [
    "df_2018=df_2018.drop(['TotalHomeless', 'Sheltered', 'TotalBeds', 'CocYear', 'Coc', 'Year'], axis=1)"
   ]
  },
  {
   "cell_type": "code",
   "execution_count": 74,
   "id": "eb840b72",
   "metadata": {},
   "outputs": [],
   "source": [
    "#df_2018['Unsheltered_div_pop'] = df_2018['Unsheltered'] / df_2018['Population']"
   ]
  },
  {
   "cell_type": "code",
   "execution_count": 75,
   "id": "ec43f691",
   "metadata": {},
   "outputs": [],
   "source": [
    "#df_2018.head()"
   ]
  },
  {
   "cell_type": "code",
   "execution_count": 76,
   "id": "0969fd48",
   "metadata": {},
   "outputs": [],
   "source": [
    "df_2018['Unsheltered_perc_pop'] = (df_2018['Unsheltered'] / df_2018['Population']) *100"
   ]
  },
  {
   "cell_type": "code",
   "execution_count": 77,
   "id": "839ef0bf",
   "metadata": {},
   "outputs": [
    {
     "data": {
      "text/html": [
       "<div>\n",
       "<style scoped>\n",
       "    .dataframe tbody tr th:only-of-type {\n",
       "        vertical-align: middle;\n",
       "    }\n",
       "\n",
       "    .dataframe tbody tr th {\n",
       "        vertical-align: top;\n",
       "    }\n",
       "\n",
       "    .dataframe thead th {\n",
       "        text-align: right;\n",
       "    }\n",
       "</style>\n",
       "<table border=\"1\" class=\"dataframe\">\n",
       "  <thead>\n",
       "    <tr style=\"text-align: right;\">\n",
       "      <th></th>\n",
       "      <th>Emergency</th>\n",
       "      <th>Transitional</th>\n",
       "      <th>SafeHaven</th>\n",
       "      <th>RapidRehousing</th>\n",
       "      <th>PermanentSupportive</th>\n",
       "      <th>PermanentOther</th>\n",
       "      <th>Unsheltered</th>\n",
       "      <th>Population</th>\n",
       "      <th>Unemployment</th>\n",
       "      <th>Unsheltered_perc_pop</th>\n",
       "    </tr>\n",
       "  </thead>\n",
       "  <tbody>\n",
       "    <tr>\n",
       "      <th>0</th>\n",
       "      <td>749</td>\n",
       "      <td>279</td>\n",
       "      <td>0</td>\n",
       "      <td>125</td>\n",
       "      <td>604</td>\n",
       "      <td>71</td>\n",
       "      <td>94</td>\n",
       "      <td>290521.0</td>\n",
       "      <td>5.000000</td>\n",
       "      <td>0.032356</td>\n",
       "    </tr>\n",
       "    <tr>\n",
       "      <th>1</th>\n",
       "      <td>649</td>\n",
       "      <td>263</td>\n",
       "      <td>0</td>\n",
       "      <td>90</td>\n",
       "      <td>344</td>\n",
       "      <td>0</td>\n",
       "      <td>215</td>\n",
       "      <td>426228.0</td>\n",
       "      <td>7.483333</td>\n",
       "      <td>0.050442</td>\n",
       "    </tr>\n",
       "    <tr>\n",
       "      <th>2</th>\n",
       "      <td>569</td>\n",
       "      <td>308</td>\n",
       "      <td>34</td>\n",
       "      <td>191</td>\n",
       "      <td>1768</td>\n",
       "      <td>0</td>\n",
       "      <td>219</td>\n",
       "      <td>963666.0</td>\n",
       "      <td>3.333333</td>\n",
       "      <td>0.022726</td>\n",
       "    </tr>\n",
       "    <tr>\n",
       "      <th>3</th>\n",
       "      <td>298</td>\n",
       "      <td>137</td>\n",
       "      <td>0</td>\n",
       "      <td>60</td>\n",
       "      <td>203</td>\n",
       "      <td>0</td>\n",
       "      <td>233</td>\n",
       "      <td>631763.0</td>\n",
       "      <td>4.150000</td>\n",
       "      <td>0.036881</td>\n",
       "    </tr>\n",
       "    <tr>\n",
       "      <th>4</th>\n",
       "      <td>102</td>\n",
       "      <td>108</td>\n",
       "      <td>0</td>\n",
       "      <td>0</td>\n",
       "      <td>50</td>\n",
       "      <td>0</td>\n",
       "      <td>22</td>\n",
       "      <td>208656.0</td>\n",
       "      <td>4.150000</td>\n",
       "      <td>0.010544</td>\n",
       "    </tr>\n",
       "  </tbody>\n",
       "</table>\n",
       "</div>"
      ],
      "text/plain": [
       "   Emergency  Transitional  SafeHaven  RapidRehousing  PermanentSupportive  \\\n",
       "0        749           279          0             125                  604   \n",
       "1        649           263          0              90                  344   \n",
       "2        569           308         34             191                 1768   \n",
       "3        298           137          0              60                  203   \n",
       "4        102           108          0               0                   50   \n",
       "\n",
       "   PermanentOther  Unsheltered  Population  Unemployment  Unsheltered_perc_pop  \n",
       "0              71           94    290521.0      5.000000              0.032356  \n",
       "1               0          215    426228.0      7.483333              0.050442  \n",
       "2               0          219    963666.0      3.333333              0.022726  \n",
       "3               0          233    631763.0      4.150000              0.036881  \n",
       "4               0           22    208656.0      4.150000              0.010544  "
      ]
     },
     "execution_count": 77,
     "metadata": {},
     "output_type": "execute_result"
    }
   ],
   "source": [
    "df_2018.head()"
   ]
  },
  {
   "cell_type": "code",
   "execution_count": 78,
   "id": "761bee63",
   "metadata": {},
   "outputs": [],
   "source": [
    "df_2018['ES_beds_perc_pop'] = (df_2018['Emergency'] / df_2018['Population']) *100"
   ]
  },
  {
   "cell_type": "code",
   "execution_count": 79,
   "id": "3e7ecbe2",
   "metadata": {},
   "outputs": [],
   "source": [
    "df_2018['TS_beds_perc_pop'] = (df_2018['Transitional'] / df_2018['Population']) *100"
   ]
  },
  {
   "cell_type": "code",
   "execution_count": 80,
   "id": "323468bc",
   "metadata": {},
   "outputs": [],
   "source": [
    "df_2018['SH_beds_perc_pop'] = (df_2018['SafeHaven'] / df_2018['Population']) *100"
   ]
  },
  {
   "cell_type": "code",
   "execution_count": 81,
   "id": "dc35dd9b",
   "metadata": {},
   "outputs": [],
   "source": [
    "df_2018['RRH_units_perc_pop'] = (df_2018['RapidRehousing'] / df_2018['Population']) *100"
   ]
  },
  {
   "cell_type": "code",
   "execution_count": 82,
   "id": "15d2e97a",
   "metadata": {},
   "outputs": [],
   "source": [
    "df_2018['RRH_units_perc_pop'] = (df_2018['RapidRehousing'] / df_2018['Population']) *100"
   ]
  },
  {
   "cell_type": "code",
   "execution_count": 83,
   "id": "a5ec3d2b",
   "metadata": {},
   "outputs": [],
   "source": [
    "df_2018['PSH_units_perc_pop'] = (df_2018['PermanentSupportive'] / df_2018['Population']) *100"
   ]
  },
  {
   "cell_type": "code",
   "execution_count": 84,
   "id": "c3dd75b8",
   "metadata": {},
   "outputs": [],
   "source": [
    "df_2018['OPH_units_perc_pop'] = (df_2018['PermanentOther'] / df_2018['Population']) *100"
   ]
  },
  {
   "cell_type": "code",
   "execution_count": 85,
   "id": "11f064d4",
   "metadata": {},
   "outputs": [
    {
     "data": {
      "text/html": [
       "<div>\n",
       "<style scoped>\n",
       "    .dataframe tbody tr th:only-of-type {\n",
       "        vertical-align: middle;\n",
       "    }\n",
       "\n",
       "    .dataframe tbody tr th {\n",
       "        vertical-align: top;\n",
       "    }\n",
       "\n",
       "    .dataframe thead th {\n",
       "        text-align: right;\n",
       "    }\n",
       "</style>\n",
       "<table border=\"1\" class=\"dataframe\">\n",
       "  <thead>\n",
       "    <tr style=\"text-align: right;\">\n",
       "      <th></th>\n",
       "      <th>Emergency</th>\n",
       "      <th>Transitional</th>\n",
       "      <th>SafeHaven</th>\n",
       "      <th>RapidRehousing</th>\n",
       "      <th>PermanentSupportive</th>\n",
       "      <th>PermanentOther</th>\n",
       "      <th>Unsheltered</th>\n",
       "      <th>Population</th>\n",
       "      <th>Unemployment</th>\n",
       "      <th>Unsheltered_perc_pop</th>\n",
       "      <th>ES_beds_perc_pop</th>\n",
       "      <th>TS_beds_perc_pop</th>\n",
       "      <th>SH_beds_perc_pop</th>\n",
       "      <th>RRH_units_perc_pop</th>\n",
       "      <th>PSH_units_perc_pop</th>\n",
       "      <th>OPH_units_perc_pop</th>\n",
       "    </tr>\n",
       "  </thead>\n",
       "  <tbody>\n",
       "    <tr>\n",
       "      <th>0</th>\n",
       "      <td>749</td>\n",
       "      <td>279</td>\n",
       "      <td>0</td>\n",
       "      <td>125</td>\n",
       "      <td>604</td>\n",
       "      <td>71</td>\n",
       "      <td>94</td>\n",
       "      <td>290521.0</td>\n",
       "      <td>5.000000</td>\n",
       "      <td>0.032356</td>\n",
       "      <td>0.257813</td>\n",
       "      <td>0.096034</td>\n",
       "      <td>0.000000</td>\n",
       "      <td>0.043026</td>\n",
       "      <td>0.207902</td>\n",
       "      <td>0.024439</td>\n",
       "    </tr>\n",
       "    <tr>\n",
       "      <th>1</th>\n",
       "      <td>649</td>\n",
       "      <td>263</td>\n",
       "      <td>0</td>\n",
       "      <td>90</td>\n",
       "      <td>344</td>\n",
       "      <td>0</td>\n",
       "      <td>215</td>\n",
       "      <td>426228.0</td>\n",
       "      <td>7.483333</td>\n",
       "      <td>0.050442</td>\n",
       "      <td>0.152266</td>\n",
       "      <td>0.061704</td>\n",
       "      <td>0.000000</td>\n",
       "      <td>0.021115</td>\n",
       "      <td>0.080708</td>\n",
       "      <td>0.000000</td>\n",
       "    </tr>\n",
       "    <tr>\n",
       "      <th>2</th>\n",
       "      <td>569</td>\n",
       "      <td>308</td>\n",
       "      <td>34</td>\n",
       "      <td>191</td>\n",
       "      <td>1768</td>\n",
       "      <td>0</td>\n",
       "      <td>219</td>\n",
       "      <td>963666.0</td>\n",
       "      <td>3.333333</td>\n",
       "      <td>0.022726</td>\n",
       "      <td>0.059045</td>\n",
       "      <td>0.031961</td>\n",
       "      <td>0.003528</td>\n",
       "      <td>0.019820</td>\n",
       "      <td>0.183466</td>\n",
       "      <td>0.000000</td>\n",
       "    </tr>\n",
       "    <tr>\n",
       "      <th>3</th>\n",
       "      <td>298</td>\n",
       "      <td>137</td>\n",
       "      <td>0</td>\n",
       "      <td>60</td>\n",
       "      <td>203</td>\n",
       "      <td>0</td>\n",
       "      <td>233</td>\n",
       "      <td>631763.0</td>\n",
       "      <td>4.150000</td>\n",
       "      <td>0.036881</td>\n",
       "      <td>0.047170</td>\n",
       "      <td>0.021685</td>\n",
       "      <td>0.000000</td>\n",
       "      <td>0.009497</td>\n",
       "      <td>0.032132</td>\n",
       "      <td>0.000000</td>\n",
       "    </tr>\n",
       "    <tr>\n",
       "      <th>4</th>\n",
       "      <td>102</td>\n",
       "      <td>108</td>\n",
       "      <td>0</td>\n",
       "      <td>0</td>\n",
       "      <td>50</td>\n",
       "      <td>0</td>\n",
       "      <td>22</td>\n",
       "      <td>208656.0</td>\n",
       "      <td>4.150000</td>\n",
       "      <td>0.010544</td>\n",
       "      <td>0.048884</td>\n",
       "      <td>0.051760</td>\n",
       "      <td>0.000000</td>\n",
       "      <td>0.000000</td>\n",
       "      <td>0.023963</td>\n",
       "      <td>0.000000</td>\n",
       "    </tr>\n",
       "  </tbody>\n",
       "</table>\n",
       "</div>"
      ],
      "text/plain": [
       "   Emergency  Transitional  SafeHaven  RapidRehousing  PermanentSupportive  \\\n",
       "0        749           279          0             125                  604   \n",
       "1        649           263          0              90                  344   \n",
       "2        569           308         34             191                 1768   \n",
       "3        298           137          0              60                  203   \n",
       "4        102           108          0               0                   50   \n",
       "\n",
       "   PermanentOther  Unsheltered  Population  Unemployment  \\\n",
       "0              71           94    290521.0      5.000000   \n",
       "1               0          215    426228.0      7.483333   \n",
       "2               0          219    963666.0      3.333333   \n",
       "3               0          233    631763.0      4.150000   \n",
       "4               0           22    208656.0      4.150000   \n",
       "\n",
       "   Unsheltered_perc_pop  ES_beds_perc_pop  TS_beds_perc_pop  SH_beds_perc_pop  \\\n",
       "0              0.032356          0.257813          0.096034          0.000000   \n",
       "1              0.050442          0.152266          0.061704          0.000000   \n",
       "2              0.022726          0.059045          0.031961          0.003528   \n",
       "3              0.036881          0.047170          0.021685          0.000000   \n",
       "4              0.010544          0.048884          0.051760          0.000000   \n",
       "\n",
       "   RRH_units_perc_pop  PSH_units_perc_pop  OPH_units_perc_pop  \n",
       "0            0.043026            0.207902            0.024439  \n",
       "1            0.021115            0.080708            0.000000  \n",
       "2            0.019820            0.183466            0.000000  \n",
       "3            0.009497            0.032132            0.000000  \n",
       "4            0.000000            0.023963            0.000000  "
      ]
     },
     "execution_count": 85,
     "metadata": {},
     "output_type": "execute_result"
    }
   ],
   "source": [
    "df_2018.head()"
   ]
  },
  {
   "cell_type": "code",
   "execution_count": 86,
   "id": "262c0780",
   "metadata": {},
   "outputs": [],
   "source": [
    "df_2018=df_2018.drop(['Emergency', 'Transitional', 'SafeHaven', 'RapidRehousing', 'PermanentSupportive', 'PermanentOther', 'Unsheltered'], axis=1)"
   ]
  },
  {
   "cell_type": "code",
   "execution_count": 87,
   "id": "f135ff4d",
   "metadata": {},
   "outputs": [
    {
     "name": "stdout",
     "output_type": "stream",
     "text": [
      "<class 'pandas.core.frame.DataFrame'>\n",
      "RangeIndex: 371 entries, 0 to 370\n",
      "Data columns (total 9 columns):\n",
      " #   Column                Non-Null Count  Dtype  \n",
      "---  ------                --------------  -----  \n",
      " 0   Population            371 non-null    float64\n",
      " 1   Unemployment          371 non-null    float64\n",
      " 2   Unsheltered_perc_pop  371 non-null    float64\n",
      " 3   ES_beds_perc_pop      371 non-null    float64\n",
      " 4   TS_beds_perc_pop      371 non-null    float64\n",
      " 5   SH_beds_perc_pop      371 non-null    float64\n",
      " 6   RRH_units_perc_pop    371 non-null    float64\n",
      " 7   PSH_units_perc_pop    371 non-null    float64\n",
      " 8   OPH_units_perc_pop    371 non-null    float64\n",
      "dtypes: float64(9)\n",
      "memory usage: 26.2 KB\n"
     ]
    }
   ],
   "source": [
    "df_2018.info()"
   ]
  },
  {
   "cell_type": "code",
   "execution_count": null,
   "id": "6ca885ea",
   "metadata": {},
   "outputs": [],
   "source": []
  },
  {
   "cell_type": "code",
   "execution_count": 88,
   "id": "34027fd1",
   "metadata": {},
   "outputs": [
    {
     "data": {
      "text/html": [
       "<div>\n",
       "<style scoped>\n",
       "    .dataframe tbody tr th:only-of-type {\n",
       "        vertical-align: middle;\n",
       "    }\n",
       "\n",
       "    .dataframe tbody tr th {\n",
       "        vertical-align: top;\n",
       "    }\n",
       "\n",
       "    .dataframe thead th {\n",
       "        text-align: right;\n",
       "    }\n",
       "</style>\n",
       "<table border=\"1\" class=\"dataframe\">\n",
       "  <thead>\n",
       "    <tr style=\"text-align: right;\">\n",
       "      <th></th>\n",
       "      <th>Population</th>\n",
       "      <th>Unemployment</th>\n",
       "      <th>Unsheltered_perc_pop</th>\n",
       "      <th>ES_beds_perc_pop</th>\n",
       "      <th>TS_beds_perc_pop</th>\n",
       "      <th>SH_beds_perc_pop</th>\n",
       "      <th>RRH_units_perc_pop</th>\n",
       "      <th>PSH_units_perc_pop</th>\n",
       "      <th>OPH_units_perc_pop</th>\n",
       "    </tr>\n",
       "  </thead>\n",
       "  <tbody>\n",
       "    <tr>\n",
       "      <th>0</th>\n",
       "      <td>290521.0</td>\n",
       "      <td>5.000000</td>\n",
       "      <td>0.032356</td>\n",
       "      <td>0.257813</td>\n",
       "      <td>0.096034</td>\n",
       "      <td>0.000000</td>\n",
       "      <td>0.043026</td>\n",
       "      <td>0.207902</td>\n",
       "      <td>0.024439</td>\n",
       "    </tr>\n",
       "    <tr>\n",
       "      <th>1</th>\n",
       "      <td>426228.0</td>\n",
       "      <td>7.483333</td>\n",
       "      <td>0.050442</td>\n",
       "      <td>0.152266</td>\n",
       "      <td>0.061704</td>\n",
       "      <td>0.000000</td>\n",
       "      <td>0.021115</td>\n",
       "      <td>0.080708</td>\n",
       "      <td>0.000000</td>\n",
       "    </tr>\n",
       "    <tr>\n",
       "      <th>2</th>\n",
       "      <td>963666.0</td>\n",
       "      <td>3.333333</td>\n",
       "      <td>0.022726</td>\n",
       "      <td>0.059045</td>\n",
       "      <td>0.031961</td>\n",
       "      <td>0.003528</td>\n",
       "      <td>0.019820</td>\n",
       "      <td>0.183466</td>\n",
       "      <td>0.000000</td>\n",
       "    </tr>\n",
       "    <tr>\n",
       "      <th>3</th>\n",
       "      <td>631763.0</td>\n",
       "      <td>4.150000</td>\n",
       "      <td>0.036881</td>\n",
       "      <td>0.047170</td>\n",
       "      <td>0.021685</td>\n",
       "      <td>0.000000</td>\n",
       "      <td>0.009497</td>\n",
       "      <td>0.032132</td>\n",
       "      <td>0.000000</td>\n",
       "    </tr>\n",
       "    <tr>\n",
       "      <th>4</th>\n",
       "      <td>208656.0</td>\n",
       "      <td>4.150000</td>\n",
       "      <td>0.010544</td>\n",
       "      <td>0.048884</td>\n",
       "      <td>0.051760</td>\n",
       "      <td>0.000000</td>\n",
       "      <td>0.000000</td>\n",
       "      <td>0.023963</td>\n",
       "      <td>0.000000</td>\n",
       "    </tr>\n",
       "  </tbody>\n",
       "</table>\n",
       "</div>"
      ],
      "text/plain": [
       "   Population  Unemployment  Unsheltered_perc_pop  ES_beds_perc_pop  \\\n",
       "0    290521.0      5.000000              0.032356          0.257813   \n",
       "1    426228.0      7.483333              0.050442          0.152266   \n",
       "2    963666.0      3.333333              0.022726          0.059045   \n",
       "3    631763.0      4.150000              0.036881          0.047170   \n",
       "4    208656.0      4.150000              0.010544          0.048884   \n",
       "\n",
       "   TS_beds_perc_pop  SH_beds_perc_pop  RRH_units_perc_pop  PSH_units_perc_pop  \\\n",
       "0          0.096034          0.000000            0.043026            0.207902   \n",
       "1          0.061704          0.000000            0.021115            0.080708   \n",
       "2          0.031961          0.003528            0.019820            0.183466   \n",
       "3          0.021685          0.000000            0.009497            0.032132   \n",
       "4          0.051760          0.000000            0.000000            0.023963   \n",
       "\n",
       "   OPH_units_perc_pop  \n",
       "0            0.024439  \n",
       "1            0.000000  \n",
       "2            0.000000  \n",
       "3            0.000000  \n",
       "4            0.000000  "
      ]
     },
     "execution_count": 88,
     "metadata": {},
     "output_type": "execute_result"
    }
   ],
   "source": [
    "df_2018.head()"
   ]
  },
  {
   "cell_type": "code",
   "execution_count": null,
   "id": "c93e107b",
   "metadata": {},
   "outputs": [],
   "source": []
  },
  {
   "cell_type": "code",
   "execution_count": 89,
   "id": "b3b8c198",
   "metadata": {},
   "outputs": [
    {
     "data": {
      "text/html": [
       "<div>\n",
       "<style scoped>\n",
       "    .dataframe tbody tr th:only-of-type {\n",
       "        vertical-align: middle;\n",
       "    }\n",
       "\n",
       "    .dataframe tbody tr th {\n",
       "        vertical-align: top;\n",
       "    }\n",
       "\n",
       "    .dataframe thead th {\n",
       "        text-align: right;\n",
       "    }\n",
       "</style>\n",
       "<table border=\"1\" class=\"dataframe\">\n",
       "  <thead>\n",
       "    <tr style=\"text-align: right;\">\n",
       "      <th></th>\n",
       "      <th>Population</th>\n",
       "      <th>Unemployment</th>\n",
       "      <th>ES_beds_perc_pop</th>\n",
       "      <th>TS_beds_perc_pop</th>\n",
       "      <th>SH_beds_perc_pop</th>\n",
       "      <th>RRH_units_perc_pop</th>\n",
       "      <th>PSH_units_perc_pop</th>\n",
       "      <th>OPH_units_perc_pop</th>\n",
       "    </tr>\n",
       "  </thead>\n",
       "  <tbody>\n",
       "    <tr>\n",
       "      <th>0</th>\n",
       "      <td>290521.0</td>\n",
       "      <td>5.000000</td>\n",
       "      <td>0.257813</td>\n",
       "      <td>0.096034</td>\n",
       "      <td>0.000000</td>\n",
       "      <td>0.043026</td>\n",
       "      <td>0.207902</td>\n",
       "      <td>0.024439</td>\n",
       "    </tr>\n",
       "    <tr>\n",
       "      <th>1</th>\n",
       "      <td>426228.0</td>\n",
       "      <td>7.483333</td>\n",
       "      <td>0.152266</td>\n",
       "      <td>0.061704</td>\n",
       "      <td>0.000000</td>\n",
       "      <td>0.021115</td>\n",
       "      <td>0.080708</td>\n",
       "      <td>0.000000</td>\n",
       "    </tr>\n",
       "    <tr>\n",
       "      <th>2</th>\n",
       "      <td>963666.0</td>\n",
       "      <td>3.333333</td>\n",
       "      <td>0.059045</td>\n",
       "      <td>0.031961</td>\n",
       "      <td>0.003528</td>\n",
       "      <td>0.019820</td>\n",
       "      <td>0.183466</td>\n",
       "      <td>0.000000</td>\n",
       "    </tr>\n",
       "    <tr>\n",
       "      <th>3</th>\n",
       "      <td>631763.0</td>\n",
       "      <td>4.150000</td>\n",
       "      <td>0.047170</td>\n",
       "      <td>0.021685</td>\n",
       "      <td>0.000000</td>\n",
       "      <td>0.009497</td>\n",
       "      <td>0.032132</td>\n",
       "      <td>0.000000</td>\n",
       "    </tr>\n",
       "    <tr>\n",
       "      <th>4</th>\n",
       "      <td>208656.0</td>\n",
       "      <td>4.150000</td>\n",
       "      <td>0.048884</td>\n",
       "      <td>0.051760</td>\n",
       "      <td>0.000000</td>\n",
       "      <td>0.000000</td>\n",
       "      <td>0.023963</td>\n",
       "      <td>0.000000</td>\n",
       "    </tr>\n",
       "  </tbody>\n",
       "</table>\n",
       "</div>"
      ],
      "text/plain": [
       "   Population  Unemployment  ES_beds_perc_pop  TS_beds_perc_pop  \\\n",
       "0    290521.0      5.000000          0.257813          0.096034   \n",
       "1    426228.0      7.483333          0.152266          0.061704   \n",
       "2    963666.0      3.333333          0.059045          0.031961   \n",
       "3    631763.0      4.150000          0.047170          0.021685   \n",
       "4    208656.0      4.150000          0.048884          0.051760   \n",
       "\n",
       "   SH_beds_perc_pop  RRH_units_perc_pop  PSH_units_perc_pop  \\\n",
       "0          0.000000            0.043026            0.207902   \n",
       "1          0.000000            0.021115            0.080708   \n",
       "2          0.003528            0.019820            0.183466   \n",
       "3          0.000000            0.009497            0.032132   \n",
       "4          0.000000            0.000000            0.023963   \n",
       "\n",
       "   OPH_units_perc_pop  \n",
       "0            0.024439  \n",
       "1            0.000000  \n",
       "2            0.000000  \n",
       "3            0.000000  \n",
       "4            0.000000  "
      ]
     },
     "execution_count": 89,
     "metadata": {},
     "output_type": "execute_result"
    }
   ],
   "source": [
    "# Define the features set.\n",
    "X = df_2018.copy()\n",
    "X = X.drop(\"Unsheltered_perc_pop\", axis=1)\n",
    "X.head()"
   ]
  },
  {
   "cell_type": "code",
   "execution_count": 90,
   "id": "c203db81",
   "metadata": {},
   "outputs": [
    {
     "data": {
      "text/plain": [
       "array([0.03235566, 0.05044249, 0.02272572, 0.03688092, 0.01054367])"
      ]
     },
     "execution_count": 90,
     "metadata": {},
     "output_type": "execute_result"
    }
   ],
   "source": [
    "# Define the target set.\n",
    "y = df_2018[\"Unsheltered_perc_pop\"].ravel()\n",
    "y[:5]"
   ]
  },
  {
   "cell_type": "code",
   "execution_count": 91,
   "id": "9b1c8c6c",
   "metadata": {},
   "outputs": [],
   "source": [
    "# Splitting into Train and Test sets.\n",
    "X_train, X_test, y_train, y_test = train_test_split(X, y, random_state=78)"
   ]
  },
  {
   "cell_type": "code",
   "execution_count": 92,
   "id": "01359db9",
   "metadata": {},
   "outputs": [],
   "source": [
    "regr = RandomForestRegressor(max_depth=3, random_state=0)"
   ]
  },
  {
   "cell_type": "code",
   "execution_count": 93,
   "id": "ddbb7812",
   "metadata": {},
   "outputs": [],
   "source": [
    "reg_model = regr.fit(X, y)"
   ]
  },
  {
   "cell_type": "code",
   "execution_count": 94,
   "id": "dd6ec966",
   "metadata": {},
   "outputs": [
    {
     "data": {
      "text/plain": [
       "array([0.15418288, 0.2410334 , 0.0928809 , 0.35604134, 0.00313233,\n",
       "       0.04566351, 0.10055011, 0.00651551])"
      ]
     },
     "execution_count": 94,
     "metadata": {},
     "output_type": "execute_result"
    }
   ],
   "source": [
    "importances = reg_model.feature_importances_\n",
    "importances"
   ]
  },
  {
   "cell_type": "code",
   "execution_count": 95,
   "id": "eff49320",
   "metadata": {},
   "outputs": [
    {
     "data": {
      "text/plain": [
       "[(0.35604134333435844, 'TS_beds_perc_pop'),\n",
       " (0.24103340349106311, 'Unemployment'),\n",
       " (0.1541828778567609, 'Population'),\n",
       " (0.10055011426558567, 'PSH_units_perc_pop'),\n",
       " (0.0928808998394602, 'ES_beds_perc_pop'),\n",
       " (0.045663513830546655, 'RRH_units_perc_pop'),\n",
       " (0.006515512781316709, 'OPH_units_perc_pop'),\n",
       " (0.003132334600908228, 'SH_beds_perc_pop')]"
      ]
     },
     "execution_count": 95,
     "metadata": {},
     "output_type": "execute_result"
    }
   ],
   "source": [
    "# We can sort the features by their importance.\n",
    "sorted(zip(reg_model.feature_importances_, X.columns), reverse=True)"
   ]
  },
  {
   "cell_type": "code",
   "execution_count": 96,
   "id": "7e87f7c3",
   "metadata": {},
   "outputs": [],
   "source": [
    "%matplotlib inline\n",
    "from matplotlib import pyplot as plt"
   ]
  },
  {
   "cell_type": "code",
   "execution_count": 97,
   "id": "eaf7d067",
   "metadata": {},
   "outputs": [
    {
     "data": {
      "image/png": "[encoded data removed]",
      "text/plain": [
       "<Figure size 720x1440 with 1 Axes>"
      ]
     },
     "metadata": {
      "needs_background": "light"
     },
     "output_type": "display_data"
    }
   ],
   "source": [
    "features = sorted(zip(X.columns, reg_model.feature_importances_), key = lambda x: x[1])\n",
    "cols = [f[0] for f in features]\n",
    "width = [f[1] for f in features]\n",
    "\n",
    "fig, ax = plt.subplots()\n",
    "\n",
    "fig.set_size_inches(10,20)\n",
    "plt.margins(y=0.001)\n",
    "\n",
    "ax.barh(y=cols, width=width)\n",
    "\n",
    "plt.show()"
   ]
  },
  {
   "cell_type": "code",
   "execution_count": 98,
   "id": "beff0f06",
   "metadata": {},
   "outputs": [],
   "source": [
    "estimator = reg_model.estimators_[5]"
   ]
  },
  {
   "cell_type": "code",
   "execution_count": 99,
   "id": "db6b37ef",
   "metadata": {},
   "outputs": [
    {
     "data": {
      "text/plain": [
       "[Text(0.625, 0.875, 'X[1] <= 13.825\\nsquared_error = 0.007\\nsamples = 234\\nvalue = 0.052'),\n",
       " Text(0.5, 0.625, 'X[3] <= 0.065\\nsquared_error = 0.006\\nsamples = 233\\nvalue = 0.05'),\n",
       " Text(0.25, 0.375, 'X[1] <= 7.104\\nsquared_error = 0.003\\nsamples = 198\\nvalue = 0.036'),\n",
       " Text(0.125, 0.125, 'squared_error = 0.002\\nsamples = 193\\nvalue = 0.034'),\n",
       " Text(0.375, 0.125, 'squared_error = 0.002\\nsamples = 5\\nvalue = 0.108'),\n",
       " Text(0.75, 0.375, 'X[1] <= 5.725\\nsquared_error = 0.02\\nsamples = 35\\nvalue = 0.133'),\n",
       " Text(0.625, 0.125, 'squared_error = 0.018\\nsamples = 33\\nvalue = 0.12'),\n",
       " Text(0.875, 0.125, 'squared_error = 0.012\\nsamples = 2\\nvalue = 0.355'),\n",
       " Text(0.75, 0.625, 'squared_error = -0.0\\nsamples = 1\\nvalue = 0.734')]"
      ]
     },
     "execution_count": 99,
     "metadata": {},
     "output_type": "execute_result"
    },
    {
     "data": {
      "image/png": "[encoded data removed]",
      "text/plain": [
       "<Figure size 432x288 with 1 Axes>"
      ]
     },
     "metadata": {
      "needs_background": "light"
     },
     "output_type": "display_data"
    }
   ],
   "source": [
    "from sklearn import tree\n",
    "tree.plot_tree(reg_model.estimators_[0])"
   ]
  },
  {
   "cell_type": "code",
   "execution_count": 100,
   "id": "1b29727e",
   "metadata": {},
   "outputs": [],
   "source": [
    "df_2018.to_csv('2018_converted.csv', index=False)"
   ]
  },
  {
   "cell_type": "code",
   "execution_count": null,
   "id": "f2ecce61",
   "metadata": {},
   "outputs": [],
   "source": []
  },
  {
   "cell_type": "code",
   "execution_count": null,
   "id": "dad5ce28",
   "metadata": {},
   "outputs": [],
   "source": []
  },
  {
   "cell_type": "code",
   "execution_count": null,
   "id": "650cb8c2",
   "metadata": {},
   "outputs": [],
   "source": []
  },
  {
   "cell_type": "code",
   "execution_count": null,
   "id": "e9c73f14",
   "metadata": {},
   "outputs": [],
   "source": []
  }
 ],
 "metadata": {
  "kernelspec": {
   "display_name": "mlenv",
   "language": "python",
   "name": "mlenv"
  },
  "language_info": {
   "codemirror_mode": {
    "name": "ipython",
    "version": 3
   },
   "file_extension": ".py",
   "mimetype": "text/x-python",
   "name": "python",
   "nbconvert_exporter": "python",
   "pygments_lexer": "ipython3",
   "version": "3.7.11"
  }
 },
 "nbformat": 4,
 "nbformat_minor": 5
}
