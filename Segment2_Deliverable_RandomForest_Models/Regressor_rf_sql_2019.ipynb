{
 "cells": [
  {
   "cell_type": "code",
   "execution_count": 32,
   "id": "dff54672",
   "metadata": {},
   "outputs": [],
   "source": [
    "# Initial imports.\n",
    "import pandas as pd\n",
    "import numpy as np\n",
    "from path import Path\n",
    "from sklearn.ensemble import RandomForestRegressor\n",
    "from sklearn.datasets import make_regression\n",
    "from sklearn.preprocessing import StandardScaler\n",
    "from sklearn.model_selection import train_test_split\n",
    "from sklearn.metrics import confusion_matrix, accuracy_score, classification_report\n",
    "from sklearn.tree import export_graphviz\n",
    "import sqlite3"
   ]
  },
  {
   "cell_type": "code",
   "execution_count": 33,
   "id": "7c6b1103",
   "metadata": {},
   "outputs": [],
   "source": [
    "conn = sqlite3.connect('../HomelessData.db')\n",
    "c = conn.cursor()"
   ]
  },
  {
   "cell_type": "code",
   "execution_count": 34,
   "id": "5c042c65",
   "metadata": {},
   "outputs": [
    {
     "data": {
      "text/html": [
       "<div>\n",
       "<style scoped>\n",
       "    .dataframe tbody tr th:only-of-type {\n",
       "        vertical-align: middle;\n",
       "    }\n",
       "\n",
       "    .dataframe tbody tr th {\n",
       "        vertical-align: top;\n",
       "    }\n",
       "\n",
       "    .dataframe thead th {\n",
       "        text-align: right;\n",
       "    }\n",
       "</style>\n",
       "<table border=\"1\" class=\"dataframe\">\n",
       "  <thead>\n",
       "    <tr style=\"text-align: right;\">\n",
       "      <th></th>\n",
       "      <th>Coc</th>\n",
       "      <th>TotalBeds</th>\n",
       "      <th>Emergency</th>\n",
       "      <th>Transitional</th>\n",
       "      <th>SafeHaven</th>\n",
       "      <th>RapidRehousing</th>\n",
       "      <th>PermanentSupportive</th>\n",
       "      <th>PermanentOther</th>\n",
       "      <th>Year</th>\n",
       "      <th>CocYear</th>\n",
       "      <th>TotalHomeless</th>\n",
       "      <th>Unsheltered</th>\n",
       "      <th>Sheltered</th>\n",
       "      <th>Population</th>\n",
       "      <th>Unemployment</th>\n",
       "    </tr>\n",
       "  </thead>\n",
       "  <tbody>\n",
       "    <tr>\n",
       "      <th>0</th>\n",
       "      <td>AK-500</td>\n",
       "      <td>1033</td>\n",
       "      <td>799</td>\n",
       "      <td>234</td>\n",
       "      <td>0</td>\n",
       "      <td>171</td>\n",
       "      <td>601</td>\n",
       "      <td>71</td>\n",
       "      <td>2019</td>\n",
       "      <td>AK-500 2019</td>\n",
       "      <td>1111</td>\n",
       "      <td>97</td>\n",
       "      <td>1014</td>\n",
       "      <td>288000.0</td>\n",
       "      <td>4.400000</td>\n",
       "    </tr>\n",
       "    <tr>\n",
       "      <th>1</th>\n",
       "      <td>AK-501</td>\n",
       "      <td>845</td>\n",
       "      <td>575</td>\n",
       "      <td>270</td>\n",
       "      <td>0</td>\n",
       "      <td>67</td>\n",
       "      <td>386</td>\n",
       "      <td>0</td>\n",
       "      <td>2019</td>\n",
       "      <td>AK-501 2019</td>\n",
       "      <td>796</td>\n",
       "      <td>176</td>\n",
       "      <td>620</td>\n",
       "      <td>425343.0</td>\n",
       "      <td>6.991667</td>\n",
       "    </tr>\n",
       "    <tr>\n",
       "      <th>2</th>\n",
       "      <td>AL-500</td>\n",
       "      <td>827</td>\n",
       "      <td>516</td>\n",
       "      <td>277</td>\n",
       "      <td>34</td>\n",
       "      <td>106</td>\n",
       "      <td>1740</td>\n",
       "      <td>0</td>\n",
       "      <td>2019</td>\n",
       "      <td>AL-500 2019</td>\n",
       "      <td>981</td>\n",
       "      <td>326</td>\n",
       "      <td>655</td>\n",
       "      <td>965787.0</td>\n",
       "      <td>2.600000</td>\n",
       "    </tr>\n",
       "    <tr>\n",
       "      <th>3</th>\n",
       "      <td>AL-501</td>\n",
       "      <td>394</td>\n",
       "      <td>261</td>\n",
       "      <td>133</td>\n",
       "      <td>0</td>\n",
       "      <td>31</td>\n",
       "      <td>240</td>\n",
       "      <td>0</td>\n",
       "      <td>2019</td>\n",
       "      <td>AL-501 2019</td>\n",
       "      <td>505</td>\n",
       "      <td>202</td>\n",
       "      <td>303</td>\n",
       "      <td>636444.0</td>\n",
       "      <td>3.250000</td>\n",
       "    </tr>\n",
       "    <tr>\n",
       "      <th>4</th>\n",
       "      <td>AL-502</td>\n",
       "      <td>189</td>\n",
       "      <td>106</td>\n",
       "      <td>83</td>\n",
       "      <td>0</td>\n",
       "      <td>0</td>\n",
       "      <td>42</td>\n",
       "      <td>8</td>\n",
       "      <td>2019</td>\n",
       "      <td>AL-502 2019</td>\n",
       "      <td>390</td>\n",
       "      <td>201</td>\n",
       "      <td>189</td>\n",
       "      <td>209041.0</td>\n",
       "      <td>3.350000</td>\n",
       "    </tr>\n",
       "  </tbody>\n",
       "</table>\n",
       "</div>"
      ],
      "text/plain": [
       "      Coc  TotalBeds  Emergency  Transitional  SafeHaven  RapidRehousing  \\\n",
       "0  AK-500       1033        799           234          0             171   \n",
       "1  AK-501        845        575           270          0              67   \n",
       "2  AL-500        827        516           277         34             106   \n",
       "3  AL-501        394        261           133          0              31   \n",
       "4  AL-502        189        106            83          0               0   \n",
       "\n",
       "   PermanentSupportive  PermanentOther  Year      CocYear  TotalHomeless  \\\n",
       "0                  601              71  2019  AK-500 2019           1111   \n",
       "1                  386               0  2019  AK-501 2019            796   \n",
       "2                 1740               0  2019  AL-500 2019            981   \n",
       "3                  240               0  2019  AL-501 2019            505   \n",
       "4                   42               8  2019  AL-502 2019            390   \n",
       "\n",
       "   Unsheltered  Sheltered  Population  Unemployment  \n",
       "0           97       1014    288000.0      4.400000  \n",
       "1          176        620    425343.0      6.991667  \n",
       "2          326        655    965787.0      2.600000  \n",
       "3          202        303    636444.0      3.250000  \n",
       "4          201        189    209041.0      3.350000  "
      ]
     },
     "execution_count": 34,
     "metadata": {},
     "output_type": "execute_result"
    }
   ],
   "source": [
    "# Loading data\n",
    "df_2019 = pd.read_sql(\"SELECT * FROM CocData WHERE year = 2019\", con = conn)\n",
    "\n",
    "df_2019.head()"
   ]
  },
  {
   "cell_type": "code",
   "execution_count": 35,
   "id": "8baead76",
   "metadata": {},
   "outputs": [],
   "source": [
    "df_2019=df_2019.drop(['TotalHomeless', 'Sheltered', 'TotalBeds', 'CocYear', 'Coc', 'Year'], axis=1)"
   ]
  },
  {
   "cell_type": "code",
   "execution_count": 36,
   "id": "05f99e9a",
   "metadata": {},
   "outputs": [],
   "source": [
    "#df_2019['Unsheltered_div_pop'] = df_2019['Unsheltered'] / df_2019['Population']"
   ]
  },
  {
   "cell_type": "code",
   "execution_count": 37,
   "id": "02696633",
   "metadata": {},
   "outputs": [],
   "source": [
    "#df_2019.head()"
   ]
  },
  {
   "cell_type": "code",
   "execution_count": 38,
   "id": "8e6d8576",
   "metadata": {},
   "outputs": [],
   "source": [
    "df_2019['Unsheltered_perc_pop'] = (df_2019['Unsheltered'] / df_2019['Population']) *100"
   ]
  },
  {
   "cell_type": "code",
   "execution_count": 39,
   "id": "f60649d7",
   "metadata": {},
   "outputs": [
    {
     "data": {
      "text/html": [
       "<div>\n",
       "<style scoped>\n",
       "    .dataframe tbody tr th:only-of-type {\n",
       "        vertical-align: middle;\n",
       "    }\n",
       "\n",
       "    .dataframe tbody tr th {\n",
       "        vertical-align: top;\n",
       "    }\n",
       "\n",
       "    .dataframe thead th {\n",
       "        text-align: right;\n",
       "    }\n",
       "</style>\n",
       "<table border=\"1\" class=\"dataframe\">\n",
       "  <thead>\n",
       "    <tr style=\"text-align: right;\">\n",
       "      <th></th>\n",
       "      <th>Emergency</th>\n",
       "      <th>Transitional</th>\n",
       "      <th>SafeHaven</th>\n",
       "      <th>RapidRehousing</th>\n",
       "      <th>PermanentSupportive</th>\n",
       "      <th>PermanentOther</th>\n",
       "      <th>Unsheltered</th>\n",
       "      <th>Population</th>\n",
       "      <th>Unemployment</th>\n",
       "      <th>Unsheltered_perc_pop</th>\n",
       "    </tr>\n",
       "  </thead>\n",
       "  <tbody>\n",
       "    <tr>\n",
       "      <th>0</th>\n",
       "      <td>799</td>\n",
       "      <td>234</td>\n",
       "      <td>0</td>\n",
       "      <td>171</td>\n",
       "      <td>601</td>\n",
       "      <td>71</td>\n",
       "      <td>97</td>\n",
       "      <td>288000.0</td>\n",
       "      <td>4.400000</td>\n",
       "      <td>0.033681</td>\n",
       "    </tr>\n",
       "    <tr>\n",
       "      <th>1</th>\n",
       "      <td>575</td>\n",
       "      <td>270</td>\n",
       "      <td>0</td>\n",
       "      <td>67</td>\n",
       "      <td>386</td>\n",
       "      <td>0</td>\n",
       "      <td>176</td>\n",
       "      <td>425343.0</td>\n",
       "      <td>6.991667</td>\n",
       "      <td>0.041378</td>\n",
       "    </tr>\n",
       "    <tr>\n",
       "      <th>2</th>\n",
       "      <td>516</td>\n",
       "      <td>277</td>\n",
       "      <td>34</td>\n",
       "      <td>106</td>\n",
       "      <td>1740</td>\n",
       "      <td>0</td>\n",
       "      <td>326</td>\n",
       "      <td>965787.0</td>\n",
       "      <td>2.600000</td>\n",
       "      <td>0.033755</td>\n",
       "    </tr>\n",
       "    <tr>\n",
       "      <th>3</th>\n",
       "      <td>261</td>\n",
       "      <td>133</td>\n",
       "      <td>0</td>\n",
       "      <td>31</td>\n",
       "      <td>240</td>\n",
       "      <td>0</td>\n",
       "      <td>202</td>\n",
       "      <td>636444.0</td>\n",
       "      <td>3.250000</td>\n",
       "      <td>0.031739</td>\n",
       "    </tr>\n",
       "    <tr>\n",
       "      <th>4</th>\n",
       "      <td>106</td>\n",
       "      <td>83</td>\n",
       "      <td>0</td>\n",
       "      <td>0</td>\n",
       "      <td>42</td>\n",
       "      <td>8</td>\n",
       "      <td>201</td>\n",
       "      <td>209041.0</td>\n",
       "      <td>3.350000</td>\n",
       "      <td>0.096153</td>\n",
       "    </tr>\n",
       "  </tbody>\n",
       "</table>\n",
       "</div>"
      ],
      "text/plain": [
       "   Emergency  Transitional  SafeHaven  RapidRehousing  PermanentSupportive  \\\n",
       "0        799           234          0             171                  601   \n",
       "1        575           270          0              67                  386   \n",
       "2        516           277         34             106                 1740   \n",
       "3        261           133          0              31                  240   \n",
       "4        106            83          0               0                   42   \n",
       "\n",
       "   PermanentOther  Unsheltered  Population  Unemployment  Unsheltered_perc_pop  \n",
       "0              71           97    288000.0      4.400000              0.033681  \n",
       "1               0          176    425343.0      6.991667              0.041378  \n",
       "2               0          326    965787.0      2.600000              0.033755  \n",
       "3               0          202    636444.0      3.250000              0.031739  \n",
       "4               8          201    209041.0      3.350000              0.096153  "
      ]
     },
     "execution_count": 39,
     "metadata": {},
     "output_type": "execute_result"
    }
   ],
   "source": [
    "df_2019.head()"
   ]
  },
  {
   "cell_type": "code",
   "execution_count": 40,
   "id": "80f97ad6",
   "metadata": {},
   "outputs": [],
   "source": [
    "df_2019['ES_beds_perc_pop'] = (df_2019['Emergency'] / df_2019['Population']) *100"
   ]
  },
  {
   "cell_type": "code",
   "execution_count": 41,
   "id": "b5684549",
   "metadata": {},
   "outputs": [],
   "source": [
    "df_2019['TS_beds_perc_pop'] = (df_2019['Transitional'] / df_2019['Population']) *100"
   ]
  },
  {
   "cell_type": "code",
   "execution_count": 42,
   "id": "c8e1219f",
   "metadata": {},
   "outputs": [],
   "source": [
    "df_2019['SH_beds_perc_pop'] = (df_2019['SafeHaven'] / df_2019['Population']) *100"
   ]
  },
  {
   "cell_type": "code",
   "execution_count": 43,
   "id": "7e94d12a",
   "metadata": {},
   "outputs": [],
   "source": [
    "df_2019['RRH_units_perc_pop'] = (df_2019['RapidRehousing'] / df_2019['Population']) *100"
   ]
  },
  {
   "cell_type": "code",
   "execution_count": 44,
   "id": "400be09c",
   "metadata": {},
   "outputs": [],
   "source": [
    "df_2019['RRH_units_perc_pop'] = (df_2019['RapidRehousing'] / df_2019['Population']) *100"
   ]
  },
  {
   "cell_type": "code",
   "execution_count": 45,
   "id": "ca148967",
   "metadata": {},
   "outputs": [],
   "source": [
    "df_2019['PSH_units_perc_pop'] = (df_2019['PermanentSupportive'] / df_2019['Population']) *100"
   ]
  },
  {
   "cell_type": "code",
   "execution_count": 46,
   "id": "5977410d",
   "metadata": {},
   "outputs": [],
   "source": [
    "df_2019['OPH_units_perc_pop'] = (df_2019['PermanentOther'] / df_2019['Population']) *100"
   ]
  },
  {
   "cell_type": "code",
   "execution_count": 47,
   "id": "748c71c5",
   "metadata": {},
   "outputs": [
    {
     "data": {
      "text/html": [
       "<div>\n",
       "<style scoped>\n",
       "    .dataframe tbody tr th:only-of-type {\n",
       "        vertical-align: middle;\n",
       "    }\n",
       "\n",
       "    .dataframe tbody tr th {\n",
       "        vertical-align: top;\n",
       "    }\n",
       "\n",
       "    .dataframe thead th {\n",
       "        text-align: right;\n",
       "    }\n",
       "</style>\n",
       "<table border=\"1\" class=\"dataframe\">\n",
       "  <thead>\n",
       "    <tr style=\"text-align: right;\">\n",
       "      <th></th>\n",
       "      <th>Emergency</th>\n",
       "      <th>Transitional</th>\n",
       "      <th>SafeHaven</th>\n",
       "      <th>RapidRehousing</th>\n",
       "      <th>PermanentSupportive</th>\n",
       "      <th>PermanentOther</th>\n",
       "      <th>Unsheltered</th>\n",
       "      <th>Population</th>\n",
       "      <th>Unemployment</th>\n",
       "      <th>Unsheltered_perc_pop</th>\n",
       "      <th>ES_beds_perc_pop</th>\n",
       "      <th>TS_beds_perc_pop</th>\n",
       "      <th>SH_beds_perc_pop</th>\n",
       "      <th>RRH_units_perc_pop</th>\n",
       "      <th>PSH_units_perc_pop</th>\n",
       "      <th>OPH_units_perc_pop</th>\n",
       "    </tr>\n",
       "  </thead>\n",
       "  <tbody>\n",
       "    <tr>\n",
       "      <th>0</th>\n",
       "      <td>799</td>\n",
       "      <td>234</td>\n",
       "      <td>0</td>\n",
       "      <td>171</td>\n",
       "      <td>601</td>\n",
       "      <td>71</td>\n",
       "      <td>97</td>\n",
       "      <td>288000.0</td>\n",
       "      <td>4.400000</td>\n",
       "      <td>0.033681</td>\n",
       "      <td>0.277431</td>\n",
       "      <td>0.081250</td>\n",
       "      <td>0.00000</td>\n",
       "      <td>0.059375</td>\n",
       "      <td>0.208681</td>\n",
       "      <td>0.024653</td>\n",
       "    </tr>\n",
       "    <tr>\n",
       "      <th>1</th>\n",
       "      <td>575</td>\n",
       "      <td>270</td>\n",
       "      <td>0</td>\n",
       "      <td>67</td>\n",
       "      <td>386</td>\n",
       "      <td>0</td>\n",
       "      <td>176</td>\n",
       "      <td>425343.0</td>\n",
       "      <td>6.991667</td>\n",
       "      <td>0.041378</td>\n",
       "      <td>0.135185</td>\n",
       "      <td>0.063478</td>\n",
       "      <td>0.00000</td>\n",
       "      <td>0.015752</td>\n",
       "      <td>0.090750</td>\n",
       "      <td>0.000000</td>\n",
       "    </tr>\n",
       "    <tr>\n",
       "      <th>2</th>\n",
       "      <td>516</td>\n",
       "      <td>277</td>\n",
       "      <td>34</td>\n",
       "      <td>106</td>\n",
       "      <td>1740</td>\n",
       "      <td>0</td>\n",
       "      <td>326</td>\n",
       "      <td>965787.0</td>\n",
       "      <td>2.600000</td>\n",
       "      <td>0.033755</td>\n",
       "      <td>0.053428</td>\n",
       "      <td>0.028681</td>\n",
       "      <td>0.00352</td>\n",
       "      <td>0.010976</td>\n",
       "      <td>0.180164</td>\n",
       "      <td>0.000000</td>\n",
       "    </tr>\n",
       "    <tr>\n",
       "      <th>3</th>\n",
       "      <td>261</td>\n",
       "      <td>133</td>\n",
       "      <td>0</td>\n",
       "      <td>31</td>\n",
       "      <td>240</td>\n",
       "      <td>0</td>\n",
       "      <td>202</td>\n",
       "      <td>636444.0</td>\n",
       "      <td>3.250000</td>\n",
       "      <td>0.031739</td>\n",
       "      <td>0.041009</td>\n",
       "      <td>0.020897</td>\n",
       "      <td>0.00000</td>\n",
       "      <td>0.004871</td>\n",
       "      <td>0.037710</td>\n",
       "      <td>0.000000</td>\n",
       "    </tr>\n",
       "    <tr>\n",
       "      <th>4</th>\n",
       "      <td>106</td>\n",
       "      <td>83</td>\n",
       "      <td>0</td>\n",
       "      <td>0</td>\n",
       "      <td>42</td>\n",
       "      <td>8</td>\n",
       "      <td>201</td>\n",
       "      <td>209041.0</td>\n",
       "      <td>3.350000</td>\n",
       "      <td>0.096153</td>\n",
       "      <td>0.050708</td>\n",
       "      <td>0.039705</td>\n",
       "      <td>0.00000</td>\n",
       "      <td>0.000000</td>\n",
       "      <td>0.020092</td>\n",
       "      <td>0.003827</td>\n",
       "    </tr>\n",
       "  </tbody>\n",
       "</table>\n",
       "</div>"
      ],
      "text/plain": [
       "   Emergency  Transitional  SafeHaven  RapidRehousing  PermanentSupportive  \\\n",
       "0        799           234          0             171                  601   \n",
       "1        575           270          0              67                  386   \n",
       "2        516           277         34             106                 1740   \n",
       "3        261           133          0              31                  240   \n",
       "4        106            83          0               0                   42   \n",
       "\n",
       "   PermanentOther  Unsheltered  Population  Unemployment  \\\n",
       "0              71           97    288000.0      4.400000   \n",
       "1               0          176    425343.0      6.991667   \n",
       "2               0          326    965787.0      2.600000   \n",
       "3               0          202    636444.0      3.250000   \n",
       "4               8          201    209041.0      3.350000   \n",
       "\n",
       "   Unsheltered_perc_pop  ES_beds_perc_pop  TS_beds_perc_pop  SH_beds_perc_pop  \\\n",
       "0              0.033681          0.277431          0.081250           0.00000   \n",
       "1              0.041378          0.135185          0.063478           0.00000   \n",
       "2              0.033755          0.053428          0.028681           0.00352   \n",
       "3              0.031739          0.041009          0.020897           0.00000   \n",
       "4              0.096153          0.050708          0.039705           0.00000   \n",
       "\n",
       "   RRH_units_perc_pop  PSH_units_perc_pop  OPH_units_perc_pop  \n",
       "0            0.059375            0.208681            0.024653  \n",
       "1            0.015752            0.090750            0.000000  \n",
       "2            0.010976            0.180164            0.000000  \n",
       "3            0.004871            0.037710            0.000000  \n",
       "4            0.000000            0.020092            0.003827  "
      ]
     },
     "execution_count": 47,
     "metadata": {},
     "output_type": "execute_result"
    }
   ],
   "source": [
    "df_2019.head()"
   ]
  },
  {
   "cell_type": "code",
   "execution_count": 48,
   "id": "034fdc02",
   "metadata": {},
   "outputs": [],
   "source": [
    "df_2019=df_2019.drop(['Emergency', 'Transitional', 'SafeHaven', 'RapidRehousing', 'PermanentSupportive', 'PermanentOther', 'Unsheltered'], axis=1)"
   ]
  },
  {
   "cell_type": "code",
   "execution_count": 49,
   "id": "e82f9ad5",
   "metadata": {},
   "outputs": [
    {
     "name": "stdout",
     "output_type": "stream",
     "text": [
      "<class 'pandas.core.frame.DataFrame'>\n",
      "RangeIndex: 368 entries, 0 to 367\n",
      "Data columns (total 9 columns):\n",
      " #   Column                Non-Null Count  Dtype  \n",
      "---  ------                --------------  -----  \n",
      " 0   Population            368 non-null    float64\n",
      " 1   Unemployment          368 non-null    float64\n",
      " 2   Unsheltered_perc_pop  368 non-null    float64\n",
      " 3   ES_beds_perc_pop      368 non-null    float64\n",
      " 4   TS_beds_perc_pop      368 non-null    float64\n",
      " 5   SH_beds_perc_pop      368 non-null    float64\n",
      " 6   RRH_units_perc_pop    368 non-null    float64\n",
      " 7   PSH_units_perc_pop    368 non-null    float64\n",
      " 8   OPH_units_perc_pop    368 non-null    float64\n",
      "dtypes: float64(9)\n",
      "memory usage: 26.0 KB\n"
     ]
    }
   ],
   "source": [
    "df_2019.info()"
   ]
  },
  {
   "cell_type": "code",
   "execution_count": null,
   "id": "a5d62f14",
   "metadata": {},
   "outputs": [],
   "source": []
  },
  {
   "cell_type": "code",
   "execution_count": 50,
   "id": "34027fd1",
   "metadata": {},
   "outputs": [
    {
     "data": {
      "text/html": [
       "<div>\n",
       "<style scoped>\n",
       "    .dataframe tbody tr th:only-of-type {\n",
       "        vertical-align: middle;\n",
       "    }\n",
       "\n",
       "    .dataframe tbody tr th {\n",
       "        vertical-align: top;\n",
       "    }\n",
       "\n",
       "    .dataframe thead th {\n",
       "        text-align: right;\n",
       "    }\n",
       "</style>\n",
       "<table border=\"1\" class=\"dataframe\">\n",
       "  <thead>\n",
       "    <tr style=\"text-align: right;\">\n",
       "      <th></th>\n",
       "      <th>Population</th>\n",
       "      <th>Unemployment</th>\n",
       "      <th>Unsheltered_perc_pop</th>\n",
       "      <th>ES_beds_perc_pop</th>\n",
       "      <th>TS_beds_perc_pop</th>\n",
       "      <th>SH_beds_perc_pop</th>\n",
       "      <th>RRH_units_perc_pop</th>\n",
       "      <th>PSH_units_perc_pop</th>\n",
       "      <th>OPH_units_perc_pop</th>\n",
       "    </tr>\n",
       "  </thead>\n",
       "  <tbody>\n",
       "    <tr>\n",
       "      <th>0</th>\n",
       "      <td>288000.0</td>\n",
       "      <td>4.400000</td>\n",
       "      <td>0.033681</td>\n",
       "      <td>0.277431</td>\n",
       "      <td>0.081250</td>\n",
       "      <td>0.00000</td>\n",
       "      <td>0.059375</td>\n",
       "      <td>0.208681</td>\n",
       "      <td>0.024653</td>\n",
       "    </tr>\n",
       "    <tr>\n",
       "      <th>1</th>\n",
       "      <td>425343.0</td>\n",
       "      <td>6.991667</td>\n",
       "      <td>0.041378</td>\n",
       "      <td>0.135185</td>\n",
       "      <td>0.063478</td>\n",
       "      <td>0.00000</td>\n",
       "      <td>0.015752</td>\n",
       "      <td>0.090750</td>\n",
       "      <td>0.000000</td>\n",
       "    </tr>\n",
       "    <tr>\n",
       "      <th>2</th>\n",
       "      <td>965787.0</td>\n",
       "      <td>2.600000</td>\n",
       "      <td>0.033755</td>\n",
       "      <td>0.053428</td>\n",
       "      <td>0.028681</td>\n",
       "      <td>0.00352</td>\n",
       "      <td>0.010976</td>\n",
       "      <td>0.180164</td>\n",
       "      <td>0.000000</td>\n",
       "    </tr>\n",
       "    <tr>\n",
       "      <th>3</th>\n",
       "      <td>636444.0</td>\n",
       "      <td>3.250000</td>\n",
       "      <td>0.031739</td>\n",
       "      <td>0.041009</td>\n",
       "      <td>0.020897</td>\n",
       "      <td>0.00000</td>\n",
       "      <td>0.004871</td>\n",
       "      <td>0.037710</td>\n",
       "      <td>0.000000</td>\n",
       "    </tr>\n",
       "    <tr>\n",
       "      <th>4</th>\n",
       "      <td>209041.0</td>\n",
       "      <td>3.350000</td>\n",
       "      <td>0.096153</td>\n",
       "      <td>0.050708</td>\n",
       "      <td>0.039705</td>\n",
       "      <td>0.00000</td>\n",
       "      <td>0.000000</td>\n",
       "      <td>0.020092</td>\n",
       "      <td>0.003827</td>\n",
       "    </tr>\n",
       "  </tbody>\n",
       "</table>\n",
       "</div>"
      ],
      "text/plain": [
       "   Population  Unemployment  Unsheltered_perc_pop  ES_beds_perc_pop  \\\n",
       "0    288000.0      4.400000              0.033681          0.277431   \n",
       "1    425343.0      6.991667              0.041378          0.135185   \n",
       "2    965787.0      2.600000              0.033755          0.053428   \n",
       "3    636444.0      3.250000              0.031739          0.041009   \n",
       "4    209041.0      3.350000              0.096153          0.050708   \n",
       "\n",
       "   TS_beds_perc_pop  SH_beds_perc_pop  RRH_units_perc_pop  PSH_units_perc_pop  \\\n",
       "0          0.081250           0.00000            0.059375            0.208681   \n",
       "1          0.063478           0.00000            0.015752            0.090750   \n",
       "2          0.028681           0.00352            0.010976            0.180164   \n",
       "3          0.020897           0.00000            0.004871            0.037710   \n",
       "4          0.039705           0.00000            0.000000            0.020092   \n",
       "\n",
       "   OPH_units_perc_pop  \n",
       "0            0.024653  \n",
       "1            0.000000  \n",
       "2            0.000000  \n",
       "3            0.000000  \n",
       "4            0.003827  "
      ]
     },
     "execution_count": 50,
     "metadata": {},
     "output_type": "execute_result"
    }
   ],
   "source": [
    "df_2019.head()"
   ]
  },
  {
   "cell_type": "code",
   "execution_count": null,
   "id": "c93e107b",
   "metadata": {},
   "outputs": [],
   "source": []
  },
  {
   "cell_type": "code",
   "execution_count": 51,
   "id": "b3b8c198",
   "metadata": {},
   "outputs": [
    {
     "data": {
      "text/html": [
       "<div>\n",
       "<style scoped>\n",
       "    .dataframe tbody tr th:only-of-type {\n",
       "        vertical-align: middle;\n",
       "    }\n",
       "\n",
       "    .dataframe tbody tr th {\n",
       "        vertical-align: top;\n",
       "    }\n",
       "\n",
       "    .dataframe thead th {\n",
       "        text-align: right;\n",
       "    }\n",
       "</style>\n",
       "<table border=\"1\" class=\"dataframe\">\n",
       "  <thead>\n",
       "    <tr style=\"text-align: right;\">\n",
       "      <th></th>\n",
       "      <th>Population</th>\n",
       "      <th>Unemployment</th>\n",
       "      <th>ES_beds_perc_pop</th>\n",
       "      <th>TS_beds_perc_pop</th>\n",
       "      <th>SH_beds_perc_pop</th>\n",
       "      <th>RRH_units_perc_pop</th>\n",
       "      <th>PSH_units_perc_pop</th>\n",
       "      <th>OPH_units_perc_pop</th>\n",
       "    </tr>\n",
       "  </thead>\n",
       "  <tbody>\n",
       "    <tr>\n",
       "      <th>0</th>\n",
       "      <td>288000.0</td>\n",
       "      <td>4.400000</td>\n",
       "      <td>0.277431</td>\n",
       "      <td>0.081250</td>\n",
       "      <td>0.00000</td>\n",
       "      <td>0.059375</td>\n",
       "      <td>0.208681</td>\n",
       "      <td>0.024653</td>\n",
       "    </tr>\n",
       "    <tr>\n",
       "      <th>1</th>\n",
       "      <td>425343.0</td>\n",
       "      <td>6.991667</td>\n",
       "      <td>0.135185</td>\n",
       "      <td>0.063478</td>\n",
       "      <td>0.00000</td>\n",
       "      <td>0.015752</td>\n",
       "      <td>0.090750</td>\n",
       "      <td>0.000000</td>\n",
       "    </tr>\n",
       "    <tr>\n",
       "      <th>2</th>\n",
       "      <td>965787.0</td>\n",
       "      <td>2.600000</td>\n",
       "      <td>0.053428</td>\n",
       "      <td>0.028681</td>\n",
       "      <td>0.00352</td>\n",
       "      <td>0.010976</td>\n",
       "      <td>0.180164</td>\n",
       "      <td>0.000000</td>\n",
       "    </tr>\n",
       "    <tr>\n",
       "      <th>3</th>\n",
       "      <td>636444.0</td>\n",
       "      <td>3.250000</td>\n",
       "      <td>0.041009</td>\n",
       "      <td>0.020897</td>\n",
       "      <td>0.00000</td>\n",
       "      <td>0.004871</td>\n",
       "      <td>0.037710</td>\n",
       "      <td>0.000000</td>\n",
       "    </tr>\n",
       "    <tr>\n",
       "      <th>4</th>\n",
       "      <td>209041.0</td>\n",
       "      <td>3.350000</td>\n",
       "      <td>0.050708</td>\n",
       "      <td>0.039705</td>\n",
       "      <td>0.00000</td>\n",
       "      <td>0.000000</td>\n",
       "      <td>0.020092</td>\n",
       "      <td>0.003827</td>\n",
       "    </tr>\n",
       "  </tbody>\n",
       "</table>\n",
       "</div>"
      ],
      "text/plain": [
       "   Population  Unemployment  ES_beds_perc_pop  TS_beds_perc_pop  \\\n",
       "0    288000.0      4.400000          0.277431          0.081250   \n",
       "1    425343.0      6.991667          0.135185          0.063478   \n",
       "2    965787.0      2.600000          0.053428          0.028681   \n",
       "3    636444.0      3.250000          0.041009          0.020897   \n",
       "4    209041.0      3.350000          0.050708          0.039705   \n",
       "\n",
       "   SH_beds_perc_pop  RRH_units_perc_pop  PSH_units_perc_pop  \\\n",
       "0           0.00000            0.059375            0.208681   \n",
       "1           0.00000            0.015752            0.090750   \n",
       "2           0.00352            0.010976            0.180164   \n",
       "3           0.00000            0.004871            0.037710   \n",
       "4           0.00000            0.000000            0.020092   \n",
       "\n",
       "   OPH_units_perc_pop  \n",
       "0            0.024653  \n",
       "1            0.000000  \n",
       "2            0.000000  \n",
       "3            0.000000  \n",
       "4            0.003827  "
      ]
     },
     "execution_count": 51,
     "metadata": {},
     "output_type": "execute_result"
    }
   ],
   "source": [
    "# Define the features set.\n",
    "X = df_2019.copy()\n",
    "X = X.drop(\"Unsheltered_perc_pop\", axis=1)\n",
    "X.head()"
   ]
  },
  {
   "cell_type": "code",
   "execution_count": 52,
   "id": "c203db81",
   "metadata": {},
   "outputs": [
    {
     "data": {
      "text/plain": [
       "array([0.03368056, 0.04137837, 0.03375485, 0.03173885, 0.09615339])"
      ]
     },
     "execution_count": 52,
     "metadata": {},
     "output_type": "execute_result"
    }
   ],
   "source": [
    "# Define the target set.\n",
    "y = df_2019[\"Unsheltered_perc_pop\"].ravel()\n",
    "y[:5]"
   ]
  },
  {
   "cell_type": "code",
   "execution_count": 53,
   "id": "9b1c8c6c",
   "metadata": {},
   "outputs": [],
   "source": [
    "# Splitting into Train and Test sets.\n",
    "X_train, X_test, y_train, y_test = train_test_split(X, y, random_state=78)"
   ]
  },
  {
   "cell_type": "code",
   "execution_count": 54,
   "id": "01359db9",
   "metadata": {},
   "outputs": [],
   "source": [
    "regr = RandomForestRegressor(max_depth=3, random_state=0)"
   ]
  },
  {
   "cell_type": "code",
   "execution_count": 55,
   "id": "ddbb7812",
   "metadata": {},
   "outputs": [],
   "source": [
    "reg_model = regr.fit(X, y)"
   ]
  },
  {
   "cell_type": "code",
   "execution_count": 56,
   "id": "dd6ec966",
   "metadata": {},
   "outputs": [
    {
     "data": {
      "text/plain": [
       "array([0.13044041, 0.1161672 , 0.06297293, 0.35691006, 0.00420326,\n",
       "       0.21048371, 0.10083038, 0.01799206])"
      ]
     },
     "execution_count": 56,
     "metadata": {},
     "output_type": "execute_result"
    }
   ],
   "source": [
    "importances = reg_model.feature_importances_\n",
    "importances"
   ]
  },
  {
   "cell_type": "code",
   "execution_count": 57,
   "id": "eff49320",
   "metadata": {},
   "outputs": [
    {
     "data": {
      "text/plain": [
       "[(0.35691005792382247, 'TS_beds_perc_pop'),\n",
       " (0.2104837062244813, 'RRH_units_perc_pop'),\n",
       " (0.1304404135186838, 'Population'),\n",
       " (0.11616720081165587, 'Unemployment'),\n",
       " (0.10083037920389261, 'PSH_units_perc_pop'),\n",
       " (0.06297292698040392, 'ES_beds_perc_pop'),\n",
       " (0.017992058998664788, 'OPH_units_perc_pop'),\n",
       " (0.0042032563383952665, 'SH_beds_perc_pop')]"
      ]
     },
     "execution_count": 57,
     "metadata": {},
     "output_type": "execute_result"
    }
   ],
   "source": [
    "# We can sort the features by their importance.\n",
    "sorted(zip(reg_model.feature_importances_, X.columns), reverse=True)"
   ]
  },
  {
   "cell_type": "code",
   "execution_count": 58,
   "id": "7e87f7c3",
   "metadata": {},
   "outputs": [],
   "source": [
    "%matplotlib inline\n",
    "from matplotlib import pyplot as plt"
   ]
  },
  {
   "cell_type": "code",
   "execution_count": 59,
   "id": "eaf7d067",
   "metadata": {},
   "outputs": [
    {
     "data": {
      "image/png": "[encoded data removed]",
      "text/plain": [
       "<Figure size 720x1440 with 1 Axes>"
      ]
     },
     "metadata": {
      "needs_background": "light"
     },
     "output_type": "display_data"
    }
   ],
   "source": [
    "features = sorted(zip(X.columns, reg_model.feature_importances_), key = lambda x: x[1])\n",
    "cols = [f[0] for f in features]\n",
    "width = [f[1] for f in features]\n",
    "\n",
    "fig, ax = plt.subplots()\n",
    "\n",
    "fig.set_size_inches(10,20)\n",
    "plt.margins(y=0.001)\n",
    "\n",
    "ax.barh(y=cols, width=width)\n",
    "\n",
    "plt.show()"
   ]
  },
  {
   "cell_type": "code",
   "execution_count": 60,
   "id": "beff0f06",
   "metadata": {},
   "outputs": [],
   "source": [
    "estimator = reg_model.estimators_[5]"
   ]
  },
  {
   "cell_type": "code",
   "execution_count": 61,
   "id": "db6b37ef",
   "metadata": {},
   "outputs": [
    {
     "data": {
      "text/plain": [
       "[Text(0.5416666666666666, 0.875, 'X[5] <= 0.068\\nsquared_error = 0.013\\nsamples = 232\\nvalue = 0.06'),\n",
       " Text(0.3333333333333333, 0.625, 'X[3] <= 0.088\\nsquared_error = 0.005\\nsamples = 202\\nvalue = 0.044'),\n",
       " Text(0.16666666666666666, 0.375, 'X[6] <= 0.115\\nsquared_error = 0.004\\nsamples = 188\\nvalue = 0.038'),\n",
       " Text(0.08333333333333333, 0.125, 'squared_error = 0.001\\nsamples = 149\\nvalue = 0.028'),\n",
       " Text(0.25, 0.125, 'squared_error = 0.012\\nsamples = 39\\nvalue = 0.07'),\n",
       " Text(0.5, 0.375, 'X[1] <= 5.2\\nsquared_error = 0.009\\nsamples = 14\\nvalue = 0.122'),\n",
       " Text(0.4166666666666667, 0.125, 'squared_error = 0.005\\nsamples = 12\\nvalue = 0.098'),\n",
       " Text(0.5833333333333334, 0.125, 'squared_error = 0.006\\nsamples = 2\\nvalue = 0.295'),\n",
       " Text(0.75, 0.625, 'X[5] <= 0.069\\nsquared_error = 0.053\\nsamples = 30\\nvalue = 0.18'),\n",
       " Text(0.6666666666666666, 0.375, 'squared_error = 0.0\\nsamples = 1\\nvalue = 1.034'),\n",
       " Text(0.8333333333333334, 0.375, 'X[3] <= 0.065\\nsquared_error = 0.037\\nsamples = 29\\nvalue = 0.16'),\n",
       " Text(0.75, 0.125, 'squared_error = 0.017\\nsamples = 20\\nvalue = 0.103'),\n",
       " Text(0.9166666666666666, 0.125, 'squared_error = 0.056\\nsamples = 9\\nvalue = 0.342')]"
      ]
     },
     "execution_count": 61,
     "metadata": {},
     "output_type": "execute_result"
    },
    {
     "data": {
      "image/png": "[encoded data removed]",
      "text/plain": [
       "<Figure size 432x288 with 1 Axes>"
      ]
     },
     "metadata": {
      "needs_background": "light"
     },
     "output_type": "display_data"
    }
   ],
   "source": [
    "from sklearn import tree\n",
    "tree.plot_tree(reg_model.estimators_[0])"
   ]
  },
  {
   "cell_type": "code",
   "execution_count": 62,
   "id": "1b29727e",
   "metadata": {},
   "outputs": [],
   "source": [
    "df_2019.to_csv('2019_converted.csv', index=False)"
   ]
  },
  {
   "cell_type": "code",
   "execution_count": null,
   "id": "f2ecce61",
   "metadata": {},
   "outputs": [],
   "source": []
  },
  {
   "cell_type": "code",
   "execution_count": null,
   "id": "dad5ce28",
   "metadata": {},
   "outputs": [],
   "source": []
  },
  {
   "cell_type": "code",
   "execution_count": null,
   "id": "650cb8c2",
   "metadata": {},
   "outputs": [],
   "source": []
  },
  {
   "cell_type": "code",
   "execution_count": null,
   "id": "e9c73f14",
   "metadata": {},
   "outputs": [],
   "source": []
  }
 ],
 "metadata": {
  "kernelspec": {
   "display_name": "mlenv",
   "language": "python",
   "name": "mlenv"
  },
  "language_info": {
   "codemirror_mode": {
    "name": "ipython",
    "version": 3
   },
   "file_extension": ".py",
   "mimetype": "text/x-python",
   "name": "python",
   "nbconvert_exporter": "python",
   "pygments_lexer": "ipython3",
   "version": "3.7.11"
  }
 },
 "nbformat": 4,
 "nbformat_minor": 5
}
