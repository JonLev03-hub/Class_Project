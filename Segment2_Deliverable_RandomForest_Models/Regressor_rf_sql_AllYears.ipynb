{
 "cells": [
  {
   "cell_type": "code",
   "execution_count": 12,
   "id": "dff54672",
   "metadata": {},
   "outputs": [],
   "source": [
    "# Initial imports.\n",
    "import pandas as pd\n",
    "import numpy as np\n",
    "from path import Path\n",
    "from sklearn.ensemble import RandomForestRegressor\n",
    "from sklearn.datasets import make_regression\n",
    "from sklearn.preprocessing import StandardScaler\n",
    "from sklearn.model_selection import train_test_split\n",
    "from sklearn.metrics import confusion_matrix, accuracy_score, classification_report\n",
    "from sklearn.tree import export_graphviz\n",
    "import sqlite3"
   ]
  },
  {
   "cell_type": "code",
   "execution_count": 13,
   "id": "7c6b1103",
   "metadata": {},
   "outputs": [],
   "source": [
    "conn = sqlite3.connect('../HomelessData.db')\n",
    "c = conn.cursor()"
   ]
  },
  {
   "cell_type": "code",
   "execution_count": 14,
   "id": "5c042c65",
   "metadata": {},
   "outputs": [
    {
     "data": {
      "text/html": [
       "<div>\n",
       "<style scoped>\n",
       "    .dataframe tbody tr th:only-of-type {\n",
       "        vertical-align: middle;\n",
       "    }\n",
       "\n",
       "    .dataframe tbody tr th {\n",
       "        vertical-align: top;\n",
       "    }\n",
       "\n",
       "    .dataframe thead th {\n",
       "        text-align: right;\n",
       "    }\n",
       "</style>\n",
       "<table border=\"1\" class=\"dataframe\">\n",
       "  <thead>\n",
       "    <tr style=\"text-align: right;\">\n",
       "      <th></th>\n",
       "      <th>Coc</th>\n",
       "      <th>TotalBeds</th>\n",
       "      <th>Emergency</th>\n",
       "      <th>Transitional</th>\n",
       "      <th>SafeHaven</th>\n",
       "      <th>RapidRehousing</th>\n",
       "      <th>PermanentSupportive</th>\n",
       "      <th>PermanentOther</th>\n",
       "      <th>Year</th>\n",
       "      <th>CocYear</th>\n",
       "      <th>TotalHomeless</th>\n",
       "      <th>Unsheltered</th>\n",
       "      <th>Sheltered</th>\n",
       "      <th>Population</th>\n",
       "      <th>Unemployment</th>\n",
       "    </tr>\n",
       "  </thead>\n",
       "  <tbody>\n",
       "    <tr>\n",
       "      <th>0</th>\n",
       "      <td>AK-500</td>\n",
       "      <td>1033</td>\n",
       "      <td>799</td>\n",
       "      <td>234</td>\n",
       "      <td>0</td>\n",
       "      <td>171</td>\n",
       "      <td>601</td>\n",
       "      <td>71</td>\n",
       "      <td>2019</td>\n",
       "      <td>AK-500 2019</td>\n",
       "      <td>1111</td>\n",
       "      <td>97</td>\n",
       "      <td>1014</td>\n",
       "      <td>288000.0</td>\n",
       "      <td>4.400000</td>\n",
       "    </tr>\n",
       "    <tr>\n",
       "      <th>1</th>\n",
       "      <td>AK-501</td>\n",
       "      <td>845</td>\n",
       "      <td>575</td>\n",
       "      <td>270</td>\n",
       "      <td>0</td>\n",
       "      <td>67</td>\n",
       "      <td>386</td>\n",
       "      <td>0</td>\n",
       "      <td>2019</td>\n",
       "      <td>AK-501 2019</td>\n",
       "      <td>796</td>\n",
       "      <td>176</td>\n",
       "      <td>620</td>\n",
       "      <td>425343.0</td>\n",
       "      <td>6.991667</td>\n",
       "    </tr>\n",
       "    <tr>\n",
       "      <th>2</th>\n",
       "      <td>AL-500</td>\n",
       "      <td>827</td>\n",
       "      <td>516</td>\n",
       "      <td>277</td>\n",
       "      <td>34</td>\n",
       "      <td>106</td>\n",
       "      <td>1740</td>\n",
       "      <td>0</td>\n",
       "      <td>2019</td>\n",
       "      <td>AL-500 2019</td>\n",
       "      <td>981</td>\n",
       "      <td>326</td>\n",
       "      <td>655</td>\n",
       "      <td>965787.0</td>\n",
       "      <td>2.600000</td>\n",
       "    </tr>\n",
       "    <tr>\n",
       "      <th>3</th>\n",
       "      <td>AL-501</td>\n",
       "      <td>394</td>\n",
       "      <td>261</td>\n",
       "      <td>133</td>\n",
       "      <td>0</td>\n",
       "      <td>31</td>\n",
       "      <td>240</td>\n",
       "      <td>0</td>\n",
       "      <td>2019</td>\n",
       "      <td>AL-501 2019</td>\n",
       "      <td>505</td>\n",
       "      <td>202</td>\n",
       "      <td>303</td>\n",
       "      <td>636444.0</td>\n",
       "      <td>3.250000</td>\n",
       "    </tr>\n",
       "    <tr>\n",
       "      <th>4</th>\n",
       "      <td>AL-502</td>\n",
       "      <td>189</td>\n",
       "      <td>106</td>\n",
       "      <td>83</td>\n",
       "      <td>0</td>\n",
       "      <td>0</td>\n",
       "      <td>42</td>\n",
       "      <td>8</td>\n",
       "      <td>2019</td>\n",
       "      <td>AL-502 2019</td>\n",
       "      <td>390</td>\n",
       "      <td>201</td>\n",
       "      <td>189</td>\n",
       "      <td>209041.0</td>\n",
       "      <td>3.350000</td>\n",
       "    </tr>\n",
       "  </tbody>\n",
       "</table>\n",
       "</div>"
      ],
      "text/plain": [
       "      Coc  TotalBeds  Emergency  Transitional  SafeHaven  RapidRehousing  \\\n",
       "0  AK-500       1033        799           234          0             171   \n",
       "1  AK-501        845        575           270          0              67   \n",
       "2  AL-500        827        516           277         34             106   \n",
       "3  AL-501        394        261           133          0              31   \n",
       "4  AL-502        189        106            83          0               0   \n",
       "\n",
       "   PermanentSupportive  PermanentOther  Year      CocYear  TotalHomeless  \\\n",
       "0                  601              71  2019  AK-500 2019           1111   \n",
       "1                  386               0  2019  AK-501 2019            796   \n",
       "2                 1740               0  2019  AL-500 2019            981   \n",
       "3                  240               0  2019  AL-501 2019            505   \n",
       "4                   42               8  2019  AL-502 2019            390   \n",
       "\n",
       "   Unsheltered  Sheltered  Population  Unemployment  \n",
       "0           97       1014    288000.0      4.400000  \n",
       "1          176        620    425343.0      6.991667  \n",
       "2          326        655    965787.0      2.600000  \n",
       "3          202        303    636444.0      3.250000  \n",
       "4          201        189    209041.0      3.350000  "
      ]
     },
     "execution_count": 14,
     "metadata": {},
     "output_type": "execute_result"
    }
   ],
   "source": [
    "# Loading data\n",
    "df_AllYears = pd.read_sql(\"SELECT * FROM CocData WHERE year < 2020\", con = conn)\n",
    "\n",
    "df_AllYears.head()"
   ]
  },
  {
   "cell_type": "code",
   "execution_count": 15,
   "id": "8baead76",
   "metadata": {},
   "outputs": [],
   "source": [
    "df_AllYears=df_AllYears.drop(['TotalHomeless', 'Sheltered', 'TotalBeds', 'CocYear', 'Coc', 'Year'], axis=1)"
   ]
  },
  {
   "cell_type": "code",
   "execution_count": null,
   "id": "eb840b72",
   "metadata": {},
   "outputs": [],
   "source": []
  },
  {
   "cell_type": "code",
   "execution_count": null,
   "id": "ec43f691",
   "metadata": {},
   "outputs": [],
   "source": []
  },
  {
   "cell_type": "code",
   "execution_count": 16,
   "id": "0969fd48",
   "metadata": {},
   "outputs": [],
   "source": [
    "df_AllYears['Unsheltered_perc_pop'] = (df_AllYears['Unsheltered'] / df_AllYears['Population']) *100"
   ]
  },
  {
   "cell_type": "code",
   "execution_count": 17,
   "id": "839ef0bf",
   "metadata": {},
   "outputs": [
    {
     "data": {
      "text/html": [
       "<div>\n",
       "<style scoped>\n",
       "    .dataframe tbody tr th:only-of-type {\n",
       "        vertical-align: middle;\n",
       "    }\n",
       "\n",
       "    .dataframe tbody tr th {\n",
       "        vertical-align: top;\n",
       "    }\n",
       "\n",
       "    .dataframe thead th {\n",
       "        text-align: right;\n",
       "    }\n",
       "</style>\n",
       "<table border=\"1\" class=\"dataframe\">\n",
       "  <thead>\n",
       "    <tr style=\"text-align: right;\">\n",
       "      <th></th>\n",
       "      <th>Emergency</th>\n",
       "      <th>Transitional</th>\n",
       "      <th>SafeHaven</th>\n",
       "      <th>RapidRehousing</th>\n",
       "      <th>PermanentSupportive</th>\n",
       "      <th>PermanentOther</th>\n",
       "      <th>Unsheltered</th>\n",
       "      <th>Population</th>\n",
       "      <th>Unemployment</th>\n",
       "      <th>Unsheltered_perc_pop</th>\n",
       "    </tr>\n",
       "  </thead>\n",
       "  <tbody>\n",
       "    <tr>\n",
       "      <th>0</th>\n",
       "      <td>799</td>\n",
       "      <td>234</td>\n",
       "      <td>0</td>\n",
       "      <td>171</td>\n",
       "      <td>601</td>\n",
       "      <td>71</td>\n",
       "      <td>97</td>\n",
       "      <td>288000.0</td>\n",
       "      <td>4.400000</td>\n",
       "      <td>0.033681</td>\n",
       "    </tr>\n",
       "    <tr>\n",
       "      <th>1</th>\n",
       "      <td>575</td>\n",
       "      <td>270</td>\n",
       "      <td>0</td>\n",
       "      <td>67</td>\n",
       "      <td>386</td>\n",
       "      <td>0</td>\n",
       "      <td>176</td>\n",
       "      <td>425343.0</td>\n",
       "      <td>6.991667</td>\n",
       "      <td>0.041378</td>\n",
       "    </tr>\n",
       "    <tr>\n",
       "      <th>2</th>\n",
       "      <td>516</td>\n",
       "      <td>277</td>\n",
       "      <td>34</td>\n",
       "      <td>106</td>\n",
       "      <td>1740</td>\n",
       "      <td>0</td>\n",
       "      <td>326</td>\n",
       "      <td>965787.0</td>\n",
       "      <td>2.600000</td>\n",
       "      <td>0.033755</td>\n",
       "    </tr>\n",
       "    <tr>\n",
       "      <th>3</th>\n",
       "      <td>261</td>\n",
       "      <td>133</td>\n",
       "      <td>0</td>\n",
       "      <td>31</td>\n",
       "      <td>240</td>\n",
       "      <td>0</td>\n",
       "      <td>202</td>\n",
       "      <td>636444.0</td>\n",
       "      <td>3.250000</td>\n",
       "      <td>0.031739</td>\n",
       "    </tr>\n",
       "    <tr>\n",
       "      <th>4</th>\n",
       "      <td>106</td>\n",
       "      <td>83</td>\n",
       "      <td>0</td>\n",
       "      <td>0</td>\n",
       "      <td>42</td>\n",
       "      <td>8</td>\n",
       "      <td>201</td>\n",
       "      <td>209041.0</td>\n",
       "      <td>3.350000</td>\n",
       "      <td>0.096153</td>\n",
       "    </tr>\n",
       "  </tbody>\n",
       "</table>\n",
       "</div>"
      ],
      "text/plain": [
       "   Emergency  Transitional  SafeHaven  RapidRehousing  PermanentSupportive  \\\n",
       "0        799           234          0             171                  601   \n",
       "1        575           270          0              67                  386   \n",
       "2        516           277         34             106                 1740   \n",
       "3        261           133          0              31                  240   \n",
       "4        106            83          0               0                   42   \n",
       "\n",
       "   PermanentOther  Unsheltered  Population  Unemployment  Unsheltered_perc_pop  \n",
       "0              71           97    288000.0      4.400000              0.033681  \n",
       "1               0          176    425343.0      6.991667              0.041378  \n",
       "2               0          326    965787.0      2.600000              0.033755  \n",
       "3               0          202    636444.0      3.250000              0.031739  \n",
       "4               8          201    209041.0      3.350000              0.096153  "
      ]
     },
     "execution_count": 17,
     "metadata": {},
     "output_type": "execute_result"
    }
   ],
   "source": [
    "df_AllYears.head()"
   ]
  },
  {
   "cell_type": "code",
   "execution_count": 18,
   "id": "761bee63",
   "metadata": {},
   "outputs": [],
   "source": [
    "df_AllYears['ES_beds_perc_pop'] = (df_AllYears['Emergency'] / df_AllYears['Population']) *100"
   ]
  },
  {
   "cell_type": "code",
   "execution_count": 19,
   "id": "3e7ecbe2",
   "metadata": {},
   "outputs": [],
   "source": [
    "df_AllYears['TS_beds_perc_pop'] = (df_AllYears['Transitional'] / df_AllYears['Population']) *100"
   ]
  },
  {
   "cell_type": "code",
   "execution_count": 20,
   "id": "323468bc",
   "metadata": {},
   "outputs": [],
   "source": [
    "df_AllYears['SH_beds_perc_pop'] = (df_AllYears['SafeHaven'] / df_AllYears['Population']) *100"
   ]
  },
  {
   "cell_type": "code",
   "execution_count": 21,
   "id": "dc35dd9b",
   "metadata": {},
   "outputs": [],
   "source": [
    "df_AllYears['RRH_units_perc_pop'] = (df_AllYears['RapidRehousing'] / df_AllYears['Population']) *100"
   ]
  },
  {
   "cell_type": "code",
   "execution_count": 22,
   "id": "15d2e97a",
   "metadata": {},
   "outputs": [],
   "source": [
    "df_AllYears['RRH_units_perc_pop'] = (df_AllYears['RapidRehousing'] / df_AllYears['Population']) *100"
   ]
  },
  {
   "cell_type": "code",
   "execution_count": 23,
   "id": "a5ec3d2b",
   "metadata": {},
   "outputs": [],
   "source": [
    "df_AllYears['PSH_units_perc_pop'] = (df_AllYears['PermanentSupportive'] / df_AllYears['Population']) *100"
   ]
  },
  {
   "cell_type": "code",
   "execution_count": 24,
   "id": "c3dd75b8",
   "metadata": {},
   "outputs": [],
   "source": [
    "df_AllYears['OPH_units_perc_pop'] = (df_AllYears['PermanentOther'] / df_AllYears['Population']) *100"
   ]
  },
  {
   "cell_type": "code",
   "execution_count": 25,
   "id": "11f064d4",
   "metadata": {},
   "outputs": [
    {
     "data": {
      "text/html": [
       "<div>\n",
       "<style scoped>\n",
       "    .dataframe tbody tr th:only-of-type {\n",
       "        vertical-align: middle;\n",
       "    }\n",
       "\n",
       "    .dataframe tbody tr th {\n",
       "        vertical-align: top;\n",
       "    }\n",
       "\n",
       "    .dataframe thead th {\n",
       "        text-align: right;\n",
       "    }\n",
       "</style>\n",
       "<table border=\"1\" class=\"dataframe\">\n",
       "  <thead>\n",
       "    <tr style=\"text-align: right;\">\n",
       "      <th></th>\n",
       "      <th>Emergency</th>\n",
       "      <th>Transitional</th>\n",
       "      <th>SafeHaven</th>\n",
       "      <th>RapidRehousing</th>\n",
       "      <th>PermanentSupportive</th>\n",
       "      <th>PermanentOther</th>\n",
       "      <th>Unsheltered</th>\n",
       "      <th>Population</th>\n",
       "      <th>Unemployment</th>\n",
       "      <th>Unsheltered_perc_pop</th>\n",
       "      <th>ES_beds_perc_pop</th>\n",
       "      <th>TS_beds_perc_pop</th>\n",
       "      <th>SH_beds_perc_pop</th>\n",
       "      <th>RRH_units_perc_pop</th>\n",
       "      <th>PSH_units_perc_pop</th>\n",
       "      <th>OPH_units_perc_pop</th>\n",
       "    </tr>\n",
       "  </thead>\n",
       "  <tbody>\n",
       "    <tr>\n",
       "      <th>0</th>\n",
       "      <td>799</td>\n",
       "      <td>234</td>\n",
       "      <td>0</td>\n",
       "      <td>171</td>\n",
       "      <td>601</td>\n",
       "      <td>71</td>\n",
       "      <td>97</td>\n",
       "      <td>288000.0</td>\n",
       "      <td>4.400000</td>\n",
       "      <td>0.033681</td>\n",
       "      <td>0.277431</td>\n",
       "      <td>0.081250</td>\n",
       "      <td>0.00000</td>\n",
       "      <td>0.059375</td>\n",
       "      <td>0.208681</td>\n",
       "      <td>0.024653</td>\n",
       "    </tr>\n",
       "    <tr>\n",
       "      <th>1</th>\n",
       "      <td>575</td>\n",
       "      <td>270</td>\n",
       "      <td>0</td>\n",
       "      <td>67</td>\n",
       "      <td>386</td>\n",
       "      <td>0</td>\n",
       "      <td>176</td>\n",
       "      <td>425343.0</td>\n",
       "      <td>6.991667</td>\n",
       "      <td>0.041378</td>\n",
       "      <td>0.135185</td>\n",
       "      <td>0.063478</td>\n",
       "      <td>0.00000</td>\n",
       "      <td>0.015752</td>\n",
       "      <td>0.090750</td>\n",
       "      <td>0.000000</td>\n",
       "    </tr>\n",
       "    <tr>\n",
       "      <th>2</th>\n",
       "      <td>516</td>\n",
       "      <td>277</td>\n",
       "      <td>34</td>\n",
       "      <td>106</td>\n",
       "      <td>1740</td>\n",
       "      <td>0</td>\n",
       "      <td>326</td>\n",
       "      <td>965787.0</td>\n",
       "      <td>2.600000</td>\n",
       "      <td>0.033755</td>\n",
       "      <td>0.053428</td>\n",
       "      <td>0.028681</td>\n",
       "      <td>0.00352</td>\n",
       "      <td>0.010976</td>\n",
       "      <td>0.180164</td>\n",
       "      <td>0.000000</td>\n",
       "    </tr>\n",
       "    <tr>\n",
       "      <th>3</th>\n",
       "      <td>261</td>\n",
       "      <td>133</td>\n",
       "      <td>0</td>\n",
       "      <td>31</td>\n",
       "      <td>240</td>\n",
       "      <td>0</td>\n",
       "      <td>202</td>\n",
       "      <td>636444.0</td>\n",
       "      <td>3.250000</td>\n",
       "      <td>0.031739</td>\n",
       "      <td>0.041009</td>\n",
       "      <td>0.020897</td>\n",
       "      <td>0.00000</td>\n",
       "      <td>0.004871</td>\n",
       "      <td>0.037710</td>\n",
       "      <td>0.000000</td>\n",
       "    </tr>\n",
       "    <tr>\n",
       "      <th>4</th>\n",
       "      <td>106</td>\n",
       "      <td>83</td>\n",
       "      <td>0</td>\n",
       "      <td>0</td>\n",
       "      <td>42</td>\n",
       "      <td>8</td>\n",
       "      <td>201</td>\n",
       "      <td>209041.0</td>\n",
       "      <td>3.350000</td>\n",
       "      <td>0.096153</td>\n",
       "      <td>0.050708</td>\n",
       "      <td>0.039705</td>\n",
       "      <td>0.00000</td>\n",
       "      <td>0.000000</td>\n",
       "      <td>0.020092</td>\n",
       "      <td>0.003827</td>\n",
       "    </tr>\n",
       "  </tbody>\n",
       "</table>\n",
       "</div>"
      ],
      "text/plain": [
       "   Emergency  Transitional  SafeHaven  RapidRehousing  PermanentSupportive  \\\n",
       "0        799           234          0             171                  601   \n",
       "1        575           270          0              67                  386   \n",
       "2        516           277         34             106                 1740   \n",
       "3        261           133          0              31                  240   \n",
       "4        106            83          0               0                   42   \n",
       "\n",
       "   PermanentOther  Unsheltered  Population  Unemployment  \\\n",
       "0              71           97    288000.0      4.400000   \n",
       "1               0          176    425343.0      6.991667   \n",
       "2               0          326    965787.0      2.600000   \n",
       "3               0          202    636444.0      3.250000   \n",
       "4               8          201    209041.0      3.350000   \n",
       "\n",
       "   Unsheltered_perc_pop  ES_beds_perc_pop  TS_beds_perc_pop  SH_beds_perc_pop  \\\n",
       "0              0.033681          0.277431          0.081250           0.00000   \n",
       "1              0.041378          0.135185          0.063478           0.00000   \n",
       "2              0.033755          0.053428          0.028681           0.00352   \n",
       "3              0.031739          0.041009          0.020897           0.00000   \n",
       "4              0.096153          0.050708          0.039705           0.00000   \n",
       "\n",
       "   RRH_units_perc_pop  PSH_units_perc_pop  OPH_units_perc_pop  \n",
       "0            0.059375            0.208681            0.024653  \n",
       "1            0.015752            0.090750            0.000000  \n",
       "2            0.010976            0.180164            0.000000  \n",
       "3            0.004871            0.037710            0.000000  \n",
       "4            0.000000            0.020092            0.003827  "
      ]
     },
     "execution_count": 25,
     "metadata": {},
     "output_type": "execute_result"
    }
   ],
   "source": [
    "df_AllYears.head()"
   ]
  },
  {
   "cell_type": "code",
   "execution_count": 26,
   "id": "262c0780",
   "metadata": {},
   "outputs": [],
   "source": [
    "df_AllYears=df_AllYears.drop(['Emergency', 'Transitional', 'SafeHaven', 'RapidRehousing', 'PermanentSupportive', 'PermanentOther', 'Unsheltered'], axis=1)"
   ]
  },
  {
   "cell_type": "code",
   "execution_count": 27,
   "id": "f135ff4d",
   "metadata": {},
   "outputs": [
    {
     "name": "stdout",
     "output_type": "stream",
     "text": [
      "<class 'pandas.core.frame.DataFrame'>\n",
      "RangeIndex: 2220 entries, 0 to 2219\n",
      "Data columns (total 9 columns):\n",
      " #   Column                Non-Null Count  Dtype  \n",
      "---  ------                --------------  -----  \n",
      " 0   Population            2220 non-null   float64\n",
      " 1   Unemployment          2220 non-null   float64\n",
      " 2   Unsheltered_perc_pop  2220 non-null   float64\n",
      " 3   ES_beds_perc_pop      2220 non-null   float64\n",
      " 4   TS_beds_perc_pop      2220 non-null   float64\n",
      " 5   SH_beds_perc_pop      2220 non-null   float64\n",
      " 6   RRH_units_perc_pop    2220 non-null   float64\n",
      " 7   PSH_units_perc_pop    2220 non-null   float64\n",
      " 8   OPH_units_perc_pop    2220 non-null   float64\n",
      "dtypes: float64(9)\n",
      "memory usage: 156.2 KB\n"
     ]
    }
   ],
   "source": [
    "df_AllYears.info()"
   ]
  },
  {
   "cell_type": "code",
   "execution_count": null,
   "id": "6ca885ea",
   "metadata": {},
   "outputs": [],
   "source": []
  },
  {
   "cell_type": "code",
   "execution_count": 28,
   "id": "34027fd1",
   "metadata": {},
   "outputs": [
    {
     "data": {
      "text/html": [
       "<div>\n",
       "<style scoped>\n",
       "    .dataframe tbody tr th:only-of-type {\n",
       "        vertical-align: middle;\n",
       "    }\n",
       "\n",
       "    .dataframe tbody tr th {\n",
       "        vertical-align: top;\n",
       "    }\n",
       "\n",
       "    .dataframe thead th {\n",
       "        text-align: right;\n",
       "    }\n",
       "</style>\n",
       "<table border=\"1\" class=\"dataframe\">\n",
       "  <thead>\n",
       "    <tr style=\"text-align: right;\">\n",
       "      <th></th>\n",
       "      <th>Population</th>\n",
       "      <th>Unemployment</th>\n",
       "      <th>Unsheltered_perc_pop</th>\n",
       "      <th>ES_beds_perc_pop</th>\n",
       "      <th>TS_beds_perc_pop</th>\n",
       "      <th>SH_beds_perc_pop</th>\n",
       "      <th>RRH_units_perc_pop</th>\n",
       "      <th>PSH_units_perc_pop</th>\n",
       "      <th>OPH_units_perc_pop</th>\n",
       "    </tr>\n",
       "  </thead>\n",
       "  <tbody>\n",
       "    <tr>\n",
       "      <th>0</th>\n",
       "      <td>288000.0</td>\n",
       "      <td>4.400000</td>\n",
       "      <td>0.033681</td>\n",
       "      <td>0.277431</td>\n",
       "      <td>0.081250</td>\n",
       "      <td>0.00000</td>\n",
       "      <td>0.059375</td>\n",
       "      <td>0.208681</td>\n",
       "      <td>0.024653</td>\n",
       "    </tr>\n",
       "    <tr>\n",
       "      <th>1</th>\n",
       "      <td>425343.0</td>\n",
       "      <td>6.991667</td>\n",
       "      <td>0.041378</td>\n",
       "      <td>0.135185</td>\n",
       "      <td>0.063478</td>\n",
       "      <td>0.00000</td>\n",
       "      <td>0.015752</td>\n",
       "      <td>0.090750</td>\n",
       "      <td>0.000000</td>\n",
       "    </tr>\n",
       "    <tr>\n",
       "      <th>2</th>\n",
       "      <td>965787.0</td>\n",
       "      <td>2.600000</td>\n",
       "      <td>0.033755</td>\n",
       "      <td>0.053428</td>\n",
       "      <td>0.028681</td>\n",
       "      <td>0.00352</td>\n",
       "      <td>0.010976</td>\n",
       "      <td>0.180164</td>\n",
       "      <td>0.000000</td>\n",
       "    </tr>\n",
       "    <tr>\n",
       "      <th>3</th>\n",
       "      <td>636444.0</td>\n",
       "      <td>3.250000</td>\n",
       "      <td>0.031739</td>\n",
       "      <td>0.041009</td>\n",
       "      <td>0.020897</td>\n",
       "      <td>0.00000</td>\n",
       "      <td>0.004871</td>\n",
       "      <td>0.037710</td>\n",
       "      <td>0.000000</td>\n",
       "    </tr>\n",
       "    <tr>\n",
       "      <th>4</th>\n",
       "      <td>209041.0</td>\n",
       "      <td>3.350000</td>\n",
       "      <td>0.096153</td>\n",
       "      <td>0.050708</td>\n",
       "      <td>0.039705</td>\n",
       "      <td>0.00000</td>\n",
       "      <td>0.000000</td>\n",
       "      <td>0.020092</td>\n",
       "      <td>0.003827</td>\n",
       "    </tr>\n",
       "  </tbody>\n",
       "</table>\n",
       "</div>"
      ],
      "text/plain": [
       "   Population  Unemployment  Unsheltered_perc_pop  ES_beds_perc_pop  \\\n",
       "0    288000.0      4.400000              0.033681          0.277431   \n",
       "1    425343.0      6.991667              0.041378          0.135185   \n",
       "2    965787.0      2.600000              0.033755          0.053428   \n",
       "3    636444.0      3.250000              0.031739          0.041009   \n",
       "4    209041.0      3.350000              0.096153          0.050708   \n",
       "\n",
       "   TS_beds_perc_pop  SH_beds_perc_pop  RRH_units_perc_pop  PSH_units_perc_pop  \\\n",
       "0          0.081250           0.00000            0.059375            0.208681   \n",
       "1          0.063478           0.00000            0.015752            0.090750   \n",
       "2          0.028681           0.00352            0.010976            0.180164   \n",
       "3          0.020897           0.00000            0.004871            0.037710   \n",
       "4          0.039705           0.00000            0.000000            0.020092   \n",
       "\n",
       "   OPH_units_perc_pop  \n",
       "0            0.024653  \n",
       "1            0.000000  \n",
       "2            0.000000  \n",
       "3            0.000000  \n",
       "4            0.003827  "
      ]
     },
     "execution_count": 28,
     "metadata": {},
     "output_type": "execute_result"
    }
   ],
   "source": [
    "df_AllYears.head()"
   ]
  },
  {
   "cell_type": "code",
   "execution_count": null,
   "id": "c93e107b",
   "metadata": {},
   "outputs": [],
   "source": []
  },
  {
   "cell_type": "code",
   "execution_count": 29,
   "id": "b3b8c198",
   "metadata": {},
   "outputs": [
    {
     "data": {
      "text/html": [
       "<div>\n",
       "<style scoped>\n",
       "    .dataframe tbody tr th:only-of-type {\n",
       "        vertical-align: middle;\n",
       "    }\n",
       "\n",
       "    .dataframe tbody tr th {\n",
       "        vertical-align: top;\n",
       "    }\n",
       "\n",
       "    .dataframe thead th {\n",
       "        text-align: right;\n",
       "    }\n",
       "</style>\n",
       "<table border=\"1\" class=\"dataframe\">\n",
       "  <thead>\n",
       "    <tr style=\"text-align: right;\">\n",
       "      <th></th>\n",
       "      <th>Population</th>\n",
       "      <th>Unemployment</th>\n",
       "      <th>ES_beds_perc_pop</th>\n",
       "      <th>TS_beds_perc_pop</th>\n",
       "      <th>SH_beds_perc_pop</th>\n",
       "      <th>RRH_units_perc_pop</th>\n",
       "      <th>PSH_units_perc_pop</th>\n",
       "      <th>OPH_units_perc_pop</th>\n",
       "    </tr>\n",
       "  </thead>\n",
       "  <tbody>\n",
       "    <tr>\n",
       "      <th>0</th>\n",
       "      <td>288000.0</td>\n",
       "      <td>4.400000</td>\n",
       "      <td>0.277431</td>\n",
       "      <td>0.081250</td>\n",
       "      <td>0.00000</td>\n",
       "      <td>0.059375</td>\n",
       "      <td>0.208681</td>\n",
       "      <td>0.024653</td>\n",
       "    </tr>\n",
       "    <tr>\n",
       "      <th>1</th>\n",
       "      <td>425343.0</td>\n",
       "      <td>6.991667</td>\n",
       "      <td>0.135185</td>\n",
       "      <td>0.063478</td>\n",
       "      <td>0.00000</td>\n",
       "      <td>0.015752</td>\n",
       "      <td>0.090750</td>\n",
       "      <td>0.000000</td>\n",
       "    </tr>\n",
       "    <tr>\n",
       "      <th>2</th>\n",
       "      <td>965787.0</td>\n",
       "      <td>2.600000</td>\n",
       "      <td>0.053428</td>\n",
       "      <td>0.028681</td>\n",
       "      <td>0.00352</td>\n",
       "      <td>0.010976</td>\n",
       "      <td>0.180164</td>\n",
       "      <td>0.000000</td>\n",
       "    </tr>\n",
       "    <tr>\n",
       "      <th>3</th>\n",
       "      <td>636444.0</td>\n",
       "      <td>3.250000</td>\n",
       "      <td>0.041009</td>\n",
       "      <td>0.020897</td>\n",
       "      <td>0.00000</td>\n",
       "      <td>0.004871</td>\n",
       "      <td>0.037710</td>\n",
       "      <td>0.000000</td>\n",
       "    </tr>\n",
       "    <tr>\n",
       "      <th>4</th>\n",
       "      <td>209041.0</td>\n",
       "      <td>3.350000</td>\n",
       "      <td>0.050708</td>\n",
       "      <td>0.039705</td>\n",
       "      <td>0.00000</td>\n",
       "      <td>0.000000</td>\n",
       "      <td>0.020092</td>\n",
       "      <td>0.003827</td>\n",
       "    </tr>\n",
       "  </tbody>\n",
       "</table>\n",
       "</div>"
      ],
      "text/plain": [
       "   Population  Unemployment  ES_beds_perc_pop  TS_beds_perc_pop  \\\n",
       "0    288000.0      4.400000          0.277431          0.081250   \n",
       "1    425343.0      6.991667          0.135185          0.063478   \n",
       "2    965787.0      2.600000          0.053428          0.028681   \n",
       "3    636444.0      3.250000          0.041009          0.020897   \n",
       "4    209041.0      3.350000          0.050708          0.039705   \n",
       "\n",
       "   SH_beds_perc_pop  RRH_units_perc_pop  PSH_units_perc_pop  \\\n",
       "0           0.00000            0.059375            0.208681   \n",
       "1           0.00000            0.015752            0.090750   \n",
       "2           0.00352            0.010976            0.180164   \n",
       "3           0.00000            0.004871            0.037710   \n",
       "4           0.00000            0.000000            0.020092   \n",
       "\n",
       "   OPH_units_perc_pop  \n",
       "0            0.024653  \n",
       "1            0.000000  \n",
       "2            0.000000  \n",
       "3            0.000000  \n",
       "4            0.003827  "
      ]
     },
     "execution_count": 29,
     "metadata": {},
     "output_type": "execute_result"
    }
   ],
   "source": [
    "# Define the features set.\n",
    "X = df_AllYears.copy()\n",
    "X = X.drop(\"Unsheltered_perc_pop\", axis=1)\n",
    "X.head()"
   ]
  },
  {
   "cell_type": "code",
   "execution_count": 30,
   "id": "c203db81",
   "metadata": {},
   "outputs": [
    {
     "data": {
      "text/plain": [
       "array([0.03368056, 0.04137837, 0.03375485, 0.03173885, 0.09615339])"
      ]
     },
     "execution_count": 30,
     "metadata": {},
     "output_type": "execute_result"
    }
   ],
   "source": [
    "# Define the target set.\n",
    "y = df_AllYears[\"Unsheltered_perc_pop\"].ravel()\n",
    "y[:5]"
   ]
  },
  {
   "cell_type": "code",
   "execution_count": 31,
   "id": "9b1c8c6c",
   "metadata": {},
   "outputs": [],
   "source": [
    "# Splitting into Train and Test sets.\n",
    "X_train, X_test, y_train, y_test = train_test_split(X, y, random_state=78)"
   ]
  },
  {
   "cell_type": "code",
   "execution_count": 32,
   "id": "01359db9",
   "metadata": {},
   "outputs": [],
   "source": [
    "regr = RandomForestRegressor(max_depth=3, random_state=0)"
   ]
  },
  {
   "cell_type": "code",
   "execution_count": 33,
   "id": "ddbb7812",
   "metadata": {},
   "outputs": [],
   "source": [
    "reg_model = regr.fit(X, y)"
   ]
  },
  {
   "cell_type": "code",
   "execution_count": 34,
   "id": "dd6ec966",
   "metadata": {},
   "outputs": [
    {
     "data": {
      "text/plain": [
       "array([2.63330507e-01, 1.17817591e-01, 3.09694238e-02, 3.69594401e-01,\n",
       "       2.39804310e-04, 4.52170208e-02, 1.70353099e-01, 2.47815386e-03])"
      ]
     },
     "execution_count": 34,
     "metadata": {},
     "output_type": "execute_result"
    }
   ],
   "source": [
    "importances = reg_model.feature_importances_\n",
    "importances"
   ]
  },
  {
   "cell_type": "code",
   "execution_count": 35,
   "id": "eff49320",
   "metadata": {},
   "outputs": [
    {
     "data": {
      "text/plain": [
       "[(0.36959440102648927, 'TS_beds_perc_pop'),\n",
       " (0.263330506966002, 'Population'),\n",
       " (0.17035309858384853, 'PSH_units_perc_pop'),\n",
       " (0.11781759057265631, 'Unemployment'),\n",
       " (0.0452170208447126, 'RRH_units_perc_pop'),\n",
       " (0.03096942383632975, 'ES_beds_perc_pop'),\n",
       " (0.0024781538604584123, 'OPH_units_perc_pop'),\n",
       " (0.00023980430950304064, 'SH_beds_perc_pop')]"
      ]
     },
     "execution_count": 35,
     "metadata": {},
     "output_type": "execute_result"
    }
   ],
   "source": [
    "# We can sort the features by their importance.\n",
    "sorted(zip(reg_model.feature_importances_, X.columns), reverse=True)"
   ]
  },
  {
   "cell_type": "code",
   "execution_count": 36,
   "id": "7e87f7c3",
   "metadata": {},
   "outputs": [],
   "source": [
    "%matplotlib inline\n",
    "from matplotlib import pyplot as plt"
   ]
  },
  {
   "cell_type": "code",
   "execution_count": 37,
   "id": "eaf7d067",
   "metadata": {},
   "outputs": [
    {
     "data": {
      "image/png": "[encoded data removed]",
      "text/plain": [
       "<Figure size 720x1440 with 1 Axes>"
      ]
     },
     "metadata": {
      "needs_background": "light"
     },
     "output_type": "display_data"
    }
   ],
   "source": [
    "features = sorted(zip(X.columns, reg_model.feature_importances_), key = lambda x: x[1])\n",
    "cols = [f[0] for f in features]\n",
    "width = [f[1] for f in features]\n",
    "\n",
    "fig, ax = plt.subplots()\n",
    "\n",
    "fig.set_size_inches(10,20)\n",
    "plt.margins(y=0.001)\n",
    "\n",
    "ax.barh(y=cols, width=width)\n",
    "\n",
    "plt.show()"
   ]
  },
  {
   "cell_type": "code",
   "execution_count": 38,
   "id": "beff0f06",
   "metadata": {},
   "outputs": [],
   "source": [
    "estimator = reg_model.estimators_[5]"
   ]
  },
  {
   "cell_type": "code",
   "execution_count": 39,
   "id": "db6b37ef",
   "metadata": {},
   "outputs": [
    {
     "data": {
      "text/plain": [
       "[Text(0.5, 0.875, 'X[3] <= 0.104\\nsquared_error = 0.013\\nsamples = 1405\\nvalue = 0.065'),\n",
       " Text(0.25, 0.625, 'X[6] <= 0.743\\nsquared_error = 0.009\\nsamples = 1279\\nvalue = 0.053'),\n",
       " Text(0.125, 0.375, 'X[6] <= 0.0\\nsquared_error = 0.009\\nsamples = 1273\\nvalue = 0.051'),\n",
       " Text(0.0625, 0.125, 'squared_error = 0.04\\nsamples = 23\\nvalue = 0.185'),\n",
       " Text(0.1875, 0.125, 'squared_error = 0.008\\nsamples = 1250\\nvalue = 0.049'),\n",
       " Text(0.375, 0.375, 'X[0] <= 881122.5\\nsquared_error = 0.001\\nsamples = 6\\nvalue = 0.512'),\n",
       " Text(0.3125, 0.125, 'squared_error = 0.0\\nsamples = 5\\nvalue = 0.499'),\n",
       " Text(0.4375, 0.125, 'squared_error = 0.0\\nsamples = 1\\nvalue = 0.588'),\n",
       " Text(0.75, 0.625, 'X[1] <= 8.733\\nsquared_error = 0.039\\nsamples = 126\\nvalue = 0.185'),\n",
       " Text(0.625, 0.375, 'X[0] <= 134649.0\\nsquared_error = 0.029\\nsamples = 119\\nvalue = 0.168'),\n",
       " Text(0.5625, 0.125, 'squared_error = 0.051\\nsamples = 33\\nvalue = 0.239'),\n",
       " Text(0.6875, 0.125, 'squared_error = 0.019\\nsamples = 86\\nvalue = 0.141'),\n",
       " Text(0.875, 0.375, 'X[1] <= 9.1\\nsquared_error = 0.121\\nsamples = 7\\nvalue = 0.495'),\n",
       " Text(0.8125, 0.125, 'squared_error = 0.0\\nsamples = 1\\nvalue = 1.069'),\n",
       " Text(0.9375, 0.125, 'squared_error = 0.049\\nsamples = 6\\nvalue = 0.351')]"
      ]
     },
     "execution_count": 39,
     "metadata": {},
     "output_type": "execute_result"
    },
    {
     "data": {
      "image/png": "[encoded data removed]",
      "text/plain": [
       "<Figure size 432x288 with 1 Axes>"
      ]
     },
     "metadata": {
      "needs_background": "light"
     },
     "output_type": "display_data"
    }
   ],
   "source": [
    "from sklearn import tree\n",
    "tree.plot_tree(reg_model.estimators_[0])"
   ]
  },
  {
   "cell_type": "code",
   "execution_count": 40,
   "id": "1b29727e",
   "metadata": {},
   "outputs": [],
   "source": [
    "df_AllYears.to_csv('AllYears_converted.csv', index=False)"
   ]
  },
  {
   "cell_type": "code",
   "execution_count": null,
   "id": "f2ecce61",
   "metadata": {},
   "outputs": [],
   "source": []
  },
  {
   "cell_type": "code",
   "execution_count": null,
   "id": "dad5ce28",
   "metadata": {},
   "outputs": [],
   "source": []
  },
  {
   "cell_type": "code",
   "execution_count": null,
   "id": "650cb8c2",
   "metadata": {},
   "outputs": [],
   "source": []
  },
  {
   "cell_type": "code",
   "execution_count": null,
   "id": "e9c73f14",
   "metadata": {},
   "outputs": [],
   "source": []
  }
 ],
 "metadata": {
  "kernelspec": {
   "display_name": "mlenv",
   "language": "python",
   "name": "mlenv"
  },
  "language_info": {
   "codemirror_mode": {
    "name": "ipython",
    "version": 3
   },
   "file_extension": ".py",
   "mimetype": "text/x-python",
   "name": "python",
   "nbconvert_exporter": "python",
   "pygments_lexer": "ipython3",
   "version": "3.7.11"
  }
 },
 "nbformat": 4,
 "nbformat_minor": 5
}
