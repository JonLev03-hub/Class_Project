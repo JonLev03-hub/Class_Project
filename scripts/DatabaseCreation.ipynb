{
 "cells": [
  {
   "cell_type": "code",
   "execution_count": 3,
   "id": "billion-partner",
   "metadata": {},
   "outputs": [],
   "source": [
    "import pandas as pd\n",
    "import sqlite3"
   ]
  },
  {
   "cell_type": "code",
   "execution_count": 4,
   "id": "incorporated-employment",
   "metadata": {},
   "outputs": [],
   "source": [
    "# Create Database Connection\n",
    "conn = sqlite3.connect('../HomelessData.db')\n",
    "c = conn.cursor()"
   ]
  },
  {
   "cell_type": "code",
   "execution_count": 5,
   "id": "ideal-noise",
   "metadata": {},
   "outputs": [
    {
     "name": "stdout",
     "output_type": "stream",
     "text": [
      "\"['Transitional', 'PermanentOther', 'Total', 'RapidRehousing', 'PermanentSupportive', 'SafeHaven', 'Emergency'] not in index\"\n",
      "Couldnt get data from 2013\n"
     ]
    },
    {
     "name": "stderr",
     "output_type": "stream",
     "text": [
      "C:\\Users\\Jonat\\anaconda3\\lib\\site-packages\\openpyxl\\worksheet\\header_footer.py:48: UserWarning: Cannot parse header or footer so it will be ignored\n",
      "  warn(\"\"\"Cannot parse header or footer so it will be ignored\"\"\")\n"
     ]
    }
   ],
   "source": [
    "# Create ShelterAvalibility dataframe and database\n",
    "for sheet in [\"2020\",\"2019\",\"2018\",\"2017\",\"2016\",\"2015\",\"2014\",\"2013\"]: \n",
    "    try: \n",
    "        hic_df = pd.read_excel(\"../resources/2007-2020-HIC-Counts-by-CoC.xlsx\",sheet,skiprows=[0],skipfooter=1)\n",
    "\n",
    "        # Adjust Column\n",
    "        hic_df.rename(columns = {'CoC Number' : 'Coc','Total Year-Round Beds (ES, TH, SH)' : 'Total','Total Year-Round Beds (ES)' : 'Emergency','Total Year-Round Beds (TH)' : 'Transitional','Total Year-Round Beds (SH)' : 'SafeHaven','Total Year-Round Beds (RRH)' : 'RapidRehousing','Total Year-Round Beds (PSH)' : 'PermanentSupportive','Total Year-Round Beds (OPH)' : 'PermanentOther'},inplace=True)\n",
    "        hic_df = hic_df[[\"Coc\", \"Total\", \"Emergency\", \"Transitional\", \"SafeHaven\", \"RapidRehousing\", \"PermanentSupportive\", \"PermanentOther\"]]\n",
    "        hic_df[\"Year\"] = sheet\n",
    "\n",
    "        # Insert Into DB\n",
    "        hic_df.to_sql(\"shelterAvalibility\",con=conn,if_exists = 'append',index=False)\n",
    "        print(f\"Gathered Data from {sheet}\")\n",
    "    except Exception as E:\n",
    "        print(f\"Couldnt get data from {sheet}\")\n",
    "print(\"Finished\")"
   ]
  },
  {
   "cell_type": "code",
   "execution_count": 7,
   "id": "bearing-official",
   "metadata": {},
   "outputs": [
    {
     "name": "stdout",
     "output_type": "stream",
     "text": [
      "Gathered Data from 2020\n",
      "Gathered Data from 2019\n",
      "Gathered Data from 2018\n",
      "Gathered Data from 2017\n",
      "Gathered Data from 2016\n",
      "Gathered Data from 2015\n",
      "Gathered Data from 2014\n",
      "Gathered Data from 2013\n"
     ]
    }
   ],
   "source": [
    "# Create PIT and CityData dataframe and database\n",
    "for sheet in [\"2020\",\"2019\",\"2018\",\"2017\",\"2016\",\"2015\",\"2014\",\"2013\"]: \n",
    "    try:\n",
    "        pit_df = pd.read_excel(\"../resources/2007-2020-PIT-Estimates-by-CoC.xlsx\",sheet,skipfooter=3)\n",
    "\n",
    "        # Rename pit_df columns\n",
    "        pit_df.rename(columns = {'CoC Number' : 'Coc',f'Overall Homeless, {sheet}' : \"Total\",f'Unsheltered Homeless, {sheet}' : \"Unsheltered\"},inplace=True)\n",
    "\n",
    "        #Create CityData Database\n",
    "        pit_df[[\"Coc\",\"CoC Name\"]].to_sql(\"CityData\",con=conn,if_exists = \"replace\")\n",
    "\n",
    "        # Create New Columns\n",
    "        pit_df[\"Sheltered\"] = pit_df[\"Total\"]-pit_df[\"Unsheltered\"]\n",
    "        pit_df = pit_df[['Coc','Total','Unsheltered','Sheltered']]\n",
    "        pit_df[\"Year\"] = sheet\n",
    "\n",
    "        # Create HomelessData table\n",
    "        pit_df.to_sql(\"HomelessCounts\",con=conn,if_exists='append',index=False)\n",
    "        print(f\"Gathered Data from {sheet}\")\n",
    "    except Exception as E : \n",
    "        print(f\"Couldnt get data from {sheet}\")\n",
    "print(\"Finished\")"
   ]
  },
  {
   "cell_type": "code",
   "execution_count": 9,
   "id": "strange-annex",
   "metadata": {},
   "outputs": [
    {
     "name": "stdout",
     "output_type": "stream",
     "text": [
      "Couldnt gather data from 2020\n",
      "Couldnt gather data from 2017\n",
      "Couldnt gather data from 2016\n",
      "Couldnt gather data from 2015\n",
      "Couldnt gather data from 2014\n",
      "Couldnt gather data from 2013\n",
      "Finished\n"
     ]
    }
   ],
   "source": [
    "# Create The Funding Database and Dataframe\n",
    "for sheet in [\"2020\",\"2019\",\"2018\",\"2017\",\"2016\",\"2015\",\"2014\",\"2013\"]:\n",
    "    try:\n",
    "        awards_df = pd.read_excel(\"../resources/2019-Awards-by-CoC-Component-Project.xlsx\",sheet)\n",
    "        awards_df.rename(columns = {\"CoC Number\" : \"CoC\"},inplace=True)\n",
    "        awards_df = awards_df[[\"CoC\",\"Component\",\"Awarded Amount\"]]\n",
    "        awards_df[\"Year\"] = sheet\n",
    "        awards_df.to_sql(\"FundingData\",con=conn,if_exists='append')\n",
    "    except Exception as E : \n",
    "        print(f\"Couldnt gather data from {sheet}\")\n",
    "        \n",
    "print(\"Finished\")"
   ]
  },
  {
   "cell_type": "code",
   "execution_count": 38,
   "id": "gothic-stone",
   "metadata": {},
   "outputs": [],
   "source": [
    "# Load in county data \n",
    "df = pd.read_csv(\"../resources/county_level_data/count_fips.csv\")\n",
    "coc_df = pd.read_csv(\"../resources/county_level_data/fips_Coc.csv\")[[\"FIPS\",\"number\"]]\n",
    "coc_df.rename(columns = {\"number\" : \"Coc\"},inplace=True)\n",
    "df.merge(coc_df,on=\"FIPS\")\n",
    "df.to_sql(\"CityMeta\",con=conn)"
   ]
  },
  {
   "cell_type": "code",
   "execution_count": 49,
   "id": "stuck-mailman",
   "metadata": {},
   "outputs": [
    {
     "name": "stderr",
     "output_type": "stream",
     "text": [
      "C:\\Users\\Jonat\\anaconda3\\lib\\site-packages\\pandas\\core\\generic.py:2779: UserWarning: The spaces in these column names will not be changed. In pandas versions < 0.14, spaces were converted to underscores.\n",
      "  sql.to_sql(\n"
     ]
    }
   ],
   "source": [
    "# Create the Coc Meta\n",
    "df = pd.read_excel(\"../resources/2007-2020-PIT-Estimates-by-CoC.xlsx\",skipfooter=3)[['CoC Number',\"CoC Category\"]]\n",
    "df.to_sql(\"CocMeta\",con=conn)"
   ]
  },
  {
   "cell_type": "code",
   "execution_count": 48,
   "id": "diverse-suffering",
   "metadata": {},
   "outputs": [
    {
     "data": {
      "text/html": [
       "<div>\n",
       "<style scoped>\n",
       "    .dataframe tbody tr th:only-of-type {\n",
       "        vertical-align: middle;\n",
       "    }\n",
       "\n",
       "    .dataframe tbody tr th {\n",
       "        vertical-align: top;\n",
       "    }\n",
       "\n",
       "    .dataframe thead th {\n",
       "        text-align: right;\n",
       "    }\n",
       "</style>\n",
       "<table border=\"1\" class=\"dataframe\">\n",
       "  <thead>\n",
       "    <tr style=\"text-align: right;\">\n",
       "      <th></th>\n",
       "      <th>CoC Number</th>\n",
       "      <th>CoC Category</th>\n",
       "    </tr>\n",
       "  </thead>\n",
       "  <tbody>\n",
       "    <tr>\n",
       "      <th>0</th>\n",
       "      <td>AK-500</td>\n",
       "      <td>Other Largely Urban CoC</td>\n",
       "    </tr>\n",
       "    <tr>\n",
       "      <th>1</th>\n",
       "      <td>AK-501</td>\n",
       "      <td>Largely Rural CoC</td>\n",
       "    </tr>\n",
       "    <tr>\n",
       "      <th>2</th>\n",
       "      <td>AL-500</td>\n",
       "      <td>Largely Suburban CoC</td>\n",
       "    </tr>\n",
       "    <tr>\n",
       "      <th>3</th>\n",
       "      <td>AL-501</td>\n",
       "      <td>Other Largely Urban CoC</td>\n",
       "    </tr>\n",
       "    <tr>\n",
       "      <th>4</th>\n",
       "      <td>AL-502</td>\n",
       "      <td>Largely Rural CoC</td>\n",
       "    </tr>\n",
       "    <tr>\n",
       "      <th>...</th>\n",
       "      <td>...</td>\n",
       "      <td>...</td>\n",
       "    </tr>\n",
       "    <tr>\n",
       "      <th>387</th>\n",
       "      <td>WV-500</td>\n",
       "      <td>Largely Rural CoC</td>\n",
       "    </tr>\n",
       "    <tr>\n",
       "      <th>388</th>\n",
       "      <td>WV-501</td>\n",
       "      <td>Largely Rural CoC</td>\n",
       "    </tr>\n",
       "    <tr>\n",
       "      <th>389</th>\n",
       "      <td>WV-503</td>\n",
       "      <td>Largely Suburban CoC</td>\n",
       "    </tr>\n",
       "    <tr>\n",
       "      <th>390</th>\n",
       "      <td>WV-508</td>\n",
       "      <td>Largely Rural CoC</td>\n",
       "    </tr>\n",
       "    <tr>\n",
       "      <th>391</th>\n",
       "      <td>WY-500</td>\n",
       "      <td>Largely Rural CoC</td>\n",
       "    </tr>\n",
       "  </tbody>\n",
       "</table>\n",
       "<p>392 rows × 2 columns</p>\n",
       "</div>"
      ],
      "text/plain": [
       "    CoC Number             CoC Category\n",
       "0       AK-500  Other Largely Urban CoC\n",
       "1       AK-501        Largely Rural CoC\n",
       "2       AL-500     Largely Suburban CoC\n",
       "3       AL-501  Other Largely Urban CoC\n",
       "4       AL-502        Largely Rural CoC\n",
       "..         ...                      ...\n",
       "387     WV-500        Largely Rural CoC\n",
       "388     WV-501        Largely Rural CoC\n",
       "389     WV-503     Largely Suburban CoC\n",
       "390     WV-508        Largely Rural CoC\n",
       "391     WY-500        Largely Rural CoC\n",
       "\n",
       "[392 rows x 2 columns]"
      ]
     },
     "execution_count": 48,
     "metadata": {},
     "output_type": "execute_result"
    }
   ],
   "source": []
  },
  {
   "cell_type": "code",
   "execution_count": null,
   "id": "valuable-tradition",
   "metadata": {},
   "outputs": [],
   "source": []
  }
 ],
 "metadata": {
  "kernelspec": {
   "display_name": "mlenv",
   "language": "python",
   "name": "mlenv"
  },
  "language_info": {
   "codemirror_mode": {
    "name": "ipython",
    "version": 3
   },
   "file_extension": ".py",
   "mimetype": "text/x-python",
   "name": "python",
   "nbconvert_exporter": "python",
   "pygments_lexer": "ipython3",
   "version": "3.8.8"
  }
 },
 "nbformat": 4,
 "nbformat_minor": 5
}
