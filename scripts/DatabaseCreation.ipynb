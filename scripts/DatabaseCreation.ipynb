{
 "cells": [
  {
   "cell_type": "code",
   "execution_count": 1,
   "id": "billion-partner",
   "metadata": {},
   "outputs": [],
   "source": [
    "import pandas as pd\n",
    "import sqlite3\n",
    "import os"
   ]
  },
  {
   "cell_type": "code",
   "execution_count": 2,
   "id": "incorporated-employment",
   "metadata": {},
   "outputs": [
    {
     "name": "stdout",
     "output_type": "stream",
     "text": [
      "Cleared Database\n"
     ]
    }
   ],
   "source": [
    "# Clear Database and create connection\n",
    "try:\n",
    "    os.remove('../HomelessData.db')\n",
    "    print(\"Cleared Database\")\n",
    "except Exception as E : \n",
    "    print(\"Could not clear database\")\n",
    "    print(E)\n",
    "conn = sqlite3.connect('../HomelessData.db')\n",
    "c = conn.cursor()"
   ]
  },
  {
   "cell_type": "code",
   "execution_count": 3,
   "id": "ideal-noise",
   "metadata": {},
   "outputs": [
    {
     "name": "stdout",
     "output_type": "stream",
     "text": [
      "Gathered Data from 2020\n",
      "Gathered Data from 2019\n",
      "Gathered Data from 2018\n",
      "Gathered Data from 2017\n",
      "Gathered Data from 2016\n",
      "Gathered Data from 2015\n",
      "Gathered Data from 2014\n",
      "Couldnt get data from 2013\n",
      "Finished\n"
     ]
    },
    {
     "name": "stderr",
     "output_type": "stream",
     "text": [
      "C:\\Users\\Jonat\\anaconda3\\lib\\site-packages\\openpyxl\\worksheet\\header_footer.py:48: UserWarning: Cannot parse header or footer so it will be ignored\n",
      "  warn(\"\"\"Cannot parse header or footer so it will be ignored\"\"\")\n"
     ]
    }
   ],
   "source": [
    "# Create ShelterAvalibility dataframe and database\n",
    "for sheet in [\"2020\",\"2019\",\"2018\",\"2017\",\"2016\",\"2015\",\"2014\",\"2013\"]: \n",
    "    try: \n",
    "        hic_df = pd.read_excel(\"../resources/2007-2020-HIC-Counts-by-CoC.xlsx\",sheet,skiprows=[0],skipfooter=1)\n",
    "\n",
    "        # Adjust Column\n",
    "        hic_df.rename(columns = {'CoC Number' : 'Coc','Total Year-Round Beds (ES, TH, SH)' : 'Total','Total Year-Round Beds (ES)' : 'Emergency','Total Year-Round Beds (TH)' : 'Transitional','Total Year-Round Beds (SH)' : 'SafeHaven','Total Year-Round Beds (RRH)' : 'RapidRehousing','Total Year-Round Beds (PSH)' : 'PermanentSupportive','Total Year-Round Beds (OPH)' : 'PermanentOther'},inplace=True)\n",
    "        hic_df = hic_df[[\"Coc\", \"Total\", \"Emergency\", \"Transitional\", \"SafeHaven\", \"RapidRehousing\", \"PermanentSupportive\", \"PermanentOther\"]]\n",
    "        hic_df[\"Year\"] = sheet\n",
    "        hic_df[\"CocYear\"] = hic_df[\"Coc\"] +\" \"+ hic_df[\"Year\"]\n",
    "\n",
    "        # Insert Into DB\n",
    "        hic_df.to_sql(\"shelterAvalibility\",con=conn,if_exists = 'append',index=False)\n",
    "        print(f\"Gathered Data from {sheet}\")\n",
    "    except Exception as E:\n",
    "        print(f\"Couldnt get data from {sheet}\")\n",
    "print(\"Finished\")"
   ]
  },
  {
   "cell_type": "code",
   "execution_count": null,
   "id": "bearing-official",
   "metadata": {},
   "outputs": [
    {
     "name": "stdout",
     "output_type": "stream",
     "text": [
      "Gathered Data from 2020\n"
     ]
    }
   ],
   "source": [
    "# Create PIT and CityData dataframe and database\n",
    "for sheet in [\"2020\",\"2019\",\"2018\",\"2017\",\"2016\",\"2015\",\"2014\",\"2013\"]: \n",
    "    try:\n",
    "        pit_df = pd.read_excel(\"../resources/2007-2020-PIT-Estimates-by-CoC.xlsx\",sheet,skipfooter=3)\n",
    "\n",
    "        # Rename pit_df columns\n",
    "        pit_df.rename(columns = {'CoC Number' : 'Coc',f'Overall Homeless, {sheet}' : \"Total\",f'Unsheltered Homeless, {sheet}' : \"Unsheltered\"},inplace=True)\n",
    "\n",
    "        # Create New Columns\n",
    "        pit_df[\"Sheltered\"] = pit_df[\"Total\"]-pit_df[\"Unsheltered\"]\n",
    "        pit_df = pit_df[['Coc','Total','Unsheltered','Sheltered']]\n",
    "        pit_df[\"Year\"] = sheet\n",
    "        pit_df[\"CocYear\"] = pit_df[\"Coc\"] +\" \"+ pit_df[\"Year\"]\n",
    "\n",
    "        # Create HomelessData table\n",
    "        pit_df.to_sql(\"HomelessCounts\",con=conn,if_exists='append',index=False)\n",
    "        print(f\"Gathered Data from {sheet}\")\n",
    "    except Exception as E : \n",
    "        print(f\"Couldnt get data from {sheet}\")\n",
    "print(\"Finished\")"
   ]
  },
  {
   "cell_type": "code",
   "execution_count": null,
   "id": "julian-contamination",
   "metadata": {},
   "outputs": [],
   "source": [
    "# Merging the Homeless counts and Shelter avalibility tables\n",
    "c.execute(\"\"\"\n",
    "CREATE TABLE CocData AS\n",
    "SELECT * FROM ShelterAvalibility\n",
    "JOIN HomelessCounts\n",
    "ON ShelterAvalibility.CocYear = HomelessCounts.CocYear\n",
    "\"\"\")\n",
    "c.execute(\"ALTER TABLE CocData DROP 'CocYear:1';\")\n",
    "c.execute(\"ALTER TABLE CocData DROP 'Coc:1';\")\n",
    "c.execute(\"ALTER TABLE CocData DROP 'Year:1';\")"
   ]
  },
  {
   "cell_type": "code",
   "execution_count": null,
   "id": "strange-annex",
   "metadata": {},
   "outputs": [],
   "source": [
    "# Create The Funding Database and Dataframe\n",
    "for sheet in [\"2020\",\"2019\",\"2018\",\"2017\",\"2016\",\"2015\",\"2014\",\"2013\"]:\n",
    "    try:\n",
    "        awards_df = pd.read_excel(\"../resources/2019-Awards-by-CoC-Component-Project.xlsx\",sheet)\n",
    "        awards_df.rename(columns = {\"CoC Number\" : \"CoC\"},inplace=True)\n",
    "        awards_df = awards_df[[\"CoC\",\"Component\",\"Awarded Amount\"]]\n",
    "        awards_df[\"Year\"] = sheet\n",
    "        awards_df.to_sql(\"FundingData\",con=conn,if_exists='append')\n",
    "        print(f\"Gathered Data from {sheet}\")\n",
    "    except Exception as E : \n",
    "        print(f\"Couldnt gather data from {sheet}\")\n",
    "        \n",
    "print(\"Finished\")"
   ]
  },
  {
   "cell_type": "code",
   "execution_count": null,
   "id": "gothic-stone",
   "metadata": {
    "scrolled": true
   },
   "outputs": [],
   "source": [
    "# Create the Coc Meta\n",
    "df = pd.read_excel(\"../resources/2007-2020-PIT-Estimates-by-CoC.xlsx\",skipfooter=3)[['CoC Number',\"CoC Category\"]]\n",
    "df.to_sql(\"CocMeta\",con=conn)"
   ]
  },
  {
   "cell_type": "code",
   "execution_count": null,
   "id": "stuck-mailman",
   "metadata": {},
   "outputs": [],
   "source": [
    "# Create CountyMeta\n",
    "city_meta_df = pd.read_csv(\"../Resources\\county_level_data\\county_coc_source.csv\")\n",
    "lat_lng_df = pd.read_csv(\"../Resources\\county_level_data\\wiki_county_lat_long.csv\",skiprows = [1])[[\"FIPS\",\"Latitude\",\"Longitude\"]]\n",
    "df = pd.merge(city_meta_df,lat_lng_df, on=\"FIPS\")\n",
    "df.rename(columns = {\"number\" : \"Coc\"},inplace=True)\n",
    "df.to_sql(\"CountyMeta\",con=conn)"
   ]
  },
  {
   "cell_type": "code",
   "execution_count": null,
   "id": "diverse-suffering",
   "metadata": {},
   "outputs": [],
   "source": [
    "df\n"
   ]
  },
  {
   "cell_type": "code",
   "execution_count": null,
   "id": "valuable-tradition",
   "metadata": {},
   "outputs": [],
   "source": []
  },
  {
   "cell_type": "code",
   "execution_count": null,
   "id": "dried-anderson",
   "metadata": {},
   "outputs": [],
   "source": []
  }
 ],
 "metadata": {
  "kernelspec": {
   "display_name": "mlenv",
   "language": "python",
   "name": "mlenv"
  },
  "language_info": {
   "codemirror_mode": {
    "name": "ipython",
    "version": 3
   },
   "file_extension": ".py",
   "mimetype": "text/x-python",
   "name": "python",
   "nbconvert_exporter": "python",
   "pygments_lexer": "ipython3",
   "version": "3.8.8"
  }
 },
 "nbformat": 4,
 "nbformat_minor": 5
}
