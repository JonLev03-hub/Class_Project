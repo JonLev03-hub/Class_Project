{
 "cells": [
  {
   "cell_type": "code",
   "execution_count": 1,
   "id": "billion-partner",
   "metadata": {},
   "outputs": [],
   "source": [
    "import pandas as pd\n",
    "import sqlite3"
   ]
  },
  {
   "cell_type": "code",
   "execution_count": 2,
   "id": "incorporated-employment",
   "metadata": {},
   "outputs": [],
   "source": [
    "# Create Database Connection\n",
    "conn = sqlite3.connect('../HomelessData.db')\n",
    "c = conn.cursor()"
   ]
  },
  {
   "cell_type": "code",
   "execution_count": 3,
   "id": "ideal-noise",
   "metadata": {},
   "outputs": [],
   "source": [
    "# Create HIC dataframe and database\n",
    "for sheet in [\"2018\",\"2019\"] : \n",
    "    hic_df = pd.read_excel(\"../resources/2007-2020-HIC-Counts-by-CoC.xlsx\",sheet,skiprows=[0],skipfooter=1)\n",
    "    \n",
    "    # Adjust Column\n",
    "    hic_df.rename(columns = {'CoC Number' : 'Coc','Total Year-Round Beds (ES, TH, SH)' : 'Total','Total Year-Round Beds (ES)' : 'Emergency','Total Year-Round Beds (TH)' : 'Transitional','Total Year-Round Beds (SH)' : 'SafeHaven','Total Year-Round Beds (RRH)' : 'RapidRehousing','Total Year-Round Beds (PSH)' : 'PermanentSupportive','Total Year-Round Beds (OPH)' : 'PermanentOther'},inplace=True)\n",
    "    hic_df = hic_df[[\"Coc\", \"Total\", \"Emergency\", \"Transitional\", \"SafeHaven\", \"RapidRehousing\", \"PermanentSupportive\", \"PermanentOther\"]]\n",
    "    hic_df[\"Year\"] = sheet\n",
    "    \n",
    "    # Insert Into DB\n",
    "    hic_df.to_sql(\"shelterAvalibility\",con=conn,if_exists = 'append',index=False)"
   ]
  },
  {
   "cell_type": "code",
   "execution_count": 5,
   "id": "bearing-official",
   "metadata": {},
   "outputs": [
    {
     "name": "stderr",
     "output_type": "stream",
     "text": [
      "C:\\Users\\Jonat\\anaconda3\\lib\\site-packages\\pandas\\core\\generic.py:2779: UserWarning: The spaces in these column names will not be changed. In pandas versions < 0.14, spaces were converted to underscores.\n",
      "  sql.to_sql(\n"
     ]
    }
   ],
   "source": [
    "# Create PIT and CityData dataframe and database\n",
    "for sheet in [\"2018\",\"2019\"] : \n",
    "    pit_df = pd.read_excel(\"../resources/2007-2020-PIT-Estimates-by-CoC.xlsx\",sheet,skipfooter=3)\n",
    "    \n",
    "    # Rename pit_df columns\n",
    "    pit_df.rename(columns = {'CoC Number' : 'Coc',f'Overall Homeless, {sheet}' : \"Total\",f'Unsheltered Homeless, {sheet}' : \"Unsheltered\"},inplace=True)\n",
    "    \n",
    "    #Create CityData Database\n",
    "    pit_df[[\"Coc\",\"CoC Name\"]].to_sql(\"CityData\",con=conn,if_exists = \"replace\")\n",
    "    \n",
    "    # Create New Columns\n",
    "    pit_df[\"Sheltered\"] = pit_df[\"Total\"]-pit_df[\"Unsheltered\"]\n",
    "    pit_df = pit_df[['Coc','Total','Unsheltered','Sheltered']]\n",
    "    pit_df[\"Year\"] = sheet\n",
    "    \n",
    "    # Create HomelessData table\n",
    "    pit_df.to_sql(\"HomelessCounts\",con=conn,if_exists='append',index=False)"
   ]
  },
  {
   "cell_type": "code",
   "execution_count": 7,
   "id": "strange-annex",
   "metadata": {},
   "outputs": [],
   "source": [
    "# Create The Funding Database and Dataframe\n",
    "for sheet in [\"2018\",\"2019\"] :\n",
    "    awards_df = pd.read_excel(\"../resources/2019-Awards-by-CoC-Component-Project.xlsx\",sheet)\n",
    "    awards_df.rename(columns = {\"CoC Number\" : \"CoC\"},inplace=True)\n",
    "    awards_df = awards_df[[\"CoC\",\"Component\",\"Awarded Amount\"]]\n",
    "    awards_df[\"Year\"] = sheet\n",
    "    awards_df.to_sql(\"FundingData\",con=conn,if_exists='append')"
   ]
  },
  {
   "cell_type": "code",
   "execution_count": 12,
   "id": "gothic-stone",
   "metadata": {},
   "outputs": [
    {
     "data": {
      "text/plain": [
       "[(0, 'AK-500', 'PH - Permanent Supportive Housing', 542530, '2018')]"
      ]
     },
     "execution_count": 12,
     "metadata": {},
     "output_type": "execute_result"
    }
   ],
   "source": []
  },
  {
   "cell_type": "code",
   "execution_count": null,
   "id": "instructional-agency",
   "metadata": {},
   "outputs": [],
   "source": []
  }
 ],
 "metadata": {
  "kernelspec": {
   "display_name": "mlenv",
   "language": "python",
   "name": "mlenv"
  },
  "language_info": {
   "codemirror_mode": {
    "name": "ipython",
    "version": 3
   },
   "file_extension": ".py",
   "mimetype": "text/x-python",
   "name": "python",
   "nbconvert_exporter": "python",
   "pygments_lexer": "ipython3",
   "version": "3.8.8"
  }
 },
 "nbformat": 4,
 "nbformat_minor": 5
}
