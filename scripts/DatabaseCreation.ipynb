{
 "cells": [
  {
   "cell_type": "code",
   "execution_count": 1,
   "id": "billion-partner",
   "metadata": {},
   "outputs": [],
   "source": [
    "import pandas as pd\n",
    "import sqlite3\n",
    "import os"
   ]
  },
  {
   "cell_type": "code",
   "execution_count": 2,
   "id": "incorporated-employment",
   "metadata": {},
   "outputs": [
    {
     "name": "stdout",
     "output_type": "stream",
     "text": [
      "Could not clear database\n",
      "[WinError 2] The system cannot find the file specified: '../HomelessData.db'\n"
     ]
    }
   ],
   "source": [
    "# Clear Database and create connection\n",
    "try:\n",
    "\n",
    "    os.remove('../HomelessData.db')\n",
    "    print(\"Cleared Database\")\n",
    "except Exception as E : \n",
    "    print(\"Could not clear database\")\n",
    "    print(E)\n",
    "conn = sqlite3.connect('../HomelessData.db')\n",
    "c = conn.cursor()"
   ]
  },
  {
   "cell_type": "code",
   "execution_count": 3,
   "id": "ideal-noise",
   "metadata": {},
   "outputs": [
    {
     "name": "stdout",
     "output_type": "stream",
     "text": [
      "Gathered Data from 2020\n",
      "Gathered Data from 2019\n",
      "Gathered Data from 2018\n",
      "Gathered Data from 2017\n",
      "Gathered Data from 2016\n",
      "Gathered Data from 2015\n",
      "Gathered Data from 2014\n",
      "Couldnt get data from 2013\n",
      "Finished\n"
     ]
    },
    {
     "name": "stderr",
     "output_type": "stream",
     "text": [
      "C:\\Users\\smshe\\anaconda3\\envs\\mlenv\\lib\\site-packages\\openpyxl\\worksheet\\header_footer.py:48: UserWarning: Cannot parse header or footer so it will be ignored\n",
      "  warn(\"\"\"Cannot parse header or footer so it will be ignored\"\"\")\n"
     ]
    }
   ],
   "source": [
    "# Create ShelterAvalibility dataframe and database\n",
    "for sheet in [\"2020\",\"2019\",\"2018\",\"2017\",\"2016\",\"2015\",\"2014\",\"2013\"]: \n",
    "    try: \n",
    "        hic_df = pd.read_excel(\"../resources/2007-2020-HIC-Counts-by-CoC.xlsx\",sheet,skiprows=[0],skipfooter=1)\n",
    "\n",
    "        # Adjust Column\n",
    "        hic_df.rename(columns = {'CoC Number' : 'Coc','Total Year-Round Beds (ES, TH, SH)' : 'Total','Total Year-Round Beds (ES)' : 'Emergency','Total Year-Round Beds (TH)' : 'Transitional','Total Year-Round Beds (SH)' : 'SafeHaven','Total Year-Round Beds (RRH)' : 'RapidRehousing','Total Year-Round Beds (PSH)' : 'PermanentSupportive','Total Year-Round Beds (OPH)' : 'PermanentOther'},inplace=True)\n",
    "        hic_df = hic_df[[\"Coc\", \"Total\", \"Emergency\", \"Transitional\", \"SafeHaven\", \"RapidRehousing\", \"PermanentSupportive\", \"PermanentOther\"]]\n",
    "        hic_df[\"Year\"] = sheet\n",
    "        hic_df[\"CocYear\"] = hic_df[\"Coc\"] +\" \"+ hic_df[\"Year\"]\n",
    "\n",
    "        # Insert Into DB\n",
    "        hic_df.to_sql(\"shelterAvalibility\",con=conn,if_exists = 'append',index=False)\n",
    "        print(f\"Gathered Data from {sheet}\")\n",
    "    except Exception as E:\n",
    "        print(f\"Couldnt get data from {sheet}\")\n",
    "print(\"Finished\")"
   ]
  },
  {
   "cell_type": "code",
   "execution_count": 4,
   "id": "bearing-official",
   "metadata": {},
   "outputs": [
    {
     "name": "stdout",
     "output_type": "stream",
     "text": [
      "Gathered Data from 2020\n",
      "Gathered Data from 2019\n",
      "Gathered Data from 2018\n",
      "Gathered Data from 2017\n",
      "Gathered Data from 2016\n",
      "Gathered Data from 2015\n",
      "Gathered Data from 2014\n",
      "Gathered Data from 2013\n",
      "Finished\n"
     ]
    }
   ],
   "source": [
    "# Create PIT and coc dataframe and database\n",
    "for sheet in [\"2020\",\"2019\",\"2018\",\"2017\",\"2016\",\"2015\",\"2014\",\"2013\"]: \n",
    "    try:\n",
    "        pit_df = pd.read_excel(\"../resources/2007-2020-PIT-Estimates-by-CoC.xlsx\",sheet,skipfooter=3)\n",
    "\n",
    "        # Rename pit_df columns\n",
    "        pit_df.rename(columns = {'CoC Number' : 'Coc',f'Overall Homeless, {sheet}' : \"Total\",f'Unsheltered Homeless, {sheet}' : \"Unsheltered\"},inplace=True)\n",
    "\n",
    "        # Create New Columns\n",
    "        pit_df[\"Sheltered\"] = pit_df[\"Total\"]-pit_df[\"Unsheltered\"]\n",
    "        pit_df = pit_df[['Coc','Total','Unsheltered','Sheltered']]\n",
    "        pit_df[\"Year\"] = sheet\n",
    "        pit_df[\"CocYear\"] = pit_df[\"Coc\"] +\" \"+ pit_df[\"Year\"]\n",
    "\n",
    "        # Create HomelessData table\n",
    "        pit_df.to_sql(\"HomelessCounts\",con=conn,if_exists='append',index=False)\n",
    "        print(f\"Gathered Data from {sheet}\")\n",
    "    except Exception as E : \n",
    "        print(f\"Couldnt get data from {sheet}\")\n",
    "print(\"Finished\")"
   ]
  },
  {
   "cell_type": "code",
   "execution_count": 5,
   "id": "julian-contamination",
   "metadata": {},
   "outputs": [
    {
     "data": {
      "text/plain": [
       "<sqlite3.Cursor at 0x1f4e9920ea0>"
      ]
     },
     "execution_count": 5,
     "metadata": {},
     "output_type": "execute_result"
    }
   ],
   "source": [
    "# Merging the Homeless counts and Shelter avalibility tables\n",
    "c.execute(\"\"\"\n",
    "CREATE TABLE CocData AS\n",
    "SELECT * FROM ShelterAvalibility\n",
    "JOIN HomelessCounts\n",
    "ON ShelterAvalibility.CocYear = HomelessCounts.CocYear\n",
    "\"\"\")\n",
    "c.execute(\"ALTER TABLE CocData DROP 'CocYear:1';\")\n",
    "c.execute(\"ALTER TABLE CocData DROP 'Coc:1';\")\n",
    "c.execute(\"ALTER TABLE CocData DROP 'Year:1';\")"
   ]
  },
  {
   "cell_type": "code",
   "execution_count": 6,
   "id": "strange-annex",
   "metadata": {},
   "outputs": [
    {
     "name": "stdout",
     "output_type": "stream",
     "text": [
      "Couldnt gather data from 2020\n"
     ]
    },
    {
     "name": "stderr",
     "output_type": "stream",
     "text": [
      "C:\\Users\\smshe\\anaconda3\\envs\\mlenv\\lib\\site-packages\\pandas\\core\\generic.py:2882: UserWarning: The spaces in these column names will not be changed. In pandas versions < 0.14, spaces were converted to underscores.\n",
      "  method=method,\n"
     ]
    },
    {
     "name": "stdout",
     "output_type": "stream",
     "text": [
      "Gathered Data from 2019\n",
      "Gathered Data from 2018\n",
      "Couldnt gather data from 2017\n",
      "Couldnt gather data from 2016\n",
      "Couldnt gather data from 2015\n",
      "Couldnt gather data from 2014\n",
      "Couldnt gather data from 2013\n",
      "Finished\n"
     ]
    }
   ],
   "source": [
    "# Create The Funding Database and Dataframe\n",
    "for sheet in [\"2020\",\"2019\",\"2018\",\"2017\",\"2016\",\"2015\",\"2014\",\"2013\"]:\n",
    "    try:\n",
    "        awards_df = pd.read_excel(\"../resources/2019-Awards-by-CoC-Component-Project.xlsx\",sheet)\n",
    "        awards_df.rename(columns = {\"CoC Number\" : \"CoC\"},inplace=True)\n",
    "        awards_df = awards_df[[\"CoC\",\"Component\",\"Awarded Amount\"]]\n",
    "        awards_df[\"Year\"] = sheet\n",
    "        awards_df.to_sql(\"FundingData\",con=conn,if_exists='append',index=False)\n",
    "        print(f\"Gathered Data from {sheet}\")\n",
    "    except Exception as E : \n",
    "        print(f\"Couldnt gather data from {sheet}\")\n",
    "        \n",
    "print(\"Finished\")"
   ]
  },
  {
   "cell_type": "code",
   "execution_count": 7,
   "id": "gothic-stone",
   "metadata": {
    "scrolled": true
   },
   "outputs": [],
   "source": [
    "# Create the Coc Meta\n",
    "df = pd.read_excel(\"../resources/2007-2020-PIT-Estimates-by-CoC.xlsx\",skipfooter=3)[['CoC Number',\"CoC Category\"]]\n",
    "df.to_sql(\"CocMeta\",con=conn,index=False)"
   ]
  },
  {
   "cell_type": "code",
   "execution_count": 8,
   "id": "stuck-mailman",
   "metadata": {},
   "outputs": [],
   "source": [
    "# Create CountyMeta\n",
    "county_meta_df = pd.read_csv(\"../Resources\\county_level_data\\county_coc_source.csv\")\n",
    "lat_lng_df = pd.read_csv(\"../Resources\\county_level_data\\wiki_county_lat_long.csv\",skiprows = [1])[[\"FIPS\",\"Latitude\",\"Longitude\"]]\n",
    "df = pd.merge(county_meta_df,lat_lng_df, on=\"FIPS\")\n",
    "df.rename(columns = {\"number\" : \"Coc\"},inplace=True)\n",
    "df.to_sql(\"CountyMeta\",con=conn,index=False)"
   ]
  },
  {
   "cell_type": "code",
   "execution_count": 9,
   "id": "diverse-suffering",
   "metadata": {
    "scrolled": true
   },
   "outputs": [
    {
     "name": "stdout",
     "output_type": "stream",
     "text": [
      "Gathered Data from 2019\n",
      "Gathered Data from 2018\n",
      "Gathered Data from 2017\n",
      "Gathered Data from 2016\n",
      "Gathered Data from 2015\n",
      "Gathered Data from 2014\n",
      "Gathered Data from 2013\n",
      "Finished\n"
     ]
    },
    {
     "name": "stderr",
     "output_type": "stream",
     "text": [
      "C:\\Users\\smshe\\anaconda3\\envs\\mlenv\\lib\\site-packages\\pandas\\core\\frame.py:5047: SettingWithCopyWarning: \n",
      "A value is trying to be set on a copy of a slice from a DataFrame\n",
      "\n",
      "See the caveats in the documentation: https://pandas.pydata.org/pandas-docs/stable/user_guide/indexing.html#returning-a-view-versus-a-copy\n",
      "  errors=errors,\n",
      "C:\\Users\\smshe\\anaconda3\\envs\\mlenv\\lib\\site-packages\\ipykernel_launcher.py:7: SettingWithCopyWarning: \n",
      "A value is trying to be set on a copy of a slice from a DataFrame.\n",
      "Try using .loc[row_indexer,col_indexer] = value instead\n",
      "\n",
      "See the caveats in the documentation: https://pandas.pydata.org/pandas-docs/stable/user_guide/indexing.html#returning-a-view-versus-a-copy\n",
      "  import sys\n"
     ]
    }
   ],
   "source": [
    "# Create County Data Table\n",
    "county_data_df = pd.read_csv(\"../Resources\\county_level_data\\county_data.csv\")\n",
    "clean_df = pd.DataFrame()\n",
    "for column in [\"2019\",\"2018\",\"2017\",\"2016\",\"2015\",\"2014\",\"2013\"]: \n",
    "    df = county_data_df[[\"FIPS\",f\"{column}_population\",f\"Unemployment_rate_{column}\"]]\n",
    "    df.rename(columns = {f\"{column}_population\" : \"Population\",f\"Unemployment_rate_{column}\" : \"Unemploment\"},inplace=True)\n",
    "    df[\"year\"] = column\n",
    "    df.to_sql(\"CountyData\",if_exists = \"append\",con=conn,index=False)\n",
    "    print(f\"Gathered Data from {column}\")\n",
    "print(\"Finished\")"
   ]
  },
  {
   "cell_type": "code",
   "execution_count": 10,
   "id": "detailed-fundamental",
   "metadata": {},
   "outputs": [
    {
     "data": {
      "text/html": [
       "<div>\n",
       "<style scoped>\n",
       "    .dataframe tbody tr th:only-of-type {\n",
       "        vertical-align: middle;\n",
       "    }\n",
       "\n",
       "    .dataframe tbody tr th {\n",
       "        vertical-align: top;\n",
       "    }\n",
       "\n",
       "    .dataframe thead th {\n",
       "        text-align: right;\n",
       "    }\n",
       "</style>\n",
       "<table border=\"1\" class=\"dataframe\">\n",
       "  <thead>\n",
       "    <tr style=\"text-align: right;\">\n",
       "      <th></th>\n",
       "      <th>FIPS</th>\n",
       "      <th>Population</th>\n",
       "      <th>Unemploment</th>\n",
       "      <th>year</th>\n",
       "    </tr>\n",
       "  </thead>\n",
       "  <tbody>\n",
       "    <tr>\n",
       "      <th>0</th>\n",
       "      <td>1001</td>\n",
       "      <td>55,869</td>\n",
       "      <td>2.7</td>\n",
       "      <td>2019</td>\n",
       "    </tr>\n",
       "    <tr>\n",
       "      <th>1</th>\n",
       "      <td>1003</td>\n",
       "      <td>223,234</td>\n",
       "      <td>2.8</td>\n",
       "      <td>2019</td>\n",
       "    </tr>\n",
       "    <tr>\n",
       "      <th>2</th>\n",
       "      <td>1005</td>\n",
       "      <td>24,686</td>\n",
       "      <td>3.8</td>\n",
       "      <td>2019</td>\n",
       "    </tr>\n",
       "    <tr>\n",
       "      <th>3</th>\n",
       "      <td>1007</td>\n",
       "      <td>22,394</td>\n",
       "      <td>3.1</td>\n",
       "      <td>2019</td>\n",
       "    </tr>\n",
       "    <tr>\n",
       "      <th>4</th>\n",
       "      <td>1009</td>\n",
       "      <td>57,826</td>\n",
       "      <td>2.7</td>\n",
       "      <td>2019</td>\n",
       "    </tr>\n",
       "    <tr>\n",
       "      <th>...</th>\n",
       "      <td>...</td>\n",
       "      <td>...</td>\n",
       "      <td>...</td>\n",
       "      <td>...</td>\n",
       "    </tr>\n",
       "    <tr>\n",
       "      <th>21975</th>\n",
       "      <td>56037</td>\n",
       "      <td>45,157</td>\n",
       "      <td>4.4</td>\n",
       "      <td>2013</td>\n",
       "    </tr>\n",
       "    <tr>\n",
       "      <th>21976</th>\n",
       "      <td>56039</td>\n",
       "      <td>22,315</td>\n",
       "      <td>5.7</td>\n",
       "      <td>2013</td>\n",
       "    </tr>\n",
       "    <tr>\n",
       "      <th>21977</th>\n",
       "      <td>56041</td>\n",
       "      <td>20,951</td>\n",
       "      <td>5.3</td>\n",
       "      <td>2013</td>\n",
       "    </tr>\n",
       "    <tr>\n",
       "      <th>21978</th>\n",
       "      <td>56043</td>\n",
       "      <td>8,413</td>\n",
       "      <td>5.0</td>\n",
       "      <td>2013</td>\n",
       "    </tr>\n",
       "    <tr>\n",
       "      <th>21979</th>\n",
       "      <td>56045</td>\n",
       "      <td>7,136</td>\n",
       "      <td>3.6</td>\n",
       "      <td>2013</td>\n",
       "    </tr>\n",
       "  </tbody>\n",
       "</table>\n",
       "<p>21980 rows × 4 columns</p>\n",
       "</div>"
      ],
      "text/plain": [
       "        FIPS Population  Unemploment  year\n",
       "0       1001     55,869          2.7  2019\n",
       "1       1003    223,234          2.8  2019\n",
       "2       1005     24,686          3.8  2019\n",
       "3       1007     22,394          3.1  2019\n",
       "4       1009     57,826          2.7  2019\n",
       "...      ...        ...          ...   ...\n",
       "21975  56037     45,157          4.4  2013\n",
       "21976  56039     22,315          5.7  2013\n",
       "21977  56041     20,951          5.3  2013\n",
       "21978  56043      8,413          5.0  2013\n",
       "21979  56045      7,136          3.6  2013\n",
       "\n",
       "[21980 rows x 4 columns]"
      ]
     },
     "execution_count": 10,
     "metadata": {},
     "output_type": "execute_result"
    }
   ],
   "source": [
    "pd.read_sql(\"SELECT * FROM CountyData\",con=conn)"
   ]
  },
  {
   "cell_type": "code",
   "execution_count": null,
   "id": "urban-powell",
   "metadata": {},
   "outputs": [],
   "source": []
  }
 ],
 "metadata": {
  "kernelspec": {
   "display_name": "mlenv",
   "language": "python",
   "name": "mlenv"
  },
  "language_info": {
   "codemirror_mode": {
    "name": "ipython",
    "version": 3
   },
   "file_extension": ".py",
   "mimetype": "text/x-python",
   "name": "python",
   "nbconvert_exporter": "python",
   "pygments_lexer": "ipython3",
   "version": "3.7.11"
  }
 },
 "nbformat": 4,
 "nbformat_minor": 5
}
